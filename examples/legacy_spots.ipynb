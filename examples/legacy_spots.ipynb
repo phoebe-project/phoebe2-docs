{
 "cells": [
  {
   "cell_type": "markdown",
   "metadata": {},
   "source": [
    "Comparing Spots in PHOEBE 2 vs PHOEBE Legacy\n",
    "============================\n",
    "\n",
    "Setup\n",
    "-----------------------------"
   ]
  },
  {
   "cell_type": "markdown",
   "metadata": {
    "collapsed": true
   },
   "source": [
    "As always, let's do imports and initialize a logger and a new bundle.  See [Building a System](../tutorials/building_a_system.html) for more details."
   ]
  },
  {
   "cell_type": "code",
   "execution_count": 1,
   "metadata": {},
   "outputs": [],
   "source": [
    "%matplotlib inline"
   ]
  },
  {
   "cell_type": "code",
   "execution_count": 2,
   "metadata": {},
   "outputs": [],
   "source": [
    "import phoebe\n",
    "from phoebe import u # units\n",
    "import numpy as np\n",
    "import matplotlib.pyplot as plt\n",
    "\n",
    "logger = phoebe.logger()\n",
    "\n",
    "b = phoebe.default_binary()"
   ]
  },
  {
   "cell_type": "markdown",
   "metadata": {
    "collapsed": true
   },
   "source": [
    "Adding Spots and Compute Options\n",
    "---------------------"
   ]
  },
  {
   "cell_type": "code",
   "execution_count": 3,
   "metadata": {},
   "outputs": [
    {
     "data": {
      "text/plain": [
       "<ParameterSet: 4 parameters | qualifiers: colat, radius, long, relteff>"
      ]
     },
     "execution_count": 3,
     "metadata": {},
     "output_type": "execute_result"
    }
   ],
   "source": [
    "b.add_spot(component='primary', relteff=0.8, radius=20, colat=45, colon=90, feature='spot01')"
   ]
  },
  {
   "cell_type": "code",
   "execution_count": 4,
   "metadata": {},
   "outputs": [
    {
     "data": {
      "text/plain": [
       "<ParameterSet: 15 parameters | contexts: compute, dataset>"
      ]
     },
     "execution_count": 4,
     "metadata": {},
     "output_type": "execute_result"
    }
   ],
   "source": [
    "b.add_dataset('lc', times=np.linspace(0,1,101))"
   ]
  },
  {
   "cell_type": "code",
   "execution_count": 5,
   "metadata": {},
   "outputs": [
    {
     "data": {
      "text/plain": [
       "<ParameterSet: 17 parameters | components: primary, secondary>"
      ]
     },
     "execution_count": 5,
     "metadata": {},
     "output_type": "execute_result"
    }
   ],
   "source": [
    "b.add_compute('phoebe', irrad_method='none', compute='phoebe2')"
   ]
  },
  {
   "cell_type": "code",
   "execution_count": 6,
   "metadata": {},
   "outputs": [
    {
     "data": {
      "text/plain": [
       "<ParameterSet: 7 parameters | components: primary, secondary>"
      ]
     },
     "execution_count": 6,
     "metadata": {},
     "output_type": "execute_result"
    }
   ],
   "source": [
    "b.add_compute('legacy', irrad_method='none', compute='phoebe1')"
   ]
  },
  {
   "cell_type": "markdown",
   "metadata": {},
   "source": [
    "Let's use the external atmospheres available for both phoebe1 and phoebe2"
   ]
  },
  {
   "cell_type": "code",
   "execution_count": 7,
   "metadata": {},
   "outputs": [
    {
     "name": "stderr",
     "output_type": "stream",
     "text": [
      "Mon, 29 Oct 2018 10:09 PARAMETERS   WARNING ld_func='interp' only supported by atm='ck2004'.  Either change atm@primary or ld_func@primary@lc01  If not addressed, this warning will continue to be raised and will throw an error at run_compute.\n",
      "Mon, 29 Oct 2018 10:09 PARAMETERS   WARNING ld_func='interp' only supported by atm='ck2004'.  Either change atm@primary or ld_func@primary@lc01  If not addressed, this warning will continue to be raised and will throw an error at run_compute.\n",
      "Mon, 29 Oct 2018 10:09 PARAMETERS   WARNING ld_func='interp' only supported by atm='ck2004'.  Either change atm@primary or ld_func@primary@lc01  If not addressed, this warning will continue to be raised and will throw an error at run_compute.\n",
      "Mon, 29 Oct 2018 10:09 PARAMETERS   WARNING ld_func='interp' only supported by atm='ck2004'.  Either change atm@primary or ld_func@primary@lc01  If not addressed, this warning will continue to be raised and will throw an error at run_compute.\n",
      "Mon, 29 Oct 2018 10:09 PARAMETERS   WARNING ld_func='interp' only supported by atm='ck2004'.  Either change atm@primary or ld_func@primary@lc01  If not addressed, this warning will continue to be raised and will throw an error at run_compute.\n",
      "Mon, 29 Oct 2018 10:09 PARAMETERS   WARNING ld_func='interp' only supported by atm='ck2004'.  Either change atm@primary or ld_func@primary@lc01  If not addressed, this warning will continue to be raised and will throw an error at run_compute.\n",
      "Mon, 29 Oct 2018 10:09 PARAMETERS   WARNING ld_func='interp' only supported by atm='ck2004'.  Either change atm@primary or ld_func@primary@lc01  If not addressed, this warning will continue to be raised and will throw an error at run_compute.\n",
      "Mon, 29 Oct 2018 10:09 PARAMETERS   WARNING ld_func='interp' only supported by atm='ck2004'.  Either change atm@primary or ld_func@primary@lc01  If not addressed, this warning will continue to be raised and will throw an error at run_compute.\n",
      "Mon, 29 Oct 2018 10:09 PARAMETERS   WARNING ld_func='interp' only supported by atm='ck2004'.  Either change atm@primary or ld_func@primary@lc01  If not addressed, this warning will continue to be raised and will throw an error at run_compute.\n"
     ]
    }
   ],
   "source": [
    "b.set_value_all('atm', 'extern_planckint')"
   ]
  },
  {
   "cell_type": "code",
   "execution_count": 8,
   "metadata": {},
   "outputs": [
    {
     "name": "stderr",
     "output_type": "stream",
     "text": [
      "Mon, 29 Oct 2018 10:09 PARAMETERS   WARNING ld_func='interp' only supported by atm='ck2004'.  Either change atm@primary or ld_func@primary@lc01  If not addressed, this warning will continue to be raised and will throw an error at run_compute.\n",
      "Mon, 29 Oct 2018 10:09 PARAMETERS   WARNING ld_func='interp' only supported by atm='ck2004'.  Either change atm@secondary or ld_func@secondary@lc01  If not addressed, this warning will continue to be raised and will throw an error at run_compute.\n"
     ]
    }
   ],
   "source": [
    "b.set_value_all('ld_func', 'logarithmic')\n",
    "b.set_value_all('ld_coeffs', [0.0, 0.0])"
   ]
  },
  {
   "cell_type": "code",
   "execution_count": 9,
   "metadata": {},
   "outputs": [
    {
     "data": {
      "text/plain": [
       "<ParameterSet: 2 parameters | qualifiers: fluxes, times>"
      ]
     },
     "execution_count": 9,
     "metadata": {},
     "output_type": "execute_result"
    }
   ],
   "source": [
    "b.run_compute('phoebe2', model='phoebe2model')"
   ]
  },
  {
   "cell_type": "code",
   "execution_count": 10,
   "metadata": {},
   "outputs": [
    {
     "name": "stderr",
     "output_type": "stream",
     "text": [
      "Mon, 29 Oct 2018 10:09 IO           WARNING requiv_max@primary@star@component has no phoebe 1 corollary\n",
      "Mon, 29 Oct 2018 10:09 IO           WARNING freq@primary@star@component has no phoebe 1 corollary\n",
      "Mon, 29 Oct 2018 10:09 IO           WARNING pitch@primary@star@component has no phoebe 1 corollary\n",
      "Mon, 29 Oct 2018 10:09 IO           WARNING yaw@primary@star@component has no phoebe 1 corollary\n",
      "Mon, 29 Oct 2018 10:09 IO           WARNING long_an@primary@star@component has no phoebe 1 corollary\n",
      "Mon, 29 Oct 2018 10:09 IO           WARNING irrad_frac_lost_bol@primary@star@component has no phoebe 1 corollary\n",
      "Mon, 29 Oct 2018 10:09 IO           WARNING ld_func_bol@primary@star@component has no phoebe 1 corollary\n",
      "Mon, 29 Oct 2018 10:09 IO           WARNING mass@primary@star@component has no phoebe 1 corollary\n",
      "Mon, 29 Oct 2018 10:09 IO           WARNING requiv_max@secondary@star@component has no phoebe 1 corollary\n",
      "Mon, 29 Oct 2018 10:09 IO           WARNING freq@secondary@star@component has no phoebe 1 corollary\n",
      "Mon, 29 Oct 2018 10:09 IO           WARNING pitch@secondary@star@component has no phoebe 1 corollary\n",
      "Mon, 29 Oct 2018 10:09 IO           WARNING yaw@secondary@star@component has no phoebe 1 corollary\n",
      "Mon, 29 Oct 2018 10:09 IO           WARNING long_an@secondary@star@component has no phoebe 1 corollary\n",
      "Mon, 29 Oct 2018 10:09 IO           WARNING irrad_frac_lost_bol@secondary@star@component has no phoebe 1 corollary\n",
      "Mon, 29 Oct 2018 10:09 IO           WARNING ld_func_bol@secondary@star@component has no phoebe 1 corollary\n",
      "Mon, 29 Oct 2018 10:09 IO           WARNING mass@secondary@star@component has no phoebe 1 corollary\n",
      "Mon, 29 Oct 2018 10:09 IO           WARNING pblum_ref@secondary@lc01@lc_dep@dataset has no phoebe 1 corollary\n",
      "Mon, 29 Oct 2018 10:09 IO           WARNING fti_method@lc01@phoebe01@phoebe@compute has no phoebe 1 corollary\n",
      "Mon, 29 Oct 2018 10:09 IO           WARNING Finite integration Time is not fully supported and will be turned off by legacy wrapper before computation\n",
      "Mon, 29 Oct 2018 10:09 IO           WARNING lc_method@lc01@phoebe2@phoebe@compute has no phoebe 1 corollary\n",
      "Mon, 29 Oct 2018 10:09 IO           WARNING lc_method@lc01@phoebe01@phoebe@compute has no phoebe 1 corollary\n",
      "Mon, 29 Oct 2018 10:09 IO           WARNING intens_weighting@lc01@lc_dep@dataset has no phoebe 1 corollary\n",
      "Mon, 29 Oct 2018 10:09 IO           WARNING fti_method@lc01@phoebe2@phoebe@compute has no phoebe 1 corollary\n",
      "Mon, 29 Oct 2018 10:09 IO           WARNING pblum_ref@primary@lc01@lc_dep@dataset has no phoebe 1 corollary\n",
      "Mon, 29 Oct 2018 10:09 IO           WARNING freq@binary@orbit@component has no phoebe 1 corollary\n",
      "Mon, 29 Oct 2018 10:09 IO           WARNING t0_perpass@binary@orbit@component has no phoebe 1 corollary\n",
      "Mon, 29 Oct 2018 10:09 IO           WARNING t0_supconj@binary@orbit@component has no phoebe 1 corollary\n",
      "Mon, 29 Oct 2018 10:09 IO           WARNING mean_anom@binary@orbit@component has no phoebe 1 corollary\n",
      "Mon, 29 Oct 2018 10:09 IO           WARNING long_an@binary@orbit@component has no phoebe 1 corollary\n",
      "Mon, 29 Oct 2018 10:09 IO           WARNING asini@binary@orbit@component has no phoebe 1 corollary\n",
      "Mon, 29 Oct 2018 10:09 IO           WARNING ecosw@binary@orbit@component has no phoebe 1 corollary\n",
      "Mon, 29 Oct 2018 10:09 IO           WARNING esinw@binary@orbit@component has no phoebe 1 corollary\n",
      "Mon, 29 Oct 2018 10:09 IO           WARNING irrad_method@phoebe1@legacy@compute has no phoebe 1 corollary\n",
      "Mon, 29 Oct 2018 10:09 IO           WARNING t0@system has no phoebe 1 corollary\n",
      "Mon, 29 Oct 2018 10:09 IO           WARNING ra@system has no phoebe 1 corollary\n",
      "Mon, 29 Oct 2018 10:09 IO           WARNING dec@system has no phoebe 1 corollary\n",
      "Mon, 29 Oct 2018 10:09 IO           WARNING epoch@system has no phoebe 1 corollary\n",
      "Mon, 29 Oct 2018 10:09 IO           WARNING distance@system has no phoebe 1 corollary\n",
      "Mon, 29 Oct 2018 10:09 IO           WARNING hierarchy@system has no phoebe 1 corollary\n"
     ]
    },
    {
     "data": {
      "text/plain": [
       "<ParameterSet: 2 parameters | qualifiers: fluxes, times>"
      ]
     },
     "execution_count": 10,
     "metadata": {},
     "output_type": "execute_result"
    }
   ],
   "source": [
    "b.run_compute('phoebe1', model='phoebe1model')"
   ]
  },
  {
   "cell_type": "markdown",
   "metadata": {},
   "source": [
    "Plotting\n",
    "------------"
   ]
  },
  {
   "cell_type": "code",
   "execution_count": 11,
   "metadata": {},
   "outputs": [
    {
     "data": {
      "image/png": "[encoded data removed]",
      "text/plain": [
       "<matplotlib.figure.Figure at 0x7fef3642ded0>"
      ]
     },
     "metadata": {},
     "output_type": "display_data"
    }
   ],
   "source": [
    "afig, mplfig = b.plot(legend=True, ylim=(1.95, 2.05), show=True)"
   ]
  },
  {
   "cell_type": "code",
   "execution_count": null,
   "metadata": {},
   "outputs": [],
   "source": []
  }
 ],
 "metadata": {
  "kernelspec": {
   "display_name": "Python 2",
   "language": "python",
   "name": "python2"
  },
  "language_info": {
   "codemirror_mode": {
    "name": "ipython",
    "version": 2
   },
   "file_extension": ".py",
   "mimetype": "text/x-python",
   "name": "python",
   "nbconvert_exporter": "python",
   "pygments_lexer": "ipython2",
   "version": "2.7.15rc1"
  }
 },
 "nbformat": 4,
 "nbformat_minor": 1
}
