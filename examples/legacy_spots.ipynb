{
 "cells": [
  {
   "cell_type": "markdown",
   "metadata": {
    "deletable": true,
    "editable": true
   },
   "source": [
    "Comparing Spots in PHOEBE 2 vs PHOEBE Legacy\n",
    "============================\n",
    "\n",
    "Setup\n",
    "-----------------------------"
   ]
  },
  {
   "cell_type": "markdown",
   "metadata": {
    "collapsed": true,
    "deletable": true,
    "editable": true
   },
   "source": [
    "As always, let's do imports and initialize a logger and a new bundle.  See [Building a System](../tutorials/building_a_system.html) for more details."
   ]
  },
  {
   "cell_type": "code",
   "execution_count": 1,
   "metadata": {
    "collapsed": true,
    "deletable": true,
    "editable": true
   },
   "outputs": [],
   "source": [
    "%matplotlib inline"
   ]
  },
  {
   "cell_type": "code",
   "execution_count": 2,
   "metadata": {
    "collapsed": false,
    "deletable": true,
    "editable": true
   },
   "outputs": [],
   "source": [
    "import phoebe\n",
    "from phoebe import u # units\n",
    "import numpy as np\n",
    "import matplotlib.pyplot as plt\n",
    "\n",
    "logger = phoebe.logger()\n",
    "\n",
    "b = phoebe.default_binary()"
   ]
  },
  {
   "cell_type": "markdown",
   "metadata": {
    "collapsed": true,
    "deletable": true,
    "editable": true
   },
   "source": [
    "Adding Spots and Compute Options\n",
    "---------------------"
   ]
  },
  {
   "cell_type": "code",
   "execution_count": 3,
   "metadata": {
    "collapsed": false,
    "deletable": true,
    "editable": true
   },
   "outputs": [
    {
     "data": {
      "text/plain": [
       "<ParameterSet: 5 parameters | qualifiers: colat, radius, colon, long, relteff>"
      ]
     },
     "execution_count": 3,
     "metadata": {},
     "output_type": "execute_result"
    }
   ],
   "source": [
    "b.add_spot(component='primary', relteff=0.8, radius=20, colat=45, colon=90, feature='spot01')"
   ]
  },
  {
   "cell_type": "code",
   "execution_count": 4,
   "metadata": {
    "collapsed": false,
    "deletable": true,
    "editable": true
   },
   "outputs": [
    {
     "data": {
      "text/plain": [
       "<ParameterSet: 15 parameters | contexts: compute, dataset>"
      ]
     },
     "execution_count": 4,
     "metadata": {},
     "output_type": "execute_result"
    }
   ],
   "source": [
    "b.add_dataset('lc', times=np.linspace(0,1,101))"
   ]
  },
  {
   "cell_type": "code",
   "execution_count": 5,
   "metadata": {
    "collapsed": false,
    "deletable": true,
    "editable": true
   },
   "outputs": [
    {
     "data": {
      "text/plain": [
       "<ParameterSet: 22 parameters | components: primary, secondary>"
      ]
     },
     "execution_count": 5,
     "metadata": {},
     "output_type": "execute_result"
    }
   ],
   "source": [
    "b.add_compute('phoebe', irrad_method='none', compute='phoebe2')"
   ]
  },
  {
   "cell_type": "code",
   "execution_count": 6,
   "metadata": {
    "collapsed": false,
    "deletable": true,
    "editable": true
   },
   "outputs": [
    {
     "data": {
      "text/plain": [
       "<ParameterSet: 9 parameters | components: primary, secondary>"
      ]
     },
     "execution_count": 6,
     "metadata": {},
     "output_type": "execute_result"
    }
   ],
   "source": [
    "b.add_compute('legacy', refl_num=0, compute='phoebe1')"
   ]
  },
  {
   "cell_type": "markdown",
   "metadata": {
    "deletable": true,
    "editable": true
   },
   "source": [
    "Let's use the external atmospheres available for both phoebe1 and phoebe2"
   ]
  },
  {
   "cell_type": "code",
   "execution_count": 7,
   "metadata": {
    "collapsed": false,
    "deletable": true,
    "editable": true
   },
   "outputs": [
    {
     "name": "stderr",
     "output_type": "stream",
     "text": [
      "Tue, 11 Jul 2017 14:02 PARAMETERS   WARNING ld_func='interp' only supported by atm='ck2004'\n",
      "Tue, 11 Jul 2017 14:02 PARAMETERS   WARNING ld_func='interp' only supported by atm='ck2004'\n",
      "Tue, 11 Jul 2017 14:02 PARAMETERS   WARNING ld_func='interp' only supported by atm='ck2004'\n",
      "Tue, 11 Jul 2017 14:02 PARAMETERS   WARNING ld_func='interp' only supported by atm='ck2004'\n",
      "Tue, 11 Jul 2017 14:02 PARAMETERS   WARNING ld_func='interp' only supported by atm='ck2004'\n",
      "Tue, 11 Jul 2017 14:02 PARAMETERS   WARNING ld_func='interp' only supported by atm='ck2004'\n",
      "Tue, 11 Jul 2017 14:02 PARAMETERS   WARNING ld_func='interp' only supported by atm='ck2004'\n",
      "Tue, 11 Jul 2017 14:02 PARAMETERS   WARNING ld_func='interp' only supported by atm='ck2004'\n",
      "Tue, 11 Jul 2017 14:02 PARAMETERS   WARNING ld_func='interp' only supported by atm='ck2004'\n"
     ]
    }
   ],
   "source": [
    "b.set_value_all('atm', 'extern_planckint')"
   ]
  },
  {
   "cell_type": "code",
   "execution_count": 8,
   "metadata": {
    "collapsed": false,
    "deletable": true,
    "editable": true
   },
   "outputs": [
    {
     "name": "stderr",
     "output_type": "stream",
     "text": [
      "Tue, 11 Jul 2017 14:02 PARAMETERS   WARNING ld_func='interp' only supported by atm='ck2004'\n",
      "Tue, 11 Jul 2017 14:02 PARAMETERS   WARNING ld_func='interp' only supported by atm='ck2004'\n"
     ]
    }
   ],
   "source": [
    "b.set_value_all('ld_func', 'logarithmic')\n",
    "b.set_value_all('ld_coeffs', [0.0, 0.0])"
   ]
  },
  {
   "cell_type": "code",
   "execution_count": 9,
   "metadata": {
    "collapsed": false,
    "deletable": true,
    "editable": true
   },
   "outputs": [
    {
     "data": {
      "text/plain": [
       "<ParameterSet: 2 parameters | qualifiers: fluxes, times>"
      ]
     },
     "execution_count": 9,
     "metadata": {},
     "output_type": "execute_result"
    }
   ],
   "source": [
    "b.run_compute('phoebe2', model='phoebe2model')"
   ]
  },
  {
   "cell_type": "code",
   "execution_count": 10,
   "metadata": {
    "collapsed": false,
    "deletable": true,
    "editable": true
   },
   "outputs": [
    {
     "name": "stderr",
     "output_type": "stream",
     "text": [
      "Tue, 11 Jul 2017 14:02 IO           WARNING rpole has no phoebe 1 corollary\n",
      "Tue, 11 Jul 2017 14:02 IO           WARNING freq has no phoebe 1 corollary\n",
      "Tue, 11 Jul 2017 14:02 IO           WARNING irrad_frac_lost_bol has no phoebe 1 corollary\n",
      "Tue, 11 Jul 2017 14:02 IO           WARNING ld_func_bol has no phoebe 1 corollary\n",
      "Tue, 11 Jul 2017 14:02 IO           WARNING mass has no phoebe 1 corollary\n",
      "Tue, 11 Jul 2017 14:02 IO           WARNING rpole has no phoebe 1 corollary\n",
      "Tue, 11 Jul 2017 14:02 IO           WARNING freq has no phoebe 1 corollary\n",
      "Tue, 11 Jul 2017 14:02 IO           WARNING irrad_frac_lost_bol has no phoebe 1 corollary\n",
      "Tue, 11 Jul 2017 14:02 IO           WARNING ld_func_bol has no phoebe 1 corollary\n",
      "Tue, 11 Jul 2017 14:02 IO           WARNING mass has no phoebe 1 corollary\n",
      "Tue, 11 Jul 2017 14:02 IO           WARNING fti_method has no phoebe 1 corollary\n",
      "Tue, 11 Jul 2017 14:02 IO           WARNING lc_method has no phoebe 1 corollary\n",
      "Tue, 11 Jul 2017 14:02 IO           WARNING fti_method has no phoebe 1 corollary\n",
      "Tue, 11 Jul 2017 14:02 IO           WARNING lc_method has no phoebe 1 corollary\n",
      "Tue, 11 Jul 2017 14:02 IO           WARNING Finite integration Time is not fully supported and will be turned off by legacy wrapper before computation\n",
      "Tue, 11 Jul 2017 14:02 IO           WARNING pblum_ref has no phoebe 1 corollary\n",
      "Tue, 11 Jul 2017 14:02 IO           WARNING intens_weighting has no phoebe 1 corollary\n",
      "Tue, 11 Jul 2017 14:02 IO           WARNING pblum_ref has no phoebe 1 corollary\n",
      "Tue, 11 Jul 2017 14:02 IO           WARNING freq has no phoebe 1 corollary\n",
      "Tue, 11 Jul 2017 14:02 IO           WARNING t0_perpass has no phoebe 1 corollary\n",
      "Tue, 11 Jul 2017 14:02 IO           WARNING mean_anom has no phoebe 1 corollary\n",
      "Tue, 11 Jul 2017 14:02 IO           WARNING long_an has no phoebe 1 corollary\n",
      "Tue, 11 Jul 2017 14:02 IO           WARNING asini has no phoebe 1 corollary\n",
      "Tue, 11 Jul 2017 14:02 IO           WARNING ecosw has no phoebe 1 corollary\n",
      "Tue, 11 Jul 2017 14:02 IO           WARNING esinw has no phoebe 1 corollary\n",
      "Tue, 11 Jul 2017 14:02 IO           WARNING protomesh has no phoebe 1 corollary\n",
      "Tue, 11 Jul 2017 14:02 IO           WARNING pbmesh has no phoebe 1 corollary\n",
      "Tue, 11 Jul 2017 14:02 IO           WARNING t0 has no phoebe 1 corollary\n",
      "Tue, 11 Jul 2017 14:02 IO           WARNING ra has no phoebe 1 corollary\n",
      "Tue, 11 Jul 2017 14:02 IO           WARNING dec has no phoebe 1 corollary\n",
      "Tue, 11 Jul 2017 14:02 IO           WARNING epoch has no phoebe 1 corollary\n",
      "Tue, 11 Jul 2017 14:02 IO           WARNING distance has no phoebe 1 corollary\n",
      "Tue, 11 Jul 2017 14:02 IO           WARNING hierarchy has no phoebe 1 corollary\n"
     ]
    },
    {
     "data": {
      "text/plain": [
       "<ParameterSet: 2 parameters | qualifiers: fluxes, times>"
      ]
     },
     "execution_count": 10,
     "metadata": {},
     "output_type": "execute_result"
    }
   ],
   "source": [
    "b.run_compute('phoebe1', model='phoebe1model')"
   ]
  },
  {
   "cell_type": "markdown",
   "metadata": {
    "deletable": true,
    "editable": true
   },
   "source": [
    "Plotting\n",
    "------------"
   ]
  },
  {
   "cell_type": "code",
   "execution_count": 14,
   "metadata": {
    "collapsed": false,
    "deletable": true,
    "editable": true
   },
   "outputs": [
    {
     "data": {
      "image/png": "[encoded data removed]",
      "text/plain": [
       "<matplotlib.figure.Figure at 0x7fcb0580ec10>"
      ]
     },
     "metadata": {},
     "output_type": "display_data"
    }
   ],
   "source": [
    "axs, artists = b.plot()\n",
    "legend = plt.legend()\n",
    "ylims = plt.ylim(1.94, 2.02)"
   ]
  },
  {
   "cell_type": "code",
   "execution_count": null,
   "metadata": {
    "collapsed": true,
    "deletable": true,
    "editable": true
   },
   "outputs": [],
   "source": []
  }
 ],
 "metadata": {
  "kernelspec": {
   "display_name": "Python 2",
   "language": "python",
   "name": "python2"
  },
  "language_info": {
   "codemirror_mode": {
    "name": "ipython",
    "version": 2
   },
   "file_extension": ".py",
   "mimetype": "text/x-python",
   "name": "python",
   "nbconvert_exporter": "python",
   "pygments_lexer": "ipython2",
   "version": "2.7.12"
  }
 },
 "nbformat": 4,
 "nbformat_minor": 0
}
