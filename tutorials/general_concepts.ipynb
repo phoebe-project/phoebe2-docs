{
 "cells": [
  {
   "cell_type": "markdown",
   "metadata": {},
   "source": [
    "General Concepts\n",
    "======================\n",
    "\n",
    "This tutorial introduces all the general concepts of dealing with Parameters, ParameterSets, and the Bundle.  This tutorial aims to be quite complete - covering almost everything you can do with Parameters, so on first read you may just want to try to get familiar, and then return here as a reference for any details later.\n",
    "\n",
    "All of these tutorials assume basic comfort with Python in general - particularly with the concepts of lists, dictionaries, and objects as well as basic comfort with using the numpy and matplotlib packages.\n",
    "\n",
    "Setup\n",
    "----------------------------------------------\n",
    "\n",
    "Let's get started with some basic imports"
   ]
  },
  {
   "cell_type": "code",
   "execution_count": 1,
   "metadata": {
    "collapsed": false
   },
   "outputs": [
    {
     "name": "stderr",
     "output_type": "stream",
     "text": [
      "WARNING: Constant u'Gravitational constant' is already has a definition in the u'si' system [astropy.constants.constant]\n",
      "WARNING: Constant u'Solar mass' is already has a definition in the u'si' system [astropy.constants.constant]\n",
      "WARNING: Constant u'Solar radius' is already has a definition in the u'si' system [astropy.constants.constant]\n",
      "WARNING: Constant u'Solar luminosity' is already has a definition in the u'si' system [astropy.constants.constant]\n"
     ]
    }
   ],
   "source": [
    "import phoebe\n",
    "from phoebe import u # units\n",
    "import numpy as np\n",
    "import matplotlib.pyplot as plt"
   ]
  },
  {
   "cell_type": "markdown",
   "metadata": {},
   "source": [
    "If running in IPython notebooks, you may see a \"ShimWarning\" depending on the version of Jupyter you are using - this is safe to ignore.\n",
    "\n",
    "PHOEBE 2 uses constants defined in the IAU 2015 Resolution which conflict with the constants defined in astropy.  As a result, you'll see the warnings as phoebe.u and phoebe.c \"hijacks\" the values in astropy.units and astropy.constants.\n",
    "\n",
    "Whenever providing units, please make sure to use phoebe.u instead of astropy.units, otherwise the conversions may be inconsistent."
   ]
  },
  {
   "cell_type": "markdown",
   "metadata": {},
   "source": [
    "### Logger\n",
    "\n",
    "Before starting any script, it is a good habit to initialize a logger and define which levels of information you want printed to the command line (clevel) and dumped to a file (flevel).\n",
    "\n",
    "The levels from most to least information are:\n",
    "\n",
    "* DEBUG\n",
    "* INFO\n",
    "* WARNING\n",
    "* ERROR\n",
    "* CRITICAL\n"
   ]
  },
  {
   "cell_type": "code",
   "execution_count": 2,
   "metadata": {
    "collapsed": false
   },
   "outputs": [],
   "source": [
    "logger = phoebe.logger(clevel='WARNING', flevel='DEBUG', filename='tutorial.log')"
   ]
  },
  {
   "cell_type": "markdown",
   "metadata": {},
   "source": [
    "All of these arguments are optional and will default to clevel='WARNING' if not provided.  There is therefore no need to provide a filename if you don't provide a value for flevel.\n",
    "\n",
    "So with this logger, anything with \"WARNING, ERROR, or CRITICAL levels will be printed to the screen.  All messages of any level will be written to a file named 'tutorial.log' in the current directory.\n",
    "\n",
    "Note: the logger messages are not included in the outputs shown below.\n",
    "\n",
    "\n"
   ]
  },
  {
   "cell_type": "markdown",
   "metadata": {},
   "source": [
    "Parameters\n",
    "------------------------\n",
    "\n",
    "Parameters hold a single value, but need to be aware about their own types, limits, and connection with other Parameters (more on this later when we discuss ParameterSets).\n",
    "\n",
    "Note that generally you won't ever have to \"create\" or \"define\" your own Parameters, those will be created for you by helper functions, but we have to start somewhere... so let's create our first Parameter.\n",
    "\n",
    "We'll start with creating a StringParameter since it is the most generic, and then discuss and specific differences for each type of Parameter."
   ]
  },
  {
   "cell_type": "code",
   "execution_count": 3,
   "metadata": {
    "collapsed": false
   },
   "outputs": [],
   "source": [
    "param = phoebe.parameters.StringParameter(qualifier='myparameter', \n",
    "                                          description='mydescription',\n",
    "                                          value='myvalue')"
   ]
  },
  {
   "cell_type": "markdown",
   "metadata": {},
   "source": [
    "If you ever need to know the type of a Parameter, you can always use python's built-in type functionality:"
   ]
  },
  {
   "cell_type": "code",
   "execution_count": 4,
   "metadata": {
    "collapsed": false
   },
   "outputs": [
    {
     "name": "stdout",
     "output_type": "stream",
     "text": [
      "<class 'phoebe.parameters.parameters.StringParameter'>\n"
     ]
    }
   ],
   "source": [
    "print type(param)"
   ]
  },
  {
   "cell_type": "markdown",
   "metadata": {},
   "source": [
    "If we print the parameter object we can see a summary of information"
   ]
  },
  {
   "cell_type": "code",
   "execution_count": 5,
   "metadata": {
    "collapsed": false
   },
   "outputs": [
    {
     "name": "stdout",
     "output_type": "stream",
     "text": [
      "Parameter: myparameter\n",
      "                       Qualifier: myparameter\n",
      "                     Description: mydescription\n",
      "                           Value: myvalue\n",
      "\n"
     ]
    }
   ],
   "source": [
    "print param"
   ]
  },
  {
   "cell_type": "markdown",
   "metadata": {},
   "source": [
    "You can see here that we've defined three a few things about parameter: the qualifier, description, and value (others do exist, they just don't show up in the summary).\n",
    "\n",
    "These \"things\" can be split into two groups: tags and attributes (although in a pythonic sense, both can be accessed as attributes).  Don't worry too much about this distinction - it isn't really important except for the fact that tags are shared across **all** Parameters whereas attributes are dependent on the type of the Parameter.\n",
    "\n",
    "The tags of a Parameter define the Parameter and how it connects to other Parameters (again, more on this when we get to ParameterSets).  For now, just now that you can access a list of all the tags as follows:"
   ]
  },
  {
   "cell_type": "code",
   "execution_count": 6,
   "metadata": {
    "collapsed": false
   },
   "outputs": [
    {
     "name": "stdout",
     "output_type": "stream",
     "text": [
      "OrderedDict([('time', None), ('qualifier', 'myparameter'), ('history', None), ('feature', None), ('component', None), ('dataset', None), ('constraint', None), ('compute', None), ('model', None), ('fitting', None), ('feedback', None), ('plugin', None), ('kind', None), ('context', None), ('twig', 'myparameter'), ('uniquetwig', 'myparameter')])\n"
     ]
    }
   ],
   "source": [
    "print param.meta"
   ]
  },
  {
   "cell_type": "markdown",
   "metadata": {},
   "source": [
    "and that each of these is available through both a dictionary key and an object attribute.  For example:"
   ]
  },
  {
   "cell_type": "code",
   "execution_count": 7,
   "metadata": {
    "collapsed": false
   },
   "outputs": [
    {
     "name": "stdout",
     "output_type": "stream",
     "text": [
      "myparameter myparameter\n"
     ]
    }
   ],
   "source": [
    "print param['qualifier'], param.qualifier"
   ]
  },
  {
   "cell_type": "markdown",
   "metadata": {},
   "source": [
    "The 'qualifier' attribute is essentially an abbreviated name for the Parameter.\n",
    "\n",
    "These tags will be shared across **all** Parameters, regardless of their type.\n",
    "\n",
    "Attributes, on the other hand, can be dependent on the type of the Parameter and tell the Parameter its rules and how to interpret its value.  You can access a list of available attributes as follows:"
   ]
  },
  {
   "cell_type": "code",
   "execution_count": 8,
   "metadata": {
    "collapsed": false
   },
   "outputs": [
    {
     "data": {
      "text/plain": [
       "['description', 'value', 'visible_if', 'copy_for']"
      ]
     },
     "execution_count": 8,
     "metadata": {},
     "output_type": "execute_result"
    }
   ],
   "source": [
    "param.attributes"
   ]
  },
  {
   "cell_type": "markdown",
   "metadata": {},
   "source": [
    "and again, each of these are available through both a dictionary key and as an object attribute.  For example, all parameters have a **'description'** attribute which gives additional information about what the Parameter means:"
   ]
  },
  {
   "cell_type": "code",
   "execution_count": 9,
   "metadata": {
    "collapsed": false
   },
   "outputs": [
    {
     "name": "stdout",
     "output_type": "stream",
     "text": [
      "mydescription mydescription\n"
     ]
    }
   ],
   "source": [
    "print param['description'], param.description"
   ]
  },
  {
   "cell_type": "markdown",
   "metadata": {},
   "source": [
    "For the special case of the **'value'** attribute, there is also a get method (will become handy later when we want to be able to request the value in a specific unit)."
   ]
  },
  {
   "cell_type": "code",
   "execution_count": 10,
   "metadata": {
    "collapsed": false
   },
   "outputs": [
    {
     "name": "stdout",
     "output_type": "stream",
     "text": [
      "myvalue myvalue myvalue\n"
     ]
    }
   ],
   "source": [
    "print param.get_value(), param['value'], param.value"
   ]
  },
  {
   "cell_type": "markdown",
   "metadata": {},
   "source": [
    "The value attribute is also the only attribute that you'll likely want to change, so it also has a set method:"
   ]
  },
  {
   "cell_type": "code",
   "execution_count": 11,
   "metadata": {
    "collapsed": false
   },
   "outputs": [
    {
     "name": "stdout",
     "output_type": "stream",
     "text": [
      "newvalue\n"
     ]
    }
   ],
   "source": [
    "param.set_value('newvalue')\n",
    "print param.get_value()"
   ]
  },
  {
   "cell_type": "markdown",
   "metadata": {},
   "source": [
    "The **'visible_if'** attribute only comes into play when the Parameter is a member of a ParameterSet, so we'll discuss it at the end of this tutorial when we get to ParameterSets.\n",
    "\n",
    "The **'copy_for'** attribute is only used when the Parameter is in a particular type of ParameterSet called a Bundle (explained at the very end of this tutorial).  We'll see the 'copy_for' capability in action later in the [Datasets Tutorial](datasets), but for now, just know that you can *view* this property only and cannot change it... and most of the time it will just be an empty string."
   ]
  },
  {
   "cell_type": "markdown",
   "metadata": {},
   "source": [
    "### StringParameters\n",
    "\n",
    "We'll just mention StringParameters again for completeness, but we've already seen about all they can do - the value must cast to a valid string but no limits or checks are performed at all on the value."
   ]
  },
  {
   "cell_type": "markdown",
   "metadata": {},
   "source": [
    "### ChoiceParameters\n",
    "\n",
    "ChoiceParameters are essentially StringParameters with one very important exception: the value **must** match one of the prescribed choices.\n",
    "\n",
    "Therefore, they have a 'choice' attribute and an error will be raised if trying to set the value to any string not in that list."
   ]
  },
  {
   "cell_type": "code",
   "execution_count": 12,
   "metadata": {
    "collapsed": true
   },
   "outputs": [],
   "source": [
    "param = phoebe.parameters.ChoiceParameter(qualifier='mychoiceparameter',\n",
    "                                          description='mydescription',\n",
    "                                          choices=['choice1', 'choice2'],\n",
    "                                          value='choice1')"
   ]
  },
  {
   "cell_type": "code",
   "execution_count": 13,
   "metadata": {
    "collapsed": false
   },
   "outputs": [
    {
     "name": "stdout",
     "output_type": "stream",
     "text": [
      "Parameter: mychoiceparameter\n",
      "                       Qualifier: mychoiceparameter\n",
      "                     Description: mydescription\n",
      "                           Value: choice1\n",
      "                         Choices: choice1, choice2\n",
      "\n"
     ]
    }
   ],
   "source": [
    "print param"
   ]
  },
  {
   "cell_type": "code",
   "execution_count": 14,
   "metadata": {
    "collapsed": false
   },
   "outputs": [
    {
     "name": "stdout",
     "output_type": "stream",
     "text": [
      "['description', 'choices', 'value', 'visible_if', 'copy_for']\n"
     ]
    }
   ],
   "source": [
    "print param.attributes"
   ]
  },
  {
   "cell_type": "code",
   "execution_count": 15,
   "metadata": {
    "collapsed": false
   },
   "outputs": [
    {
     "name": "stdout",
     "output_type": "stream",
     "text": [
      "['choice1', 'choice2'] ['choice1', 'choice2']\n"
     ]
    }
   ],
   "source": [
    "print param['choices'], param.choices"
   ]
  },
  {
   "cell_type": "code",
   "execution_count": 16,
   "metadata": {
    "collapsed": false
   },
   "outputs": [
    {
     "name": "stdout",
     "output_type": "stream",
     "text": [
      "choice1\n"
     ]
    }
   ],
   "source": [
    "print param.get_value()"
   ]
  },
  {
   "cell_type": "code",
   "execution_count": 17,
   "metadata": {
    "collapsed": false
   },
   "outputs": [
    {
     "name": "stdout",
     "output_type": "stream",
     "text": [
      "choice2\n"
     ]
    }
   ],
   "source": [
    "#param.set_value('not_a_choice') # would raise a ValueError\n",
    "param.set_value('choice2')\n",
    "print param.get_value()"
   ]
  },
  {
   "cell_type": "markdown",
   "metadata": {},
   "source": [
    "### FloatParameters\n",
    "\n",
    "FloatParameters are probably the most common Parameter used in PHOEBE and hold both a float and a unit, with the ability to retrieve the value in any other convertible unit."
   ]
  },
  {
   "cell_type": "code",
   "execution_count": 18,
   "metadata": {
    "collapsed": false
   },
   "outputs": [],
   "source": [
    "param = phoebe.parameters.FloatParameter(qualifier='myfloatparameter',\n",
    "                                         description='mydescription',\n",
    "                                         default_unit=u.m,\n",
    "                                         limits=[None,20],\n",
    "                                         value=5)"
   ]
  },
  {
   "cell_type": "code",
   "execution_count": 19,
   "metadata": {
    "collapsed": false
   },
   "outputs": [
    {
     "name": "stdout",
     "output_type": "stream",
     "text": [
      "Parameter: myfloatparameter\n",
      "                       Qualifier: myfloatparameter\n",
      "                     Description: mydescription\n",
      "                           Value: 5.0 m\n",
      "                  Constrained by: \n",
      "                      Constrains: None\n",
      "                      Related to: None\n",
      "\n"
     ]
    }
   ],
   "source": [
    "print param"
   ]
  },
  {
   "cell_type": "markdown",
   "metadata": {},
   "source": [
    "You'll notice here a few new mentions in the summary... \"Constrained by\", \"Constrains\", and \"Related to\" are all referring to [constraints which will be discussed in a future tutorial](constraints)."
   ]
  },
  {
   "cell_type": "code",
   "execution_count": 20,
   "metadata": {
    "collapsed": false
   },
   "outputs": [
    {
     "name": "stdout",
     "output_type": "stream",
     "text": [
      "['description', 'value', 'quantity', 'default_unit', 'limits', 'visible_if', 'copy_for']\n"
     ]
    }
   ],
   "source": [
    "print param.attributes"
   ]
  },
  {
   "cell_type": "markdown",
   "metadata": {},
   "source": [
    "FloatParameters have an attribute which hold the \"limits\" - whenever a value is set it will be checked to make sure it falls within the limits.  If either the lower or upper limit is None, then there is no limit check for that extreme."
   ]
  },
  {
   "cell_type": "code",
   "execution_count": 21,
   "metadata": {
    "collapsed": false
   },
   "outputs": [
    {
     "name": "stdout",
     "output_type": "stream",
     "text": [
      "[None, <Quantity 20.0 m>] [None, <Quantity 20.0 m>]\n"
     ]
    }
   ],
   "source": [
    "print param['limits'], param.limits"
   ]
  },
  {
   "cell_type": "code",
   "execution_count": 22,
   "metadata": {
    "collapsed": false
   },
   "outputs": [
    {
     "name": "stdout",
     "output_type": "stream",
     "text": [
      "2.0\n"
     ]
    }
   ],
   "source": [
    "#param.set_value(30) # would raise a ValueError\n",
    "param.set_value(2)\n",
    "print param.get_value()"
   ]
  },
  {
   "cell_type": "markdown",
   "metadata": {},
   "source": [
    "FloatParameters have an attribute which holds the \"default_unit\" - this is the unit in which the value is stored **and** the unit that will be provided if not otherwise overriden."
   ]
  },
  {
   "cell_type": "code",
   "execution_count": 23,
   "metadata": {
    "collapsed": false
   },
   "outputs": [
    {
     "name": "stdout",
     "output_type": "stream",
     "text": [
      "m m\n"
     ]
    }
   ],
   "source": [
    "print param['default_unit'], param.default_unit"
   ]
  },
  {
   "cell_type": "markdown",
   "metadata": {},
   "source": [
    "Calling get_value will then return a float in these units"
   ]
  },
  {
   "cell_type": "code",
   "execution_count": 24,
   "metadata": {
    "collapsed": false
   },
   "outputs": [
    {
     "name": "stdout",
     "output_type": "stream",
     "text": [
      "2.0\n"
     ]
    }
   ],
   "source": [
    "print param.get_value()"
   ]
  },
  {
   "cell_type": "markdown",
   "metadata": {},
   "source": [
    "But we can also request the value in a different unit, by passing an [astropy Unit object](http://docs.astropy.org/en/stable/units/) or its string representation."
   ]
  },
  {
   "cell_type": "code",
   "execution_count": 25,
   "metadata": {
    "collapsed": false
   },
   "outputs": [
    {
     "name": "stdout",
     "output_type": "stream",
     "text": [
      "0.002 0.002\n"
     ]
    }
   ],
   "source": [
    "print param.get_value(unit=u.km), param.get_value(unit='km')"
   ]
  },
  {
   "cell_type": "markdown",
   "metadata": {},
   "source": [
    "FloatParameters also have their own method to access an [astropy Quantity object](http://docs.astropy.org/en/stable/units/) that includes both the value and the unit"
   ]
  },
  {
   "cell_type": "code",
   "execution_count": 26,
   "metadata": {
    "collapsed": false
   },
   "outputs": [
    {
     "name": "stdout",
     "output_type": "stream",
     "text": [
      "2.0 m 0.002 km\n"
     ]
    }
   ],
   "source": [
    "print param.get_quantity(), param.get_quantity(unit=u.km)"
   ]
  },
  {
   "cell_type": "markdown",
   "metadata": {},
   "source": [
    "The set_value method also accepts a unit - this doesn't change the default_unit internally, but instead converts the provided value before storing."
   ]
  },
  {
   "cell_type": "code",
   "execution_count": 27,
   "metadata": {
    "collapsed": false
   },
   "outputs": [
    {
     "name": "stdout",
     "output_type": "stream",
     "text": [
      "10.0 m\n"
     ]
    }
   ],
   "source": [
    "param.set_value(10)\n",
    "print param.get_quantity()"
   ]
  },
  {
   "cell_type": "code",
   "execution_count": 28,
   "metadata": {
    "collapsed": false
   },
   "outputs": [
    {
     "name": "stdout",
     "output_type": "stream",
     "text": [
      "1.0 m\n"
     ]
    }
   ],
   "source": [
    "param.set_value(0.001*u.km)\n",
    "print param.get_quantity()"
   ]
  },
  {
   "cell_type": "code",
   "execution_count": 29,
   "metadata": {
    "collapsed": false
   },
   "outputs": [
    {
     "name": "stdout",
     "output_type": "stream",
     "text": [
      "0.1 m\n"
     ]
    }
   ],
   "source": [
    "param.set_value(10, unit='cm')\n",
    "print param.get_quantity()"
   ]
  },
  {
   "cell_type": "markdown",
   "metadata": {},
   "source": [
    "If for some reason you want to change the default_unit, you can do so as well:"
   ]
  },
  {
   "cell_type": "code",
   "execution_count": 30,
   "metadata": {
    "collapsed": false
   },
   "outputs": [
    {
     "name": "stdout",
     "output_type": "stream",
     "text": [
      "0.0001 km\n"
     ]
    }
   ],
   "source": [
    "param.set_default_unit(u.km)\n",
    "print param.get_quantity()"
   ]
  },
  {
   "cell_type": "markdown",
   "metadata": {},
   "source": [
    "But note that the limits are still stored as a quantity object in the originally defined default_units"
   ]
  },
  {
   "cell_type": "code",
   "execution_count": 31,
   "metadata": {
    "collapsed": false
   },
   "outputs": [
    {
     "name": "stdout",
     "output_type": "stream",
     "text": [
      "[None, <Quantity 20.0 m>]\n"
     ]
    }
   ],
   "source": [
    "print param.limits"
   ]
  },
  {
   "cell_type": "markdown",
   "metadata": {},
   "source": [
    "### IntParameters\n",
    "\n",
    "IntParameters are essentially the same as FloatParameters except they always cast to an Integer and they have no units."
   ]
  },
  {
   "cell_type": "code",
   "execution_count": 32,
   "metadata": {
    "collapsed": false
   },
   "outputs": [],
   "source": [
    "param = phoebe.parameters.IntParameter(qualifier='myintparameter',\n",
    "                                       description='mydescription',\n",
    "                                       limits=[0,None],\n",
    "                                       value=1)"
   ]
  },
  {
   "cell_type": "code",
   "execution_count": 33,
   "metadata": {
    "collapsed": false
   },
   "outputs": [
    {
     "name": "stdout",
     "output_type": "stream",
     "text": [
      "Parameter: myintparameter\n",
      "                       Qualifier: myintparameter\n",
      "                     Description: mydescription\n",
      "                           Value: 1\n",
      "\n"
     ]
    }
   ],
   "source": [
    "print param"
   ]
  },
  {
   "cell_type": "code",
   "execution_count": 34,
   "metadata": {
    "collapsed": false
   },
   "outputs": [
    {
     "name": "stdout",
     "output_type": "stream",
     "text": [
      "['description', 'value', 'limits', 'visible_if', 'copy_for']\n"
     ]
    }
   ],
   "source": [
    "print param.attributes"
   ]
  },
  {
   "cell_type": "markdown",
   "metadata": {},
   "source": [
    "Like FloatParameters above, IntParameters still have limits"
   ]
  },
  {
   "cell_type": "code",
   "execution_count": 35,
   "metadata": {
    "collapsed": false
   },
   "outputs": [
    {
     "name": "stdout",
     "output_type": "stream",
     "text": [
      "[0, None] [0, None]\n"
     ]
    }
   ],
   "source": [
    "print param['limits'], param.limits"
   ]
  },
  {
   "cell_type": "markdown",
   "metadata": {},
   "source": [
    "Note that if you try to set the value to a float it will not raise an error, but will cast that value to an integer (following python rules of truncation, not rounding)"
   ]
  },
  {
   "cell_type": "code",
   "execution_count": 36,
   "metadata": {
    "collapsed": false
   },
   "outputs": [
    {
     "name": "stdout",
     "output_type": "stream",
     "text": [
      "1\n"
     ]
    }
   ],
   "source": [
    "param.set_value(1.9)\n",
    "print param.get_value()"
   ]
  },
  {
   "cell_type": "markdown",
   "metadata": {},
   "source": [
    "### Bool Parameters\n",
    "\n",
    "Boolean Parameters are even simpler - they accept True or False."
   ]
  },
  {
   "cell_type": "code",
   "execution_count": 37,
   "metadata": {
    "collapsed": true
   },
   "outputs": [],
   "source": [
    "param = phoebe.parameters.BoolParameter(qualifier='myboolparameter',\n",
    "                                        description='mydescription',\n",
    "                                        value=True)"
   ]
  },
  {
   "cell_type": "code",
   "execution_count": 38,
   "metadata": {
    "collapsed": false
   },
   "outputs": [
    {
     "name": "stdout",
     "output_type": "stream",
     "text": [
      "Parameter: myboolparameter\n",
      "                       Qualifier: myboolparameter\n",
      "                     Description: mydescription\n",
      "                           Value: True\n",
      "\n"
     ]
    }
   ],
   "source": [
    "print param"
   ]
  },
  {
   "cell_type": "code",
   "execution_count": 39,
   "metadata": {
    "collapsed": false
   },
   "outputs": [
    {
     "name": "stdout",
     "output_type": "stream",
     "text": [
      "['description', 'value', 'visible_if', 'copy_for']\n"
     ]
    }
   ],
   "source": [
    "print param.attributes"
   ]
  },
  {
   "cell_type": "markdown",
   "metadata": {},
   "source": [
    "Note that, like IntParameters, BoolParameters will attempt to cast anything you give it into True or False."
   ]
  },
  {
   "cell_type": "code",
   "execution_count": 40,
   "metadata": {
    "collapsed": false
   },
   "outputs": [
    {
     "name": "stdout",
     "output_type": "stream",
     "text": [
      "False\n"
     ]
    }
   ],
   "source": [
    "param.set_value(0)\n",
    "print param.get_value()"
   ]
  },
  {
   "cell_type": "code",
   "execution_count": 41,
   "metadata": {
    "collapsed": false
   },
   "outputs": [
    {
     "name": "stdout",
     "output_type": "stream",
     "text": [
      "False\n"
     ]
    }
   ],
   "source": [
    "param.set_value(None)\n",
    "print param.get_value()"
   ]
  },
  {
   "cell_type": "markdown",
   "metadata": {},
   "source": [
    "As with Python, an empty string will cast to False and a non-empty string will cast to True"
   ]
  },
  {
   "cell_type": "code",
   "execution_count": 42,
   "metadata": {
    "collapsed": false
   },
   "outputs": [
    {
     "name": "stdout",
     "output_type": "stream",
     "text": [
      "False\n"
     ]
    }
   ],
   "source": [
    "param.set_value('')\n",
    "print param.get_value()"
   ]
  },
  {
   "cell_type": "code",
   "execution_count": 43,
   "metadata": {
    "collapsed": false
   },
   "outputs": [
    {
     "name": "stdout",
     "output_type": "stream",
     "text": [
      "True\n"
     ]
    }
   ],
   "source": [
    "param.set_value('some_string')\n",
    "print param.get_value()"
   ]
  },
  {
   "cell_type": "markdown",
   "metadata": {},
   "source": [
    "The only exception to this is that (unlike Python), 'true' or 'True' will cast to True and 'false' or 'False' will cast to False."
   ]
  },
  {
   "cell_type": "code",
   "execution_count": 44,
   "metadata": {
    "collapsed": false
   },
   "outputs": [
    {
     "name": "stdout",
     "output_type": "stream",
     "text": [
      "False\n"
     ]
    }
   ],
   "source": [
    "param.set_value('False')\n",
    "print param.get_value()"
   ]
  },
  {
   "cell_type": "code",
   "execution_count": 45,
   "metadata": {
    "collapsed": false
   },
   "outputs": [
    {
     "name": "stdout",
     "output_type": "stream",
     "text": [
      "False\n"
     ]
    }
   ],
   "source": [
    "param.set_value('false')\n",
    "print param.get_value()"
   ]
  },
  {
   "cell_type": "markdown",
   "metadata": {},
   "source": [
    "### FloatArrayParameters\n",
    "\n",
    "FloatArrayParameters are essentially the same as FloatParameters (in that they have the same unit treatment, although obviously no limits) but hold numpy arrays rather than a single value.\n",
    "\n",
    "By convention in Phoebe, these will (almost) always have a pluralized qualifier."
   ]
  },
  {
   "cell_type": "code",
   "execution_count": 46,
   "metadata": {
    "collapsed": true
   },
   "outputs": [],
   "source": [
    "param = phoebe.parameters.FloatArrayParameter(qualifier='myfloatarrayparameters',\n",
    "                                              description='mydescription',\n",
    "                                              default_unit=u.m,\n",
    "                                              value=np.array([0,1,2,3]))"
   ]
  },
  {
   "cell_type": "code",
   "execution_count": 47,
   "metadata": {
    "collapsed": false
   },
   "outputs": [
    {
     "name": "stdout",
     "output_type": "stream",
     "text": [
      "Parameter: myfloatarrayparameters\n",
      "                       Qualifier: myfloatarrayparameters\n",
      "                     Description: mydescription\n",
      "                           Value: [ 0.  1.  2.  3.] m\n",
      "                  Constrained by: \n",
      "                      Constrains: None\n",
      "                      Related to: None\n",
      "\n"
     ]
    }
   ],
   "source": [
    "print param"
   ]
  },
  {
   "cell_type": "code",
   "execution_count": 48,
   "metadata": {
    "collapsed": false
   },
   "outputs": [
    {
     "name": "stdout",
     "output_type": "stream",
     "text": [
      "['description', 'value', 'default_unit', 'visible_if', 'copy_for']\n"
     ]
    }
   ],
   "source": [
    "print param.attributes"
   ]
  },
  {
   "cell_type": "code",
   "execution_count": 49,
   "metadata": {
    "collapsed": false
   },
   "outputs": [
    {
     "name": "stdout",
     "output_type": "stream",
     "text": [
      "[ 0.     0.001  0.002  0.003]\n"
     ]
    }
   ],
   "source": [
    "print param.get_value(unit=u.km)"
   ]
  },
  {
   "cell_type": "markdown",
   "metadata": {},
   "source": [
    "FloatArrayParameters also allow for built-in interpolation... but this requires them to be a member of a Bundle, so we'll discuss this in just a bit."
   ]
  },
  {
   "cell_type": "markdown",
   "metadata": {
    "collapsed": true
   },
   "source": [
    "ParametersSets\n",
    "----------------------------\n",
    "\n",
    "ParameterSets are a collection of Parameters that can be filtered by their tags to return another ParameterSet.\n",
    "\n",
    "For illustration, let's create 3 random FloatParameters and combine them to make a ParameterSet."
   ]
  },
  {
   "cell_type": "code",
   "execution_count": 50,
   "metadata": {
    "collapsed": false
   },
   "outputs": [
    {
     "name": "stderr",
     "output_type": "stream",
     "text": [
      "/usr/local/lib/python2.7/dist-packages/astropy/units/quantity.py:782: FutureWarning: comparison to `None` will result in an elementwise object comparison in the future.\n",
      "  return super(Quantity, self).__eq__(other)\n"
     ]
    }
   ],
   "source": [
    "param1 = phoebe.parameters.FloatParameter(qualifier='param1',\n",
    "                                          description='param1 description',\n",
    "                                          default_unit=u.m,\n",
    "                                          limits=[None,20],\n",
    "                                          value=5,\n",
    "                                          context='context1',\n",
    "                                          kind='kind1')\n",
    "\n",
    "param2 = phoebe.parameters.FloatParameter(qualifier='param2',\n",
    "                                          description='param2 description',\n",
    "                                          default_unit=u.deg,\n",
    "                                          limits=[0,2*np.pi],\n",
    "                                          value=0,\n",
    "                                          context='context2',\n",
    "                                          kind='kind2')\n",
    "\n",
    "param3 = phoebe.parameters.FloatParameter(qualifier='param3',\n",
    "                                          description='param3 description',\n",
    "                                          default_unit=u.kg,\n",
    "                                          limits=[0,2*np.pi],\n",
    "                                          value=0,\n",
    "                                          context='context1',\n",
    "                                          kind='kind2')"
   ]
  },
  {
   "cell_type": "code",
   "execution_count": 51,
   "metadata": {
    "collapsed": true
   },
   "outputs": [],
   "source": [
    "ps = phoebe.parameters.ParameterSet([param1, param2, param3])"
   ]
  },
  {
   "cell_type": "code",
   "execution_count": 52,
   "metadata": {
    "collapsed": false
   },
   "outputs": [
    {
     "name": "stdout",
     "output_type": "stream",
     "text": [
      "[<Parameter: param1=5.0 m | keys: description, value, quantity, default_unit, limits, visible_if, copy_for>, <Parameter: param2=0.0 deg | keys: description, value, quantity, default_unit, limits, visible_if, copy_for>, <Parameter: param3=0.0 kg | keys: description, value, quantity, default_unit, limits, visible_if, copy_for>]\n"
     ]
    }
   ],
   "source": [
    "print ps.to_list()"
   ]
  },
  {
   "cell_type": "markdown",
   "metadata": {},
   "source": [
    "If we print a ParameterSet, we'll see a listing of all the Parameters and their values."
   ]
  },
  {
   "cell_type": "code",
   "execution_count": 53,
   "metadata": {
    "collapsed": false
   },
   "outputs": [
    {
     "name": "stdout",
     "output_type": "stream",
     "text": [
      "ParameterSet: 3 parameters\n",
      "           param1@kind1@context1: 5.0 m\n",
      "           param2@kind2@context2: 0.0 deg\n",
      "           param3@kind2@context1: 0.0 kg\n"
     ]
    }
   ],
   "source": [
    "print ps"
   ]
  },
  {
   "cell_type": "markdown",
   "metadata": {},
   "source": [
    "### Twigs"
   ]
  },
  {
   "cell_type": "markdown",
   "metadata": {},
   "source": [
    "The string notation used for the Parameters is called a 'twig' - its simply a combination of all the tags joined with the '@' symbol and gives a very convenient way to access any Parameter.  \n",
    "\n",
    "The order of the tags doesn't matter, and you only need to provide enough tags to produce a unique match.  Since there is only one parameter with kind='kind1', we do not need to provide the extraneous context='context1' in the twig to get a match."
   ]
  },
  {
   "cell_type": "code",
   "execution_count": 54,
   "metadata": {
    "collapsed": false
   },
   "outputs": [
    {
     "name": "stdout",
     "output_type": "stream",
     "text": [
      "Parameter: param1@kind1@context1\n",
      "                       Qualifier: param1\n",
      "                     Description: param1 description\n",
      "                           Value: 5.0 m\n",
      "                  Constrained by: \n",
      "                      Constrains: None\n",
      "                      Related to: None\n",
      "\n"
     ]
    }
   ],
   "source": [
    "print ps.get('param1@kind1')"
   ]
  },
  {
   "cell_type": "markdown",
   "metadata": {},
   "source": [
    "Note that this returned the ParameterObject itself, so you can now use any of the Parameter methods or attributes we saw earlier.  For example:"
   ]
  },
  {
   "cell_type": "code",
   "execution_count": 55,
   "metadata": {
    "collapsed": false
   },
   "outputs": [
    {
     "name": "stdout",
     "output_type": "stream",
     "text": [
      "param1 description\n"
     ]
    }
   ],
   "source": [
    "print ps.get('param1@kind1').description"
   ]
  },
  {
   "cell_type": "markdown",
   "metadata": {},
   "source": [
    "But we can also use set and get_value methods from the ParameterSet itself:"
   ]
  },
  {
   "cell_type": "code",
   "execution_count": 56,
   "metadata": {
    "collapsed": false
   },
   "outputs": [
    {
     "name": "stdout",
     "output_type": "stream",
     "text": [
      "10.0\n"
     ]
    }
   ],
   "source": [
    "ps.set_value('param1@kind1', 10)\n",
    "print ps.get_value('param1@kind1')"
   ]
  },
  {
   "cell_type": "markdown",
   "metadata": {},
   "source": [
    "### Tags"
   ]
  },
  {
   "cell_type": "markdown",
   "metadata": {},
   "source": [
    "Each Parameter has a number of tags, and the ParameterSet has the same tags - where the value of any given tag is None if not shared by all Parameters in that ParameterSet.\n",
    "\n",
    "So let's just print the names of the tags again and then describe what each one means."
   ]
  },
  {
   "cell_type": "code",
   "execution_count": 57,
   "metadata": {
    "collapsed": false
   },
   "outputs": [
    {
     "name": "stdout",
     "output_type": "stream",
     "text": [
      "['time', 'qualifier', 'history', 'feature', 'component', 'dataset', 'constraint', 'compute', 'model', 'fitting', 'feedback', 'plugin', 'kind', 'context']\n"
     ]
    }
   ],
   "source": [
    "print ps.meta.keys()"
   ]
  },
  {
   "cell_type": "markdown",
   "metadata": {},
   "source": [
    "Most of these \"metatags\" act as labels - for example, you can give a component tag to each of the components for easier referencing.\n",
    "\n",
    "But a few of these tags are fixed and not editable:\n",
    "\n",
    "* qualifier: literally the name of the parameter.\n",
    "* kind: tells what kind a parameter is (ie whether a component is a star or an orbit).\n",
    "* context: tells what context this parameter belongs to\n",
    "* twig: a shortcut to the parameter in a single string.\n",
    "* uniquetwig: the minimal twig needed to reach this parameter.\n",
    "* uniqueid: an internal representation used to reach this parameter\n",
    "\n",
    "These contexts are (you'll notice that most are represented in the tags):\n",
    "\n",
    "* setting\n",
    "* history\n",
    "* system\n",
    "* component\n",
    "* feature\n",
    "* dataset\n",
    "* constraint\n",
    "* compute\n",
    "* model\n",
    "* fitting [not yet supported]\n",
    "* feedback [not yet supported]\n",
    "* plugin [not yet supported]\n",
    "\n",
    "One way to distinguish between context and kind is with the following question and answer:\n",
    "\n",
    "\"What kind of **[context]** is this?  It's a **[kind]** tagged **[context]**=**[tag-with-same-name-as-context]**.\"\n",
    "\n",
    "In different cases, this will then become:\n",
    "\n",
    "* \"What kind of **component** is this?  It's a **star** tagged **component**=**starA**.\" (context='component', kind='star', component='starA')\n",
    "* \"What kind of **feature** is this?  It's a **spot** tagged **feature**=**spot01**.\" (context='feature', kind='spot', feature='spot01')\n",
    "* \"What kind of **dataset** is this?  It's a **LC (light curve)** tagged **dataset**=**lc01**.\" (context='dataset', kind='LC', dataset='lc01')\n",
    "* \"What kind of **compute** (options) are these?  They're **phoebe** (compute options) tagged **compute**=**preview**.\" (context='compute', kind='phoebe', compute='preview')\n",
    "\n",
    "\n",
    "As we saw before, these tags can be accessed at the Parameter level as either a dictionary key or as an object attribute.  For ParameterSets, the tags are only accessible through object attributes."
   ]
  },
  {
   "cell_type": "code",
   "execution_count": 58,
   "metadata": {
    "collapsed": false
   },
   "outputs": [
    {
     "name": "stdout",
     "output_type": "stream",
     "text": [
      "None\n"
     ]
    }
   ],
   "source": [
    "print ps.context"
   ]
  },
  {
   "cell_type": "markdown",
   "metadata": {},
   "source": [
    "This returns None since not all objects in this ParameterSet share a single context.  But you can see all the options for a given tag by providing the plural version of that tag name:"
   ]
  },
  {
   "cell_type": "code",
   "execution_count": 59,
   "metadata": {
    "collapsed": false
   },
   "outputs": [
    {
     "name": "stdout",
     "output_type": "stream",
     "text": [
      "['context2', 'context1']\n"
     ]
    }
   ],
   "source": [
    "print ps.contexts"
   ]
  },
  {
   "cell_type": "markdown",
   "metadata": {},
   "source": [
    "### Filtering\n",
    "\n",
    "Any of the tags can also be used to filter the ParameterSet:"
   ]
  },
  {
   "cell_type": "code",
   "execution_count": 60,
   "metadata": {
    "collapsed": false
   },
   "outputs": [
    {
     "name": "stdout",
     "output_type": "stream",
     "text": [
      "ParameterSet: 2 parameters\n",
      "           param1@kind1@context1: 10.0 m\n",
      "           param3@kind2@context1: 0.0 kg\n"
     ]
    }
   ],
   "source": [
    "print ps.filter(context='context1')"
   ]
  },
  {
   "cell_type": "markdown",
   "metadata": {
    "collapsed": true
   },
   "source": [
    "Here we were returned a ParameterSet of all Parameters that matched the filter criteria.  Since we're returned another ParameterSet, we can chain additional filter calls together."
   ]
  },
  {
   "cell_type": "code",
   "execution_count": 61,
   "metadata": {
    "collapsed": false
   },
   "outputs": [
    {
     "name": "stdout",
     "output_type": "stream",
     "text": [
      "ParameterSet: 1 parameters\n",
      "           param1@kind1@context1: 10.0 m\n"
     ]
    }
   ],
   "source": [
    "print ps.filter(context='context1', kind='kind1')"
   ]
  },
  {
   "cell_type": "markdown",
   "metadata": {},
   "source": [
    "Now we see that we have drilled down to a single Parameter.  Note that a ParameterSet is still returned - filter will *always* return a ParameterSet.\n",
    "\n",
    "We could have accomplished the exact same thing with a single call to filter:"
   ]
  },
  {
   "cell_type": "code",
   "execution_count": 62,
   "metadata": {
    "collapsed": false
   },
   "outputs": [
    {
     "name": "stdout",
     "output_type": "stream",
     "text": [
      "ParameterSet: 1 parameters\n",
      "           param1@kind1@context1: 10.0 m\n"
     ]
    }
   ],
   "source": [
    "print ps.filter(context='context1', kind='kind1')"
   ]
  },
  {
   "cell_type": "markdown",
   "metadata": {},
   "source": [
    "If you want to access the actual Parameter, you must use get instead of (or in addition to) filter.  All of the following lines do the exact same thing:"
   ]
  },
  {
   "cell_type": "code",
   "execution_count": 63,
   "metadata": {
    "collapsed": false
   },
   "outputs": [
    {
     "name": "stdout",
     "output_type": "stream",
     "text": [
      "Parameter: param1@kind1@context1\n",
      "                       Qualifier: param1\n",
      "                     Description: param1 description\n",
      "                           Value: 10.0 m\n",
      "                  Constrained by: \n",
      "                      Constrains: None\n",
      "                      Related to: None\n",
      "\n"
     ]
    }
   ],
   "source": [
    "print ps.filter(context='context1', kind='kind1').get()"
   ]
  },
  {
   "cell_type": "code",
   "execution_count": 64,
   "metadata": {
    "collapsed": false
   },
   "outputs": [
    {
     "name": "stdout",
     "output_type": "stream",
     "text": [
      "Parameter: param1@kind1@context1\n",
      "                       Qualifier: param1\n",
      "                     Description: param1 description\n",
      "                           Value: 10.0 m\n",
      "                  Constrained by: \n",
      "                      Constrains: None\n",
      "                      Related to: None\n",
      "\n"
     ]
    }
   ],
   "source": [
    "print ps.get(context='context1', kind='kind1')"
   ]
  },
  {
   "cell_type": "markdown",
   "metadata": {},
   "source": [
    "Or we can use those twigs.  Remember that twigs are just a combination of these tags separated by the @ symbol.  You can use these for dictionary access in a ParameterSet - without needing to provide the name of the tag, and without having to worry about order.  And whenever this returns a ParameterSet, these are also chainable, so the following two lines will do the same thing:"
   ]
  },
  {
   "cell_type": "code",
   "execution_count": 65,
   "metadata": {
    "collapsed": false
   },
   "outputs": [
    {
     "name": "stdout",
     "output_type": "stream",
     "text": [
      "Parameter: param1@kind1@context1\n",
      "                       Qualifier: param1\n",
      "                     Description: param1 description\n",
      "                           Value: 10.0 m\n",
      "                  Constrained by: \n",
      "                      Constrains: None\n",
      "                      Related to: None\n",
      "\n"
     ]
    }
   ],
   "source": [
    "print ps['context1@kind1']"
   ]
  },
  {
   "cell_type": "code",
   "execution_count": 66,
   "metadata": {
    "collapsed": false
   },
   "outputs": [
    {
     "name": "stdout",
     "output_type": "stream",
     "text": [
      "Parameter: param1@kind1@context1\n",
      "                       Qualifier: param1\n",
      "                     Description: param1 description\n",
      "                           Value: 10.0 m\n",
      "                  Constrained by: \n",
      "                      Constrains: None\n",
      "                      Related to: None\n",
      "\n"
     ]
    }
   ],
   "source": [
    "print ps['context1']['kind1']"
   ]
  },
  {
   "cell_type": "markdown",
   "metadata": {},
   "source": [
    "You may notice that the final result was a Parameter, not a ParameterSet.  Twig dictionary access tries to be smart - if exactly 1 Parameter is found, it will return that Parameter instead of a ParameterSet.  Notice the difference between the two following lines:"
   ]
  },
  {
   "cell_type": "code",
   "execution_count": 67,
   "metadata": {
    "collapsed": false
   },
   "outputs": [
    {
     "name": "stdout",
     "output_type": "stream",
     "text": [
      "ParameterSet: 2 parameters\n",
      "           param1@kind1@context1: 10.0 m\n",
      "           param3@kind2@context1: 0.0 kg\n"
     ]
    }
   ],
   "source": [
    "print ps['context1']"
   ]
  },
  {
   "cell_type": "code",
   "execution_count": 68,
   "metadata": {
    "collapsed": false
   },
   "outputs": [
    {
     "name": "stdout",
     "output_type": "stream",
     "text": [
      "Parameter: param1@kind1@context1\n",
      "                       Qualifier: param1\n",
      "                     Description: param1 description\n",
      "                           Value: 10.0 m\n",
      "                  Constrained by: \n",
      "                      Constrains: None\n",
      "                      Related to: None\n",
      "\n"
     ]
    }
   ],
   "source": [
    "print ps['context1@kind1']"
   ]
  },
  {
   "cell_type": "markdown",
   "metadata": {},
   "source": [
    "Of course, once you get the Parameter you can then use dictionary keys to access any attributes of that Parameter."
   ]
  },
  {
   "cell_type": "code",
   "execution_count": 69,
   "metadata": {
    "collapsed": false
   },
   "outputs": [
    {
     "name": "stdout",
     "output_type": "stream",
     "text": [
      "param1 description\n"
     ]
    }
   ],
   "source": [
    "print ps['context1@kind1']['description']"
   ]
  },
  {
   "cell_type": "markdown",
   "metadata": {},
   "source": [
    "So we decided we might as well allow access to those attributes directly from the twig as well"
   ]
  },
  {
   "cell_type": "code",
   "execution_count": 70,
   "metadata": {
    "collapsed": false
   },
   "outputs": [
    {
     "name": "stdout",
     "output_type": "stream",
     "text": [
      "param1 description\n"
     ]
    }
   ],
   "source": [
    "print ps['description@context1@kind1']"
   ]
  },
  {
   "cell_type": "markdown",
   "metadata": {},
   "source": [
    "The Bundle\n",
    "------------\n",
    "\n",
    "The Bundle is nothing more than a glorified ParameterSet with some extra methods to compute models, add new components and datasets, etc.\n",
    "\n",
    "You can initialize an empty Bundle as follows:"
   ]
  },
  {
   "cell_type": "code",
   "execution_count": 71,
   "metadata": {
    "collapsed": false
   },
   "outputs": [
    {
     "name": "stdout",
     "output_type": "stream",
     "text": [
      "SYSTEM:\n",
      "distance\n",
      "hierarchy\n",
      "t0\n",
      "vgamma\n",
      "epoch\n",
      "ra\n",
      "dec\n",
      "\n",
      "COMPONENT:\n",
      "\n",
      "\n",
      "DATASET:\n",
      "\n",
      "\n",
      "CONSTRAINT:\n",
      "\n",
      "\n",
      "COMPUTE:\n",
      "\n",
      "\n",
      "MODEL:\n",
      "\n",
      "\n",
      "FITTING:\n",
      "\n",
      "\n",
      "FEEDBACK:\n",
      "\n",
      "\n",
      "PLUGIN:\n",
      "\n",
      "\n",
      "\n"
     ]
    }
   ],
   "source": [
    "b = phoebe.Bundle()\n",
    "print b"
   ]
  },
  {
   "cell_type": "markdown",
   "metadata": {},
   "source": [
    "and filter just as you would for a ParameterSet"
   ]
  },
  {
   "cell_type": "code",
   "execution_count": 72,
   "metadata": {
    "collapsed": false
   },
   "outputs": [
    {
     "name": "stdout",
     "output_type": "stream",
     "text": [
      "ParameterSet: 7 parameters\n",
      "                       t0@system: 0.0 d\n",
      "                       ra@system: 0.0 deg\n",
      "                      dec@system: 0.0 deg\n",
      "                    epoch@system: J2000\n",
      "                 distance@system: 1.0 m\n",
      "                   vgamma@system: 0.0 km / s\n",
      "                hierarchy@system: \n"
     ]
    }
   ],
   "source": [
    "print b.filter(context='system')"
   ]
  },
  {
   "cell_type": "markdown",
   "metadata": {},
   "source": [
    "### Visible If\n",
    "\n",
    "As promised earlier, the 'visible_if' attribute of a Parameter controls whether its visible to a ParameterSet... but it only does anything if the Parameter belongs to a Bundle.\n",
    "\n",
    "Let's make a new ParameterSet in which the visibility of one parameter is dependent on the value of another."
   ]
  },
  {
   "cell_type": "code",
   "execution_count": 73,
   "metadata": {
    "collapsed": false
   },
   "outputs": [],
   "source": [
    "param1 = phoebe.parameters.ChoiceParameter(qualifier='what_is_this',\n",
    "                                           choices=['matter', 'aether'],\n",
    "                                           value='matter',\n",
    "                                           context='context1')\n",
    "param2 = phoebe.parameters.FloatParameter(qualifier='mass',\n",
    "                                          default_unit=u.kg,\n",
    "                                          value=5,\n",
    "                                          visible_if='what_is_this:matter',\n",
    "                                          context='context1')\n",
    "\n",
    "b = phoebe.Bundle([param1, param2])"
   ]
  },
  {
   "cell_type": "code",
   "execution_count": 74,
   "metadata": {
    "collapsed": false
   },
   "outputs": [
    {
     "name": "stdout",
     "output_type": "stream",
     "text": [
      "ParameterSet: 2 parameters\n",
      "           what_is_this@context1: matter\n",
      "                   mass@context1: 5.0 kg\n"
     ]
    }
   ],
   "source": [
    "print b.filter()"
   ]
  },
  {
   "cell_type": "markdown",
   "metadata": {},
   "source": [
    "It doesn't make much sense to need to define a mass if this thing isn't baryonic.  So if we change the value of 'what_is_this' to 'aether' then the 'mass' Parameter will temporarily hide itself."
   ]
  },
  {
   "cell_type": "code",
   "execution_count": 75,
   "metadata": {
    "collapsed": false
   },
   "outputs": [
    {
     "name": "stdout",
     "output_type": "stream",
     "text": [
      "ParameterSet: 1 parameters\n",
      "           what_is_this@context1: aether\n"
     ]
    }
   ],
   "source": [
    "b.set_value('what_is_this', 'aether')\n",
    "print b.filter()"
   ]
  },
  {
   "cell_type": "markdown",
   "metadata": {},
   "source": [
    "### FloatArrayParameters: interpolation\n",
    "\n",
    "As mentioned earlier, when a part of a Bundle, FloatArrayParameters can handle simple linear interpolation with respect to another FloatArrayParameter in the same Bundle."
   ]
  },
  {
   "cell_type": "code",
   "execution_count": 76,
   "metadata": {
    "collapsed": false
   },
   "outputs": [],
   "source": [
    "xparam = phoebe.parameters.FloatArrayParameter(qualifier='xs',\n",
    "                                               default_unit=u.d,\n",
    "                                               value=np.linspace(0,1,10),\n",
    "                                               context='context1')\n",
    "\n",
    "yparam = phoebe.parameters.FloatArrayParameter(qualifier='ys',\n",
    "                                               default_unit=u.m,\n",
    "                                               value=np.linspace(0,1,10)**2,\n",
    "                                               context='context1')\n",
    "\n",
    "b = phoebe.Bundle([xparam, yparam])\n"
   ]
  },
  {
   "cell_type": "code",
   "execution_count": 77,
   "metadata": {
    "collapsed": false
   },
   "outputs": [
    {
     "data": {
      "text/plain": [
       "'ys@context1'"
      ]
     },
     "execution_count": 77,
     "metadata": {},
     "output_type": "execute_result"
    }
   ],
   "source": [
    "b.filter('ys').get().twig"
   ]
  },
  {
   "cell_type": "code",
   "execution_count": 78,
   "metadata": {
    "collapsed": false,
    "scrolled": true
   },
   "outputs": [
    {
     "data": {
      "text/plain": [
       "array([ 0.        ,  0.01234568,  0.04938272,  0.11111111,  0.19753086,\n",
       "        0.30864198,  0.44444444,  0.60493827,  0.79012346,  1.        ])"
      ]
     },
     "execution_count": 78,
     "metadata": {},
     "output_type": "execute_result"
    }
   ],
   "source": [
    "b['ys'].get_value()"
   ]
  },
  {
   "cell_type": "markdown",
   "metadata": {},
   "source": [
    "Now we can interpolate the 'ys' param for any given value of 'xs'"
   ]
  },
  {
   "cell_type": "code",
   "execution_count": 79,
   "metadata": {
    "collapsed": false
   },
   "outputs": [
    {
     "data": {
      "text/plain": [
       "0.0"
      ]
     },
     "execution_count": 79,
     "metadata": {},
     "output_type": "execute_result"
    }
   ],
   "source": [
    "b['ys'].interp_value(xs=0)"
   ]
  },
  {
   "cell_type": "code",
   "execution_count": 80,
   "metadata": {
    "collapsed": false
   },
   "outputs": [
    {
     "data": {
      "text/plain": [
       "0.04197530864197531"
      ]
     },
     "execution_count": 80,
     "metadata": {},
     "output_type": "execute_result"
    }
   ],
   "source": [
    "b['ys'].interp_value(xs=0.2)"
   ]
  },
  {
   "cell_type": "markdown",
   "metadata": {},
   "source": [
    "**NOTE**: interp_value does not (yet) support passing a unit.. it will always return a value (not a quantity) and will always be in the default_unit."
   ]
  },
  {
   "cell_type": "markdown",
   "metadata": {},
   "source": [
    "Next\n",
    "----------\n",
    "\n",
    "Next up: let's [build a system](building_a_system.ipynb)"
   ]
  },
  {
   "cell_type": "markdown",
   "metadata": {},
   "source": []
  }
 ],
 "metadata": {
  "kernelspec": {
   "display_name": "Python 2",
   "language": "python",
   "name": "python2"
  },
  "language_info": {
   "codemirror_mode": {
    "name": "ipython",
    "version": 2
   },
   "file_extension": ".py",
   "mimetype": "text/x-python",
   "name": "python",
   "nbconvert_exporter": "python",
   "pygments_lexer": "ipython2",
   "version": "2.7.12"
  }
 },
 "nbformat": 4,
 "nbformat_minor": 0
}
