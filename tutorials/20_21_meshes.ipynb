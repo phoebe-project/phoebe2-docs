{
 "cells": [
  {
   "cell_type": "markdown",
   "metadata": {},
   "source": [
    "2.0 - 2.1 Migration: Meshes\n",
    "============================"
   ]
  },
  {
   "cell_type": "markdown",
   "metadata": {},
   "source": [
    "In this tutorial we will review the changes in the PHOEBE mesh structures. We will first explain the changes and then demonstrate them in code. As usual, let us import phoebe and create a default binary bundle:"
   ]
  },
  {
   "cell_type": "code",
   "execution_count": 1,
   "metadata": {},
   "outputs": [],
   "source": [
    "import phoebe\n",
    "b = phoebe.default_binary()"
   ]
  },
  {
   "cell_type": "markdown",
   "metadata": {
    "collapsed": true
   },
   "source": [
    "PHOEBE 2.0 had a mesh dataset along with `pbmesh` and `protomesh` options you could send to `b.run_compute()`.  These options were quite convenient, but had a few inherit problems:\n",
    "\n",
    "* The protomesh was exposed at only t0 and was in Roche coordinates, despite using the same qualifiers 'x', 'y', 'z'.\n",
    "* Passband-dependent parameters were exposed in the mesh if `pbmesh=True`, but only if the times matched exactly with the passband (lc, rv, etc) dataset.\n",
    "* Storing more than a few meshes become very memory intensive due to their large size and the large number of columns.\n",
    "\n",
    "Addressing these shortcomings required a complete redesign of the mesh dataset.  The most important changes are:\n",
    "\n",
    "* `pbmesh` and `protomesh` are no longer valid options to `b.run_compute()`.  Everything is done through the mesh dataset itself, i.e. `b.add_dataset('mesh')`.\n",
    "* The default columns that are computed for each mesh include the elements in both Roche and plane-of-sky coordinate systems. These columns cannot be disabled.\n",
    "* The `columns` parameter in the mesh dataset lists additional columns to be exposed in the model mesh when calling `b.run_compute()`.  See the section on columns below for more details.\n",
    "* You can choose whether to expose coordinates in the Roche coordinate system ('xs', 'ys', 'zs') or the plane-of-sky coordinate system ('us', 'vs', 'ws').\n",
    "* When plotting, the default is the plane-of-sky coordinate system, and the axes will be correctly labeled as uvw, whereas in PHOEBE 2.0.x these were still labeled xyz. Note that this also applies to velocities ('vxs', 'vys', 'vzs' vs 'vus', 'vvs', 'vws').\n",
    "* The `include_times` parameter allows for importing timestamps from other datasets. It also provides support for important orbital times: 't0' (zero-point), 't0_perpass' (periastron passage), 't0_supconj' (superior conjunction) and 't0_ref' (zero-phase reference point).\n",
    "* By default, the `times` parameter is empty. If you do not set `times` or `include_times` before calling `b.run_compute()`, your model will be empty."
   ]
  },
  {
   "cell_type": "markdown",
   "metadata": {},
   "source": [
    "### The 'columns' parameter\n",
    "\n",
    "This parameter is a SelectParameter (a new type of Parameter introduced in PHOEBE 2.1). Its value is one of the values in a list of allowed options. You can list the options by calling `param.get_choices()` (same as you would for a ChoiceParameter). The value also accepts wildcards, as long as the expression matches at least one of the choices. This allows you to easily select, say, `rvs` from all datasets, by passing `rvs@*`. To see the full list of matched options, use `param.expand_value()`.\n",
    "\n",
    "To demonstrate, let us add a few datasets and look at the available choices for the `columns` parameter."
   ]
  },
  {
   "cell_type": "code",
   "execution_count": 2,
   "metadata": {},
   "outputs": [
    {
     "name": "stdout",
     "output_type": "stream",
     "text": [
      "['pot', 'rpole', 'volume', 'xs', 'ys', 'zs', 'vxs', 'vys', 'vzs', 'nxs', 'nys', 'nzs', 'us', 'vs', 'ws', 'vus', 'vvs', 'vws', 'nus', 'nvs', 'nws', 'areas', 'loggs', 'teffs', 'rprojs', 'mus', 'visibilities', 'visible_centroids', 'rs']\n"
     ]
    }
   ],
   "source": [
    "b.add_dataset('mesh')\n",
    "print b.get_parameter('columns').get_choices()"
   ]
  },
  {
   "cell_type": "code",
   "execution_count": 3,
   "metadata": {},
   "outputs": [
    {
     "name": "stdout",
     "output_type": "stream",
     "text": [
      "['pot', 'rpole', 'volume', 'xs', 'ys', 'zs', 'vxs', 'vys', 'vzs', 'nxs', 'nys', 'nzs', 'us', 'vs', 'ws', 'vus', 'vvs', 'vws', 'nus', 'nvs', 'nws', 'areas', 'loggs', 'teffs', 'rprojs', 'mus', 'visibilities', 'visible_centroids', 'rs', 'intensities@lc01', 'normal_intensities@lc01', 'abs_intensities@lc01', 'abs_normal_intensities@lc01', 'boost_factors@lc01', 'ldint@lc01', 'pblum@lc01', 'ptfarea@lc01']\n"
     ]
    }
   ],
   "source": [
    "b.add_dataset('lc')\n",
    "print b.get_parameter('columns').get_choices()"
   ]
  },
  {
   "cell_type": "code",
   "execution_count": 4,
   "metadata": {},
   "outputs": [
    {
     "data": {
      "text/plain": [
       "['*@lc01', 'teffs']"
      ]
     },
     "execution_count": 4,
     "metadata": {},
     "output_type": "execute_result"
    }
   ],
   "source": [
    "b['columns'] = ['*@lc01', 'teffs']\n",
    "b.get_parameter('columns').get_value()"
   ]
  },
  {
   "cell_type": "code",
   "execution_count": 5,
   "metadata": {},
   "outputs": [
    {
     "data": {
      "text/plain": [
       "['intensities@lc01',\n",
       " 'normal_intensities@lc01',\n",
       " 'abs_intensities@lc01',\n",
       " 'abs_normal_intensities@lc01',\n",
       " 'boost_factors@lc01',\n",
       " 'ldint@lc01',\n",
       " 'pblum@lc01',\n",
       " 'ptfarea@lc01',\n",
       " 'teffs']"
      ]
     },
     "execution_count": 5,
     "metadata": {},
     "output_type": "execute_result"
    }
   ],
   "source": [
    "b.get_parameter('columns').expand_value()"
   ]
  },
  {
   "cell_type": "markdown",
   "metadata": {},
   "source": [
    "### The 'include_times' parameter\n",
    "\n",
    "Similarly, the `include_times` parameter is a SelectParameter, with the choices being the existing datasets, as well as the t0s mentioned above."
   ]
  },
  {
   "cell_type": "code",
   "execution_count": 6,
   "metadata": {},
   "outputs": [
    {
     "name": "stdout",
     "output_type": "stream",
     "text": [
      "[]\n"
     ]
    }
   ],
   "source": [
    "print b.get_parameter('include_times').get_value()"
   ]
  },
  {
   "cell_type": "code",
   "execution_count": 7,
   "metadata": {},
   "outputs": [
    {
     "name": "stdout",
     "output_type": "stream",
     "text": [
      "['lc01', 't0_perpass@binary', 't0_supconj@binary', 't0_ref@binary', 't0@system']\n"
     ]
    }
   ],
   "source": [
    "print b.get_parameter('include_times').get_choices()"
   ]
  },
  {
   "cell_type": "code",
   "execution_count": 8,
   "metadata": {},
   "outputs": [],
   "source": [
    "b['include_times'] = ['lc01', 't0@system']"
   ]
  },
  {
   "cell_type": "code",
   "execution_count": 9,
   "metadata": {},
   "outputs": [
    {
     "name": "stdout",
     "output_type": "stream",
     "text": [
      "['lc01', 't0@system']\n"
     ]
    }
   ],
   "source": [
    "print b.get_parameter('include_times').get_value()"
   ]
  }
 ],
 "metadata": {
  "kernelspec": {
   "display_name": "Python 2",
   "language": "python",
   "name": "python2"
  },
  "language_info": {
   "codemirror_mode": {
    "name": "ipython",
    "version": 2
   },
   "file_extension": ".py",
   "mimetype": "text/x-python",
   "name": "python",
   "nbconvert_exporter": "python",
   "pygments_lexer": "ipython2",
   "version": "2.7.15rc1"
  }
 },
 "nbformat": 4,
 "nbformat_minor": 1
}
