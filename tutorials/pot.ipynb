{
 "cells": [
  {
   "cell_type": "markdown",
   "metadata": {},
   "source": [
    "Potentials\n",
    "============================\n",
    "\n",
    "Setup\n",
    "-----------------------------"
   ]
  },
  {
   "cell_type": "markdown",
   "metadata": {
    "collapsed": true
   },
   "source": [
    "As always, let's do imports and initialize a logger and a new Bundle.  See [Building a System](building_a_system.html) for more details."
   ]
  },
  {
   "cell_type": "code",
   "execution_count": 1,
   "metadata": {
    "collapsed": true
   },
   "outputs": [],
   "source": [
    "%matplotlib inline"
   ]
  },
  {
   "cell_type": "code",
   "execution_count": 2,
   "metadata": {
    "collapsed": false
   },
   "outputs": [
    {
     "name": "stderr",
     "output_type": "stream",
     "text": [
      "WARNING: Constant u'Gravitational constant' is already has a definition in the u'si' system [astropy.constants.constant]\n",
      "WARNING: Constant u'Solar mass' is already has a definition in the u'si' system [astropy.constants.constant]\n",
      "WARNING: Constant u'Solar radius' is already has a definition in the u'si' system [astropy.constants.constant]\n",
      "WARNING: Constant u'Solar luminosity' is already has a definition in the u'si' system [astropy.constants.constant]\n",
      "/usr/local/lib/python2.7/dist-packages/astropy/units/quantity.py:782: FutureWarning: comparison to `None` will result in an elementwise object comparison in the future.\n",
      "  return super(Quantity, self).__eq__(other)\n"
     ]
    }
   ],
   "source": [
    "import phoebe\n",
    "from phoebe import u # units\n",
    "import numpy as np\n",
    "import matplotlib.pyplot as plt\n",
    "\n",
    "logger = phoebe.logger()\n",
    "\n",
    "b = phoebe.default_binary()"
   ]
  },
  {
   "cell_type": "markdown",
   "metadata": {
    "collapsed": true
   },
   "source": [
    "Now let's add a mesh dataset at a few different times so that we can see how the potentials affect the surfaces of the stars."
   ]
  },
  {
   "cell_type": "code",
   "execution_count": 3,
   "metadata": {
    "collapsed": false
   },
   "outputs": [
    {
     "data": {
      "text/plain": [
       "<ParameterSet: 2 parameters | contexts: compute, dataset>"
      ]
     },
     "execution_count": 3,
     "metadata": {},
     "output_type": "execute_result"
    }
   ],
   "source": [
    "b.add_dataset('mesh', times=np.linspace(0,1,11), dataset='mesh01')"
   ]
  },
  {
   "cell_type": "markdown",
   "metadata": {},
   "source": [
    "Relevant Parameters\n",
    "------------------------\n",
    "\n",
    "The 'pot' parameter defines the stellar surface to be at the given Roche equipotential - and is given at periastron. By default, the 'pot' parameter is constrained (in contrast to PHOEBE legacy and Wilson-Devinney) and instead the 'rpole' parameter should be used to change the size of a star."
   ]
  },
  {
   "cell_type": "code",
   "execution_count": 4,
   "metadata": {
    "collapsed": false
   },
   "outputs": [
    {
     "name": "stdout",
     "output_type": "stream",
     "text": [
      "ParameterSet: 2 parameters\n",
      "*          pot@primary@component: 6.28266165375\n",
      "*        pot@secondary@component: 6.28266165375\n"
     ]
    }
   ],
   "source": [
    "print b['pot@component']"
   ]
  },
  {
   "cell_type": "code",
   "execution_count": 5,
   "metadata": {
    "collapsed": false
   },
   "outputs": [
    {
     "name": "stdout",
     "output_type": "stream",
     "text": [
      "Parameter: pot@primary@component\n",
      "                       Qualifier: pot\n",
      "                     Description: Potential at periastron\n",
      "                           Value: 6.28266165375\n",
      "                  Constrained by: rpole@primary@component, q@binary@component, ecc@binary@component, syncpar@primary@component, sma@binary@component\n",
      "                      Constrains: None\n",
      "                      Related to: rpole@primary@component, q@binary@component, ecc@binary@component, syncpar@primary@component, sma@binary@component\n",
      "                 Only visible if: hierarchy.is_contact_binary:False\n",
      "\n"
     ]
    }
   ],
   "source": [
    "print b['pot@primary@component']"
   ]
  },
  {
   "cell_type": "code",
   "execution_count": 6,
   "metadata": {
    "collapsed": false
   },
   "outputs": [
    {
     "name": "stdout",
     "output_type": "stream",
     "text": [
      "Constrains (qualifier): pot\n",
      "Expression in SI (value): rocherpole2potential({rpole@primary@component}, {q@binary@component}, {ecc@binary@component}, {syncpar@primary@component}, {sma@binary@component}, 1)\n",
      "Current Result (result): 6.28266165375\n"
     ]
    }
   ],
   "source": [
    "print b['pot@primary@constraint']"
   ]
  },
  {
   "cell_type": "markdown",
   "metadata": {},
   "source": [
    "The 'rpole' parameter is defined as the polar radius of the star at periastron."
   ]
  },
  {
   "cell_type": "code",
   "execution_count": 7,
   "metadata": {
    "collapsed": false
   },
   "outputs": [
    {
     "name": "stdout",
     "output_type": "stream",
     "text": [
      "ParameterSet: 2 parameters\n",
      "         rpole@primary@component: 1.0 solRad\n",
      "       rpole@secondary@component: 1.0 solRad\n"
     ]
    }
   ],
   "source": [
    "print b['rpole']"
   ]
  },
  {
   "cell_type": "code",
   "execution_count": 8,
   "metadata": {
    "collapsed": false
   },
   "outputs": [
    {
     "name": "stdout",
     "output_type": "stream",
     "text": [
      "Parameter: rpole@primary@component\n",
      "                       Qualifier: rpole\n",
      "                     Description: Polar radius at periastron\n",
      "                           Value: 1.0 solRad\n",
      "                  Constrained by: \n",
      "                      Constrains: pot@primary@component\n",
      "                      Related to: q@binary@component, ecc@binary@component, syncpar@primary@component, sma@binary@component, pot@primary@component\n",
      "                 Only visible if: hierarchy.is_contact_binary:False\n",
      "\n"
     ]
    }
   ],
   "source": [
    "print b['rpole@primary']"
   ]
  },
  {
   "cell_type": "markdown",
   "metadata": {},
   "source": [
    "Critical Potentials and System Checks\n",
    "--------------------------------------------\n",
    "\n",
    "If you set a value such that the system becomes non-computable, a logger warning will immediately be raised.  This will happen in a detached system, for example, if any of the stars are predicted to overflow at periastron.  Since the surface of the star (potential) depends on many parameters (see the constraint above), this can be triggered by changing any of:\n",
    "\n",
    "* rpole\n",
    "* pot\n",
    "* q\n",
    "* sma\n",
    "* ecc\n",
    "* syncpar"
   ]
  },
  {
   "cell_type": "code",
   "execution_count": 9,
   "metadata": {
    "collapsed": false
   },
   "outputs": [
    {
     "name": "stderr",
     "output_type": "stream",
     "text": [
      "Fri, 10 Feb 2017 15:43 PARAMETERS   WARNING primary is overflowing at periastron (L1=3.75, L2=3.21)\n",
      "Fri, 10 Feb 2017 15:43 PARAMETERS   WARNING primary is overflowing at periastron (L1=3.75, L2=3.21)\n"
     ]
    }
   ],
   "source": [
    "b.set_value('rpole@primary@component', 3)"
   ]
  },
  {
   "cell_type": "markdown",
   "metadata": {},
   "source": [
    "At this time, if you were to call run_compute, an error would be thrown.  An error isn't immediately thrown when setting rpole, however, since the overflow can be recitified by changing any of the other relevant parameters.  For instance, let's change sma to be large enough to account for this value of rpole and you'll see that the error does not occur again."
   ]
  },
  {
   "cell_type": "code",
   "execution_count": 10,
   "metadata": {
    "collapsed": false
   },
   "outputs": [
    {
     "name": "stderr",
     "output_type": "stream",
     "text": [
      "Fri, 10 Feb 2017 15:43 PARAMETERS   WARNING primary is overflowing at periastron (L1=3.75, L2=3.21)\n",
      "Fri, 10 Feb 2017 15:43 PARAMETERS   WARNING primary is overflowing at periastron (L1=3.75, L2=3.21)\n",
      "Fri, 10 Feb 2017 15:44 PARAMETERS   WARNING primary is overflowing at periastron (L1=3.75, L2=3.21)\n",
      "Fri, 10 Feb 2017 15:44 PARAMETERS   WARNING primary is overflowing at periastron (L1=3.75, L2=3.21)\n",
      "Fri, 10 Feb 2017 15:44 PARAMETERS   WARNING primary is overflowing at periastron (L1=3.75, L2=3.21)\n",
      "Fri, 10 Feb 2017 15:44 PARAMETERS   WARNING primary is overflowing at periastron (L1=3.75, L2=3.21)\n",
      "Fri, 10 Feb 2017 15:44 PARAMETERS   WARNING primary is overflowing at periastron (L1=3.75, L2=3.21)\n",
      "Fri, 10 Feb 2017 15:44 PARAMETERS   WARNING primary is overflowing at periastron (L1=3.75, L2=3.21)\n"
     ]
    }
   ],
   "source": [
    "b.set_value('sma@binary@component', 5)"
   ]
  },
  {
   "cell_type": "code",
   "execution_count": 11,
   "metadata": {
    "collapsed": false
   },
   "outputs": [
    {
     "name": "stderr",
     "output_type": "stream",
     "text": [
      "Fri, 10 Feb 2017 15:44 PARAMETERS   WARNING primary is overflowing at periastron (L1=3.75, L2=3.21)\n",
      "Fri, 10 Feb 2017 15:44 PARAMETERS   WARNING primary is overflowing at periastron (L1=3.75, L2=3.21)\n",
      "Fri, 10 Feb 2017 15:44 PARAMETERS   WARNING primary is overflowing at periastron (L1=3.75, L2=3.21)\n"
     ]
    }
   ],
   "source": [
    "b.set_value('sma@binary@component', 10)"
   ]
  },
  {
   "cell_type": "markdown",
   "metadata": {},
   "source": [
    "These logger warnings are handy when running phoebe interactively, but in a script its also handy to be able to check whether the system is currently computable /before/ running run_compute.\n",
    "\n",
    "This can be done by calling run_checks which returns a boolean (whether the system passes all checks) and a message (a string describing the first failed check)."
   ]
  },
  {
   "cell_type": "code",
   "execution_count": 12,
   "metadata": {
    "collapsed": false
   },
   "outputs": [
    {
     "name": "stdout",
     "output_type": "stream",
     "text": [
      "True \n"
     ]
    }
   ],
   "source": [
    "passed, message = b.run_checks()\n",
    "print passed, message"
   ]
  },
  {
   "cell_type": "code",
   "execution_count": 13,
   "metadata": {
    "collapsed": false
   },
   "outputs": [
    {
     "name": "stderr",
     "output_type": "stream",
     "text": [
      "Fri, 10 Feb 2017 15:44 PARAMETERS   WARNING primary is overflowing at periastron (L1=3.75, L2=3.21)\n",
      "Fri, 10 Feb 2017 15:44 PARAMETERS   WARNING primary is overflowing at periastron (L1=3.75, L2=3.21)\n",
      "Fri, 10 Feb 2017 15:44 PARAMETERS   WARNING primary is overflowing at periastron (L1=3.75, L2=3.21)\n",
      "Fri, 10 Feb 2017 15:44 PARAMETERS   WARNING primary is overflowing at periastron (L1=3.75, L2=3.21)\n",
      "Fri, 10 Feb 2017 15:44 PARAMETERS   WARNING primary is overflowing at periastron (L1=3.75, L2=3.21)\n"
     ]
    }
   ],
   "source": [
    "b.set_value('sma@binary@component', 5)"
   ]
  },
  {
   "cell_type": "code",
   "execution_count": 14,
   "metadata": {
    "collapsed": false
   },
   "outputs": [
    {
     "name": "stdout",
     "output_type": "stream",
     "text": [
      "False primary is overflowing at periastron (L1=3.75, L2=3.21)\n"
     ]
    }
   ],
   "source": [
    "passed, message = b.run_checks()\n",
    "print passed, message"
   ]
  },
  {
   "cell_type": "markdown",
   "metadata": {},
   "source": [
    "Alternatively, you could also manually check with the critical potentials.  \n",
    "\n",
    "The set value (or constrained value) of the equipotential (which is defined at periastron) must be GREATER than the critical potentials at each of the lagrange points in order to not overflow."
   ]
  },
  {
   "cell_type": "code",
   "execution_count": 15,
   "metadata": {
    "collapsed": false
   },
   "outputs": [
    {
     "name": "stdout",
     "output_type": "stream",
     "text": [
      "pot: 2.52415959238\n",
      "L1_crit: 3.75\n",
      "L2_crit: 3.20679622409\n",
      "L3_crit: 3.20679622409\n"
     ]
    }
   ],
   "source": [
    "q = b.get_value('q@binary@component')\n",
    "F = b.get_value('syncpar@primary@component')\n",
    "# instantaneous distance in units of sma at periastron is 1-e\n",
    "d = 1 - b.get_value('ecc@binary@component')\n",
    "crit_pots = phoebe.libphoebe.roche_critical_potential(q, F, d, L1=True, L2=True, L3=True)\n",
    "pot = b.get_value('pot@primary@component')\n",
    "print \"pot: {}\\nL1_crit: {}\\nL2_crit: {}\\nL3_crit: {}\".format(pot, crit_pots['L1'], crit_pots['L2'], crit_pots['L3'])"
   ]
  },
  {
   "cell_type": "markdown",
   "metadata": {},
   "source": [
    "Here we can see that our star is overflowing at L2.  By changing the sma to a value that passed before, we see that the potential changes to a value that is allowed."
   ]
  },
  {
   "cell_type": "code",
   "execution_count": 16,
   "metadata": {
    "collapsed": false
   },
   "outputs": [
    {
     "name": "stderr",
     "output_type": "stream",
     "text": [
      "Fri, 10 Feb 2017 15:44 PARAMETERS   WARNING primary is overflowing at periastron (L1=3.75, L2=3.21)\n",
      "Fri, 10 Feb 2017 15:44 PARAMETERS   WARNING primary is overflowing at periastron (L1=3.75, L2=3.21)\n",
      "Fri, 10 Feb 2017 15:44 PARAMETERS   WARNING primary is overflowing at periastron (L1=3.75, L2=3.21)\n"
     ]
    }
   ],
   "source": [
    "b.set_value('sma@binary@component', 10)"
   ]
  },
  {
   "cell_type": "code",
   "execution_count": 17,
   "metadata": {
    "collapsed": false
   },
   "outputs": [
    {
     "name": "stdout",
     "output_type": "stream",
     "text": [
      "pot: 4.29115961855\n",
      "L1_crit: 3.75\n",
      "L2_crit: 3.20679622409\n",
      "L3_crit: 3.20679622409\n"
     ]
    }
   ],
   "source": [
    "q = b.get_value('q@binary@component')\n",
    "F = b.get_value('syncpar@primary@component')\n",
    "# instantaneous distance in units of sma at periastron is 1-e\n",
    "d = 1 - b.get_value('ecc@binary@component')\n",
    "crit_pots = phoebe.libphoebe.roche_critical_potential(q, F, d, L1=True, L2=True, L3=True)\n",
    "pot = b.get_value('pot@primary@component')\n",
    "print \"pot: {}\\nL1_crit: {}\\nL2_crit: {}\\nL3_crit: {}\".format(pot, crit_pots['L1'], crit_pots['L2'], crit_pots['L3'])"
   ]
  },
  {
   "cell_type": "markdown",
   "metadata": {},
   "source": [
    "Note that when calling critical potentials for the secondary component, you must invert q."
   ]
  },
  {
   "cell_type": "code",
   "execution_count": 18,
   "metadata": {
    "collapsed": false
   },
   "outputs": [
    {
     "name": "stdout",
     "output_type": "stream",
     "text": [
      "pot: 4.29115961855\n",
      "L1_crit: 3.75\n",
      "L2_crit: 3.20679622409\n",
      "L3_crit: 3.20679622409\n"
     ]
    }
   ],
   "source": [
    "q = 1./b.get_value('q@binary@component')\n",
    "F = b.get_value('syncpar@secondary@component')\n",
    "# instantaneous distance in units of sma at periastron is 1-e\n",
    "d = 1 - b.get_value('ecc@binary@component')\n",
    "crit_pots = phoebe.libphoebe.roche_critical_potential(q, F, d, L1=True, L2=True, L3=True)\n",
    "pot = b.get_value('pot@primary@component')\n",
    "print \"pot: {}\\nL1_crit: {}\\nL2_crit: {}\\nL3_crit: {}\".format(pot, crit_pots['L1'], crit_pots['L2'], crit_pots['L3'])"
   ]
  },
  {
   "cell_type": "markdown",
   "metadata": {},
   "source": [
    "Semi-Detached Systems\n",
    "-----------------------------\n",
    "\n",
    "**NOTE: Support for semi-detached systems is introduced in version 2.0.5**\n",
    "\n",
    "Semi-detached systems are implemented by constraining either the potential or polar radius to be at the critical L1 value.\n",
    "\n",
    "Here since the potential is already constrained by rpole, we'll constrain rpole.  This is done by applying the 'critical_rpole' constraint on the 'primary' component."
   ]
  },
  {
   "cell_type": "code",
   "execution_count": 23,
   "metadata": {
    "collapsed": false
   },
   "outputs": [
    {
     "data": {
      "text/plain": [
       "<ParameterSet: 1 parameters>"
      ]
     },
     "execution_count": 23,
     "metadata": {},
     "output_type": "execute_result"
    }
   ],
   "source": [
    "b.add_constraint('critical_rpole', 'primary')"
   ]
  },
  {
   "cell_type": "markdown",
   "metadata": {},
   "source": [
    "If instead rpole was constrained by pot, then we would use the 'critical_potential' constraint instead.\n",
    "\n",
    "We can view the constraint on rpole by accessing the constraint:"
   ]
  },
  {
   "cell_type": "code",
   "execution_count": 26,
   "metadata": {
    "collapsed": false
   },
   "outputs": [
    {
     "data": {
      "text/plain": [
       "<ConstraintParameter: {rpole@primary@component} = rochecriticalL12rpole({q@binary@component}, {ecc@binary@component}, {syncpar@primary@component}, {sma@binary@component}, 1) => 3.56130872221 solRad>"
      ]
     },
     "execution_count": 26,
     "metadata": {},
     "output_type": "execute_result"
    }
   ],
   "source": [
    "b['rpole@constraint']"
   ]
  },
  {
   "cell_type": "markdown",
   "metadata": {},
   "source": [
    "Now whenever any of the relevant parameters (q, ecc, syncpar, sma) are changed, the rpole and pot will automatically adjust so that they are at the critical L1 value."
   ]
  },
  {
   "cell_type": "markdown",
   "metadata": {
    "deletable": true,
    "editable": true
   },
   "source": [
    "Accessing Synthetic Potentials and Polar Radiii\n",
    "-------------------------------------\n",
    "\n",
    "Potentials and Polar Radii are stored in the synthetic meshes for every time in which a mesh is computed.  For circular orbits, these should remain constant over time and be equivalent to the input parameters.  In the next section, we'll look at an eccentric case which will show how having access to these values as a function of time can be quite handy."
   ]
  },
  {
   "cell_type": "code",
   "execution_count": 19,
   "metadata": {
    "collapsed": false
   },
   "outputs": [
    {
     "data": {
      "text/plain": [
       "<ParameterSet: 662 parameters | components: primary, secondary>"
      ]
     },
     "execution_count": 19,
     "metadata": {},
     "output_type": "execute_result"
    }
   ],
   "source": [
    "b.run_compute(irrad_method='none')"
   ]
  },
  {
   "cell_type": "code",
   "execution_count": 20,
   "metadata": {
    "collapsed": false
   },
   "outputs": [
    {
     "name": "stdout",
     "output_type": "stream",
     "text": [
      "ParameterSet: 11 parameters\n",
      "  0.0@rpole@primary@latest@model: 3.56130872221 solRad\n",
      "  0.1@rpole@primary@latest@model: 3.56130872221 solRad\n",
      "  0.2@rpole@primary@latest@model: 3.56130872221 solRad\n",
      "  0.3@rpole@primary@latest@model: 3.56130872221 solRad\n",
      "  0.4@rpole@primary@latest@model: 3.56130872221 solRad\n",
      "  0.5@rpole@primary@latest@model: 3.56130872221 solRad\n",
      "  0.6@rpole@primary@latest@model: 3.56130872221 solRad\n",
      "  0.7@rpole@primary@latest@model: 3.56130872221 solRad\n",
      "  0.8@rpole@primary@latest@model: 3.56130872221 solRad\n",
      "  0.9@rpole@primary@latest@model: 3.56130872221 solRad\n",
      "  1.0@rpole@primary@latest@model: 3.56130872221 solRad\n"
     ]
    }
   ],
   "source": [
    "print b['rpole@primary@model']"
   ]
  },
  {
   "cell_type": "code",
   "execution_count": 21,
   "metadata": {
    "collapsed": false
   },
   "outputs": [
    {
     "name": "stdout",
     "output_type": "stream",
     "text": [
      "ParameterSet: 11 parameters\n",
      "  0.0@rpole@secondary@latest@...: 1.0 solRad\n",
      "  0.1@rpole@secondary@latest@...: 1.0 solRad\n",
      "  0.2@rpole@secondary@latest@...: 1.0 solRad\n",
      "  0.3@rpole@secondary@latest@...: 1.0 solRad\n",
      "  0.4@rpole@secondary@latest@...: 1.0 solRad\n",
      "  0.5@rpole@secondary@latest@...: 1.0 solRad\n",
      "  0.6@rpole@secondary@latest@...: 1.0 solRad\n",
      "  0.7@rpole@secondary@latest@...: 1.0 solRad\n",
      "  0.8@rpole@secondary@latest@...: 1.0 solRad\n",
      "  0.9@rpole@secondary@latest@...: 1.0 solRad\n",
      "  1.0@rpole@secondary@latest@...: 1.0 solRad\n"
     ]
    }
   ],
   "source": [
    "print b['rpole@secondary@model']"
   ]
  },
  {
   "cell_type": "code",
   "execution_count": 22,
   "metadata": {
    "collapsed": false
   },
   "outputs": [
    {
     "name": "stdout",
     "output_type": "stream",
     "text": [
      "ParameterSet: 11 parameters\n",
      "    0.0@pot@primary@latest@model: 3.75\n",
      "    0.1@pot@primary@latest@model: 3.75\n",
      "    0.2@pot@primary@latest@model: 3.75\n",
      "    0.3@pot@primary@latest@model: 3.75\n",
      "    0.4@pot@primary@latest@model: 3.75\n",
      "    0.5@pot@primary@latest@model: 3.75\n",
      "    0.6@pot@primary@latest@model: 3.75\n",
      "    0.7@pot@primary@latest@model: 3.75\n",
      "    0.8@pot@primary@latest@model: 3.75\n",
      "    0.9@pot@primary@latest@model: 3.75\n",
      "    1.0@pot@primary@latest@model: 3.75\n"
     ]
    }
   ],
   "source": [
    "print b['pot@primary@model']"
   ]
  },
  {
   "cell_type": "code",
   "execution_count": 23,
   "metadata": {
    "collapsed": false
   },
   "outputs": [
    {
     "name": "stdout",
     "output_type": "stream",
     "text": [
      "ParameterSet: 11 parameters\n",
      "  0.0@pot@secondary@latest@model: 10.9950371902\n",
      "  0.1@pot@secondary@latest@model: 10.9950371902\n",
      "  0.2@pot@secondary@latest@model: 10.9950371902\n",
      "  0.3@pot@secondary@latest@model: 10.9950371902\n",
      "  0.4@pot@secondary@latest@model: 10.9950371902\n",
      "  0.5@pot@secondary@latest@model: 10.9950371902\n",
      "  0.6@pot@secondary@latest@model: 10.9950371902\n",
      "  0.7@pot@secondary@latest@model: 10.9950371902\n",
      "  0.8@pot@secondary@latest@model: 10.9950371902\n",
      "  0.9@pot@secondary@latest@model: 10.9950371902\n",
      "  1.0@pot@secondary@latest@model: 10.9950371902\n"
     ]
    }
   ],
   "source": [
    "print b['pot@secondary@model']"
   ]
  },
  {
   "cell_type": "markdown",
   "metadata": {},
   "source": [
    "Eccentricity and Potentials\n",
    "---------------------------------\n",
    "\n",
    "The parameters for 'pot' and 'rpole' are defined to be at periastron, but because of volume conservation, the actual polar radius (and potential) of a star in an eccentric orbit will change as a function of phase.\n",
    "\n",
    "Having access to the instantaneous *synthetic* values of both of the parameters as a function of time in the mesh allows us to see how the radii and potentials are changing.\n",
    "\n",
    "For more information, see the [Eccentricity Tutorial](ecc)"
   ]
  },
  {
   "cell_type": "code",
   "execution_count": null,
   "metadata": {
    "collapsed": true
   },
   "outputs": [],
   "source": []
  }
 ],
 "metadata": {
  "kernelspec": {
   "display_name": "Python 2",
   "language": "python",
   "name": "python2"
  },
  "language_info": {
   "codemirror_mode": {
    "name": "ipython",
    "version": 2
   },
   "file_extension": ".py",
   "mimetype": "text/x-python",
   "name": "python",
   "nbconvert_exporter": "python",
   "pygments_lexer": "ipython2",
   "version": "2.7.12"
  }
 },
 "nbformat": 4,
 "nbformat_minor": 0
}
