{
 "cells": [
  {
   "cell_type": "markdown",
   "metadata": {},
   "source": [
    "Potentials\n",
    "============================\n",
    "\n",
    "PHOEBE 2.0.x's rpole and pot are replaced with [requiv](requiv) in PHOEBE 2.1+."
   ]
  }
 ],
 "metadata": {
  "kernelspec": {
   "display_name": "Python 2",
   "language": "python",
   "name": "python2"
  },
  "language_info": {
   "codemirror_mode": {
    "name": "ipython",
    "version": 2
   },
   "file_extension": ".py",
   "mimetype": "text/x-python",
   "name": "python",
   "nbconvert_exporter": "python",
   "pygments_lexer": "ipython2",
   "version": "2.7.15rc1"
  }
 },
 "nbformat": 4,
 "nbformat_minor": 1
}
