{
 "cells": [
  {
   "cell_type": "markdown",
   "metadata": {},
   "source": [
    "'lp' (Line Profile) Datasets and Options\n",
    "============================\n",
    "\n",
    "Setup\n",
    "-----------------------------"
   ]
  },
  {
   "cell_type": "markdown",
   "metadata": {
    "collapsed": true
   },
   "source": [
    "As always, let's do imports and initialize a logger and a new Bundle.  See [Building a System](building_a_system.html) for more details."
   ]
  },
  {
   "cell_type": "code",
   "execution_count": 1,
   "metadata": {},
   "outputs": [],
   "source": [
    "%matplotlib inline"
   ]
  },
  {
   "cell_type": "code",
   "execution_count": 2,
   "metadata": {},
   "outputs": [],
   "source": [
    "import phoebe\n",
    "from phoebe import u # units\n",
    "import numpy as np\n",
    "import matplotlib.pyplot as plt\n",
    "\n",
    "logger = phoebe.logger()\n",
    "\n",
    "b = phoebe.default_binary()"
   ]
  },
  {
   "cell_type": "markdown",
   "metadata": {
    "collapsed": true
   },
   "source": [
    "Dataset Parameters\n",
    "--------------------------\n",
    "\n",
    "Let's create the ParameterSets which would be added to the Bundle when calling add_dataset. Later we'll call add_dataset, which will create and attach both these ParameterSets for us."
   ]
  },
  {
   "cell_type": "markdown",
   "metadata": {},
   "source": [
    "### components"
   ]
  },
  {
   "cell_type": "markdown",
   "metadata": {},
   "source": [
    "Line profiles will be computed for each component in which the wavelengths are provided.  If we wanted to expose the line profile for the binary as a whole, we'd set the wavelenghts for `wavelengths@binary`.  If instead we wanted to expose per-star line profiles, we could set the wavelengths for both `wavelengths@primary` and `wavelengths@secondary`.\n",
    "\n",
    "If you're passing wavelengths to the `b.add_dataset` call, it will default to filling the wavelengths at the *system-level*.  To override this, pass `components=['primary', 'secondary']`, as well.  For example: `b.add_dataset('lp', wavelengths=np.linspace(549,551,101), components=['primary', 'secondary'])`."
   ]
  },
  {
   "cell_type": "markdown",
   "metadata": {},
   "source": [
    "### times"
   ]
  },
  {
   "cell_type": "markdown",
   "metadata": {},
   "source": [
    "Line profiles have an extra dimension than LC and RV datasets which have times as their independent variable.  For that reason, the parameters in the LP dataset are tagged with individual times instead of having a separate times array.  This allows the flux_densities and sigmas to be per-time.  Because of this, times is not a variable, but instead **must** be passed when you call `b.add_dataset`.  At that point, in order to change the times you would need to remove and re-add the dataset."
   ]
  },
  {
   "cell_type": "code",
   "execution_count": 3,
   "metadata": {},
   "outputs": [
    {
     "name": "stdout",
     "output_type": "stream",
     "text": [
      "ParameterSet: 9 parameters\n",
      "  wavelengths@binary@lp01@dat...: [549.   549.02 549.04 ... 550.96 550.98\n",
      " 551.  ] nm\n",
      "  wavelengths@primary@lp01@da...: [] nm\n",
      "  wavelengths@secondary@lp01@...: [] nm\n",
      "  00.000000@flux_densities@bi...: [] W / (m2 nm)\n",
      "  00.000000@sigmas@binary@lp0...: [] W / (m2 nm)\n",
      "  01.000000@flux_densities@bi...: [] W / (m2 nm)\n",
      "  01.000000@sigmas@binary@lp0...: [] W / (m2 nm)\n",
      "  02.000000@flux_densities@bi...: [] W / (m2 nm)\n",
      "  02.000000@sigmas@binary@lp0...: [] W / (m2 nm)\n"
     ]
    }
   ],
   "source": [
    "b.add_dataset('lp', times=[0,1,2], wavelengths=np.linspace(549, 551, 101))\n",
    "print b.filter(kind='lp')"
   ]
  },
  {
   "cell_type": "markdown",
   "metadata": {},
   "source": [
    "Here we see that there are three wavelengths Parameters, with the `wavelengths@primary` being filled with the input array (since we didn't override the components or manually pass a dictionary).  Because of this, the flux_densities and sigmas are only visible for the binary component as well. (If we were to fill either of the two other arrays, the corresponding Parameters would become visible as well).  We can see, however, that there is an entry for flux_densities and sigmas for each of the times we passed."
   ]
  },
  {
   "cell_type": "markdown",
   "metadata": {},
   "source": [
    "In addition, there are some Parameters in the dataset not related directly to observations.  These include information about the line profile, as well as passband-dependent parameters."
   ]
  },
  {
   "cell_type": "code",
   "execution_count": 4,
   "metadata": {},
   "outputs": [
    {
     "name": "stdout",
     "output_type": "stream",
     "text": [
      "ParameterSet: 7 parameters\n",
      "           passband@lp01@dataset: Johnson:V\n",
      "   intens_weighting@lp01@dataset: energy\n",
      "       profile_func@lp01@dataset: gaussian\n",
      "       profile_rest@lp01@dataset: 550.0 nm\n",
      "         profile_sv@lp01@dataset: 0.0001\n",
      "    ld_func@primary@lp01@dataset: interp\n",
      "  ld_func@secondary@lp01@dataset: interp\n"
     ]
    }
   ],
   "source": [
    "print b.filter(kind='lp_dep')"
   ]
  },
  {
   "cell_type": "markdown",
   "metadata": {},
   "source": [
    "For information on the passband-dependent parameters, see the section on the [lc dataset](LC) (these are used only to compute fluxes when rv_method=='flux-weighted')"
   ]
  },
  {
   "cell_type": "markdown",
   "metadata": {},
   "source": [
    "### wavelengths"
   ]
  },
  {
   "cell_type": "code",
   "execution_count": 5,
   "metadata": {},
   "outputs": [
    {
     "name": "stdout",
     "output_type": "stream",
     "text": [
      "ParameterSet: 3 parameters\n",
      "  wavelengths@binary@lp01@dat...: [549.   549.02 549.04 ... 550.96 550.98\n",
      " 551.  ] nm\n",
      "  wavelengths@primary@lp01@da...: [] nm\n",
      "  wavelengths@secondary@lp01@...: [] nm\n"
     ]
    }
   ],
   "source": [
    "print b.filter('wavelengths')"
   ]
  },
  {
   "cell_type": "code",
   "execution_count": 7,
   "metadata": {},
   "outputs": [
    {
     "name": "stdout",
     "output_type": "stream",
     "text": [
      "Parameter: wavelengths@binary@lp01@dataset\n",
      "                       Qualifier: wavelengths\n",
      "                     Description: Wavelengths of the observations\n",
      "                           Value: [549.   549.02 549.04 ... 550.96 550.98 551.  ] nm\n",
      "                  Constrained by: \n",
      "                      Constrains: None\n",
      "                      Related to: None\n",
      "\n"
     ]
    }
   ],
   "source": [
    "print b.get_parameter('wavelengths', component='binary')"
   ]
  },
  {
   "cell_type": "markdown",
   "metadata": {},
   "source": [
    "### flux_densities"
   ]
  },
  {
   "cell_type": "code",
   "execution_count": 8,
   "metadata": {},
   "outputs": [
    {
     "name": "stdout",
     "output_type": "stream",
     "text": [
      "ParameterSet: 3 parameters\n",
      "  00.000000@flux_densities@bi...: [] W / (m2 nm)\n",
      "  01.000000@flux_densities@bi...: [] W / (m2 nm)\n",
      "  02.000000@flux_densities@bi...: [] W / (m2 nm)\n"
     ]
    }
   ],
   "source": [
    "print b.filter('flux_densities')"
   ]
  },
  {
   "cell_type": "code",
   "execution_count": 10,
   "metadata": {},
   "outputs": [
    {
     "name": "stdout",
     "output_type": "stream",
     "text": [
      "Parameter: 00.000000@flux_densities@binary@lp01@dataset\n",
      "                       Qualifier: flux_densities\n",
      "                     Description: Flux density per wavelength (must be same length as wavelengths or empty)\n",
      "                           Value: [] W / (m2 nm)\n",
      "                  Constrained by: \n",
      "                      Constrains: None\n",
      "                      Related to: None\n",
      "                 Only visible if: [time]wavelengths:<notempty>\n",
      "\n"
     ]
    }
   ],
   "source": [
    "print b.get_parameter('flux_densities', time=0)"
   ]
  },
  {
   "cell_type": "markdown",
   "metadata": {},
   "source": [
    "### sigmas"
   ]
  },
  {
   "cell_type": "code",
   "execution_count": 11,
   "metadata": {},
   "outputs": [
    {
     "name": "stdout",
     "output_type": "stream",
     "text": [
      "ParameterSet: 3 parameters\n",
      "  00.000000@sigmas@binary@lp0...: [] W / (m2 nm)\n",
      "  01.000000@sigmas@binary@lp0...: [] W / (m2 nm)\n",
      "  02.000000@sigmas@binary@lp0...: [] W / (m2 nm)\n"
     ]
    }
   ],
   "source": [
    "print b.filter('sigmas')"
   ]
  },
  {
   "cell_type": "code",
   "execution_count": 12,
   "metadata": {},
   "outputs": [
    {
     "name": "stdout",
     "output_type": "stream",
     "text": [
      "Parameter: 00.000000@sigmas@binary@lp01@dataset\n",
      "                       Qualifier: sigmas\n",
      "                     Description: Observed uncertainty on flux_densities\n",
      "                           Value: [] W / (m2 nm)\n",
      "                  Constrained by: \n",
      "                      Constrains: None\n",
      "                      Related to: None\n",
      "                 Only visible if: [time]wavelengths:<notempty>\n",
      "\n"
     ]
    }
   ],
   "source": [
    "print b.get_parameter('sigmas', time=0)"
   ]
  },
  {
   "cell_type": "markdown",
   "metadata": {},
   "source": [
    "### profile_func"
   ]
  },
  {
   "cell_type": "code",
   "execution_count": 13,
   "metadata": {},
   "outputs": [
    {
     "name": "stdout",
     "output_type": "stream",
     "text": [
      "Parameter: profile_func@lp01@dataset\n",
      "                       Qualifier: profile_func\n",
      "                     Description: Function to use for the rest line profile\n",
      "                           Value: gaussian\n",
      "                         Choices: gaussian, lorentzian\n",
      "\n"
     ]
    }
   ],
   "source": [
    "print b.get_parameter('profile_func')"
   ]
  },
  {
   "cell_type": "markdown",
   "metadata": {},
   "source": [
    "### profile_rest"
   ]
  },
  {
   "cell_type": "code",
   "execution_count": 14,
   "metadata": {},
   "outputs": [
    {
     "name": "stdout",
     "output_type": "stream",
     "text": [
      "Parameter: profile_rest@lp01@dataset\n",
      "                       Qualifier: profile_rest\n",
      "                     Description: Rest central wavelength of the profile\n",
      "                           Value: 550.0 nm\n",
      "                  Constrained by: \n",
      "                      Constrains: None\n",
      "                      Related to: None\n",
      "\n"
     ]
    }
   ],
   "source": [
    "print b.get_parameter('profile_rest')"
   ]
  },
  {
   "cell_type": "markdown",
   "metadata": {},
   "source": [
    "### profile_sv"
   ]
  },
  {
   "cell_type": "code",
   "execution_count": 15,
   "metadata": {},
   "outputs": [
    {
     "name": "stdout",
     "output_type": "stream",
     "text": [
      "Parameter: profile_sv@lp01@dataset\n",
      "                       Qualifier: profile_sv\n",
      "                     Description: Subsidiary value of the profile\n",
      "                           Value: 0.0001\n",
      "                  Constrained by: \n",
      "                      Constrains: None\n",
      "                      Related to: None\n",
      "\n"
     ]
    }
   ],
   "source": [
    "print b.get_parameter('profile_sv')"
   ]
  },
  {
   "cell_type": "markdown",
   "metadata": {},
   "source": [
    "Synthetics\n",
    "------------------"
   ]
  },
  {
   "cell_type": "code",
   "execution_count": 16,
   "metadata": {},
   "outputs": [
    {
     "data": {
      "text/plain": [
       "<ParameterSet: 4 parameters | qualifiers: wavelengths, flux_densities>"
      ]
     },
     "execution_count": 16,
     "metadata": {},
     "output_type": "execute_result"
    }
   ],
   "source": [
    "b.run_compute(irrad_method='none')"
   ]
  },
  {
   "cell_type": "code",
   "execution_count": 17,
   "metadata": {},
   "outputs": [
    {
     "data": {
      "text/plain": [
       "['wavelengths@binary@lp01@phoebe01@latest@lp@model',\n",
       " '00.000000@flux_densities@binary@lp01@phoebe01@latest@lp@model',\n",
       " '01.000000@flux_densities@binary@lp01@phoebe01@latest@lp@model',\n",
       " '02.000000@flux_densities@binary@lp01@phoebe01@latest@lp@model']"
      ]
     },
     "execution_count": 17,
     "metadata": {},
     "output_type": "execute_result"
    }
   ],
   "source": [
    "b['lp@model'].twigs"
   ]
  },
  {
   "cell_type": "markdown",
   "metadata": {},
   "source": [
    "The model for a line profile dataset will expose flux-densities at each time and for each component where the corresponding wavelengths Parameter was not empty.  Here since we used the default and exposed line-profiles for the entire system, we have a single entry per-time."
   ]
  },
  {
   "cell_type": "code",
   "execution_count": 19,
   "metadata": {},
   "outputs": [
    {
     "name": "stdout",
     "output_type": "stream",
     "text": [
      "ParameterSet: 3 parameters\n",
      "  00.000000@flux_densities@la...: [1. 1. 1. ... 1. 1. 1.] W / (m2 nm)\n",
      "  01.000000@flux_densities@la...: [1. 1. 1. ... 1. 1. 1.] W / (m2 nm)\n",
      "  02.000000@flux_densities@la...: [1. 1. 1. ... 1. 1. 1.] W / (m2 nm)\n"
     ]
    }
   ],
   "source": [
    "print b.filter('flux_densities', context='model')"
   ]
  },
  {
   "cell_type": "code",
   "execution_count": 20,
   "metadata": {},
   "outputs": [
    {
     "name": "stdout",
     "output_type": "stream",
     "text": [
      "Parameter: 00.000000@flux_densities@latest@model\n",
      "                       Qualifier: flux_densities\n",
      "                     Description: Flux density per wavelength (must be same length as wavelengths or empty)\n",
      "                           Value: [1. 1. 1. ... 1. 1. 1.] W / (m2 nm)\n",
      "                  Constrained by: \n",
      "                      Constrains: None\n",
      "                      Related to: None\n",
      "                 Only visible if: [time]wavelengths:<notempty>\n",
      "\n"
     ]
    }
   ],
   "source": [
    "print b.get_parameter('flux_densities', context='model', time=0)"
   ]
  },
  {
   "cell_type": "markdown",
   "metadata": {},
   "source": [
    "Plotting\n",
    "---------------\n",
    "\n",
    "By default, LP datasets plot as 'flux_densities' vs 'wavelengths' for a **single time**."
   ]
  },
  {
   "cell_type": "code",
   "execution_count": 24,
   "metadata": {},
   "outputs": [
    {
     "data": {
      "image/png": "[encoded data removed]",
      "text/plain": [
       "<matplotlib.figure.Figure at 0x7f7b12f77f50>"
      ]
     },
     "metadata": {},
     "output_type": "display_data"
    }
   ],
   "source": [
    "afig, mplfig = b.filter(dataset='lp01', context='model', time=0).plot(show=True)"
   ]
  },
  {
   "cell_type": "markdown",
   "metadata": {},
   "source": [
    "Mesh Fields\n",
    "---------------------\n",
    "\n",
    "Let's add a single mesh and see which columns from the line profile dataset are available to expose as a column in the mesh."
   ]
  },
  {
   "cell_type": "code",
   "execution_count": 25,
   "metadata": {},
   "outputs": [
    {
     "data": {
      "text/plain": [
       "<ParameterSet: 4 parameters | contexts: compute, dataset>"
      ]
     },
     "execution_count": 25,
     "metadata": {},
     "output_type": "execute_result"
    }
   ],
   "source": [
    "b.add_dataset('mesh', times=[0], dataset='mesh01')"
   ]
  },
  {
   "cell_type": "code",
   "execution_count": 26,
   "metadata": {},
   "outputs": [
    {
     "name": "stdout",
     "output_type": "stream",
     "text": [
      "['pot', 'rpole', 'volume', 'xs', 'ys', 'zs', 'vxs', 'vys', 'vzs', 'nxs', 'nys', 'nzs', 'us', 'vs', 'ws', 'vus', 'vvs', 'vws', 'nus', 'nvs', 'nws', 'areas', 'loggs', 'teffs', 'rprojs', 'mus', 'visibilities', 'visible_centroids', 'rs', 'intensities@lp01', 'normal_intensities@lp01', 'abs_intensities@lp01', 'abs_normal_intensities@lp01', 'boost_factors@lp01', 'ldint@lp01', 'pblum@lp01', 'ptfarea@lp01', 'rvs@lp01']\n"
     ]
    }
   ],
   "source": [
    "print b['columns'].choices"
   ]
  },
  {
   "cell_type": "markdown",
   "metadata": {},
   "source": [
    "Since line profiles are passband-dependent, we get all passband-dependent mesh quantities as options.  Additionally, we get `rvs@lp01` (which under-the-hood is being used to determine the doppler shift of the line profile per-element and then summed over the star).  To avoid large amounts of data being stored in the mesh with an extra dimension, the per-element line profiles are never stored, and therefore not able to be exposed to the user."
   ]
  }
 ],
 "metadata": {
  "kernelspec": {
   "display_name": "Python 2",
   "language": "python",
   "name": "python2"
  },
  "language_info": {
   "codemirror_mode": {
    "name": "ipython",
    "version": 2
   },
   "file_extension": ".py",
   "mimetype": "text/x-python",
   "name": "python",
   "nbconvert_exporter": "python",
   "pygments_lexer": "ipython2",
   "version": "2.7.15rc1"
  }
 },
 "nbformat": 4,
 "nbformat_minor": 1
}
