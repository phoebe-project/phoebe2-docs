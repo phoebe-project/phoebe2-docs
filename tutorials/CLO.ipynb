{
 "cells": [
  {
   "cell_type": "markdown",
   "metadata": {},
   "source": [
    "'clo' (Interferometric Closure Phase) Dataset\n",
    "====================================\n",
    "\n",
    "Background\n",
    "-----------------\n",
    "\n",
    "See [Interferometric Visibility](VIS.ipynb) for an introduction.\n",
    "\n",
    "Another observable is the complex triple product T_3. It is defined for 3 telescopes as:\n",
    "\n",
    "`T_3 = mu_1 mu_2 mu_3`\n",
    "\n",
    "where the complex visibilities correspond to 3 different baselines, denoted u1, v1, u2, v2, u3, v3.\n",
    "Because u3 = -(u1+u2), v3 = -(v1+v2), the measurement is perfomed on a 'triangle' of telescopes.\n",
    "\n",
    "```\n",
    "       u3,v3    \n",
    "                \n",
    "      o----o    \n",
    "      |   /     \n",
    "u1,v1 |  /      \n",
    "      | /  u2,v2\n",
    "      |/        \n",
    "      o         \n",
    "                \n",
    "```\n",
    "\n",
    "From this, one obtains the closure phase arg T_3 and the triple product amplitude |T_3|.\n",
    "Interestingly, the phase is not affected by seeing; the measurement is self-calibrating.\n"
   ]
  },
  {
   "cell_type": "markdown",
   "metadata": {},
   "source": [
    "Setup\n",
    "--------\n",
    "\n",
    "As a preparatory task, we create a file `Clo.dat`:"
   ]
  },
  {
   "cell_type": "code",
   "execution_count": 2,
   "metadata": {},
   "outputs": [],
   "source": [
    "f = open(\"Clo.dat\", \"w\")\n",
    "f.write(\"# time u1 v1 u2 v2 wavelength bandwidth clo sigma\\n\")\n",
    "\n",
    "t = 0.0                # d\n",
    "u1 = 50.0              # m\n",
    "v1 = 100.0             # m\n",
    "u2 = 250.0             # m\n",
    "v2 = 200.0             # m\n",
    "wavelength = 550.0e-9  # m\n",
    "bandwidth = 100.0e-9   # m\n",
    "clo = 0.0              # 1\n",
    "sigma = 0.1            # 1\n",
    "\n",
    "dt = 0.05              # d\n",
    "while t <= 1.0+0.5*dt:\n",
    "    f.write(\"%.8f  %.8e  %.8e  %.8e  %.8e  %.8e  %.8e  %.8f  %.8f\\n\" % (t, u1, v1, u2, v2, wavelength, bandwidth, clo, sigma))\n",
    "    t += dt\n",
    "\n",
    "f.close()"
   ]
  },
  {
   "cell_type": "markdown",
   "metadata": {},
   "source": [
    "Note: Make sure to have the latest version of PHOEBE 2.5 installed (uncomment this line if running in an online notebook session such as colab)."
   ]
  },
  {
   "cell_type": "code",
   "execution_count": 3,
   "metadata": {},
   "outputs": [],
   "source": [
    "#!pip install -I \"phoebe>=2.5,<2.6\""
   ]
  },
  {
   "cell_type": "markdown",
   "metadata": {
    "collapsed": true
   },
   "source": [
    "As always, let's do imports and add a new Bundle."
   ]
  },
  {
   "cell_type": "code",
   "execution_count": 4,
   "metadata": {},
   "outputs": [],
   "source": [
    "import phoebe\n",
    "\n",
    "b = phoebe.default_binary()"
   ]
  },
  {
   "cell_type": "markdown",
   "metadata": {
    "collapsed": true
   },
   "source": [
    "Parameters\n",
    "----------------\n",
    "\n",
    "Next read `Clo.dat` back and add the corresponding 'clo' dataset:"
   ]
  },
  {
   "cell_type": "code",
   "execution_count": 5,
   "metadata": {
    "scrolled": true
   },
   "outputs": [
    {
     "data": {
      "text/plain": [
       "<ParameterSet: 70 parameters | contexts: compute, figure, dataset>"
      ]
     },
     "execution_count": 5,
     "metadata": {},
     "output_type": "execute_result"
    }
   ],
   "source": [
    "import numpy as np\n",
    "\n",
    "times, u1, v1, u2, v2, wavelengths, clos, sigmas = np.loadtxt(\"Clo.dat\", usecols=[0, 1, 2, 3, 4, 5, 7, 8], unpack=True)\n",
    "\n",
    "b.add_dataset('clo', times=times, u1=u1, v1=v1, u2=u2, v2=v2, wavelengths=wavelengths, clos=clos, sigmas=sigmas, passband='Johnson:V')"
   ]
  },
  {
   "cell_type": "markdown",
   "metadata": {},
   "source": [
    "To verify:"
   ]
  },
  {
   "cell_type": "code",
   "execution_count": 6,
   "metadata": {},
   "outputs": [
    {
     "name": "stdout",
     "output_type": "stream",
     "text": [
      "ParameterSet: 14 parameters\n",
      "              times@clo01@dataset: [0.   0.05 0.1  ... 0.9  0.95 1.  ] d\n",
      "                 u1@clo01@dataset: [50. 50. 50. ... 50. 50. 50.] m\n",
      "                 v1@clo01@dataset: [100. 100. 100. ... 100. 100. 100.] m\n",
      "                 u2@clo01@dataset: [250. 250. 250. ... 250. 250. 250.] m\n",
      "                 v2@clo01@dataset: [200. 200. 200. ... 200. 200. 200.] m\n",
      "        wavelengths@clo01@dataset: [5.5e-07 5.5e-07 5.5e-07 ... 5.5e-07 5.5e-07\n",
      " 5.5e-07] m\n",
      "               clos@clo01@dataset: [0. 0. 0. ... 0. 0. 0.]\n",
      "      compute_times@clo01@dataset: [] d\n",
      "             sigmas@clo01@dataset: [0.1 0.1 0.1 ... 0.1 0.1 0.1]\n",
      "          if_method@clo01@dataset: integrate\n",
      "           passband@clo01@dataset: Johnson:V\n",
      "   intens_weighting@clo01@dataset: energy\n",
      "    ld_mode@primary@clo01@dataset: interp\n",
      "   ld_mode@secondary@clo01@dat...: interp\n"
     ]
    }
   ],
   "source": [
    "print(b.get_dataset(kind='clo'))"
   ]
  },
  {
   "cell_type": "markdown",
   "metadata": {},
   "source": [
    "### times\n",
    "To see explanations:"
   ]
  },
  {
   "cell_type": "code",
   "execution_count": 7,
   "metadata": {},
   "outputs": [
    {
     "name": "stdout",
     "output_type": "stream",
     "text": [
      "Parameter: times@clo01@dataset\n",
      "                       Qualifier: times\n",
      "                     Description: Observed times\n",
      "                           Value: [0.   0.05 0.1  ... 0.9  0.95 1.  ] d\n",
      "                  Constrained by: \n",
      "                      Constrains: None\n",
      "                      Related to: None\n",
      "\n"
     ]
    }
   ],
   "source": [
    "print(b.get_parameter(kind='clo', qualifier='times', context='dataset'))"
   ]
  },
  {
   "cell_type": "markdown",
   "metadata": {},
   "source": [
    "### u1\n",
    "Alternatively, one can use the `twig` syntax.\n",
    " \n",
    "Note: Here, u coordinate is in metres. Above, (u, v) = B/lambda was in cycles per baseline."
   ]
  },
  {
   "cell_type": "code",
   "execution_count": 8,
   "metadata": {},
   "outputs": [
    {
     "name": "stdout",
     "output_type": "stream",
     "text": [
      "Parameter: u1@clo01@dataset\n",
      "                       Qualifier: u1\n",
      "                     Description: Observed baseline u\n",
      "                           Value: [50. 50. 50. ... 50. 50. 50.] m\n",
      "                  Constrained by: \n",
      "                      Constrains: None\n",
      "                      Related to: None\n",
      "\n"
     ]
    }
   ],
   "source": [
    "print(b['u1@clo01@clo@dataset'])"
   ]
  },
  {
   "cell_type": "markdown",
   "metadata": {},
   "source": [
    "### v1"
   ]
  },
  {
   "cell_type": "code",
   "execution_count": 9,
   "metadata": {},
   "outputs": [
    {
     "name": "stdout",
     "output_type": "stream",
     "text": [
      "Parameter: v1@clo01@dataset\n",
      "                       Qualifier: v1\n",
      "                     Description: Observed baseline v\n",
      "                           Value: [100. 100. 100. ... 100. 100. 100.] m\n",
      "                  Constrained by: \n",
      "                      Constrains: None\n",
      "                      Related to: None\n",
      "\n"
     ]
    }
   ],
   "source": [
    "print(b['v1@clo01@clo@dataset'])"
   ]
  },
  {
   "cell_type": "markdown",
   "metadata": {},
   "source": [
    "### u2"
   ]
  },
  {
   "cell_type": "code",
   "execution_count": 10,
   "metadata": {},
   "outputs": [
    {
     "name": "stdout",
     "output_type": "stream",
     "text": [
      "Parameter: u2@clo01@dataset\n",
      "                       Qualifier: u2\n",
      "                     Description: Observed baseline u\n",
      "                           Value: [250. 250. 250. ... 250. 250. 250.] m\n",
      "                  Constrained by: \n",
      "                      Constrains: None\n",
      "                      Related to: None\n",
      "\n"
     ]
    }
   ],
   "source": [
    "print(b['u2@clo01@clo@dataset'])"
   ]
  },
  {
   "cell_type": "markdown",
   "metadata": {},
   "source": [
    "### v2"
   ]
  },
  {
   "cell_type": "code",
   "execution_count": 11,
   "metadata": {},
   "outputs": [
    {
     "name": "stdout",
     "output_type": "stream",
     "text": [
      "Parameter: v2@clo01@dataset\n",
      "                       Qualifier: v2\n",
      "                     Description: Observed baseline v\n",
      "                           Value: [200. 200. 200. ... 200. 200. 200.] m\n",
      "                  Constrained by: \n",
      "                      Constrains: None\n",
      "                      Related to: None\n",
      "\n"
     ]
    }
   ],
   "source": [
    "print(b['v2@clo01@clo@dataset'])"
   ]
  },
  {
   "cell_type": "markdown",
   "metadata": {},
   "source": [
    "### wavelengths"
   ]
  },
  {
   "cell_type": "code",
   "execution_count": 12,
   "metadata": {},
   "outputs": [
    {
     "name": "stdout",
     "output_type": "stream",
     "text": [
      "Parameter: wavelengths@clo01@dataset\n",
      "                       Qualifier: wavelengths\n",
      "                     Description: Observed wavelengths\n",
      "                           Value: [5.5e-07 5.5e-07 5.5e-07 ... 5.5e-07 5.5e-07 5.5e-07] m\n",
      "                  Constrained by: \n",
      "                      Constrains: None\n",
      "                      Related to: None\n",
      "\n"
     ]
    }
   ],
   "source": [
    "print(b['wavelengths@clo01@clo@dataset'])"
   ]
  },
  {
   "cell_type": "markdown",
   "metadata": {},
   "source": [
    "### clos\n",
    "Note: Here, clos is in degrees!"
   ]
  },
  {
   "cell_type": "code",
   "execution_count": 13,
   "metadata": {},
   "outputs": [
    {
     "name": "stdout",
     "output_type": "stream",
     "text": [
      "Parameter: clos@clo01@dataset\n",
      "                       Qualifier: clos\n",
      "                     Description: Observed interferometric closure phase arg T_3\n",
      "                           Value: [0. 0. 0. ... 0. 0. 0.]\n",
      "                  Constrained by: \n",
      "                      Constrains: None\n",
      "                      Related to: None\n",
      "\n"
     ]
    }
   ],
   "source": [
    "print(b['clos@clo01@clo@dataset'])"
   ]
  },
  {
   "cell_type": "markdown",
   "metadata": {},
   "source": [
    "### sigmas"
   ]
  },
  {
   "cell_type": "code",
   "execution_count": 14,
   "metadata": {},
   "outputs": [
    {
     "name": "stdout",
     "output_type": "stream",
     "text": [
      "Parameter: sigmas@clo01@dataset\n",
      "                       Qualifier: sigmas\n",
      "                     Description: Observed uncertainty of visibility\n",
      "                           Value: [0.1 0.1 0.1 ... 0.1 0.1 0.1]\n",
      "                  Constrained by: \n",
      "                      Constrains: None\n",
      "                      Related to: None\n",
      "\n"
     ]
    }
   ],
   "source": [
    "print(b['sigmas@clo01@clo@dataset'])"
   ]
  },
  {
   "cell_type": "markdown",
   "metadata": {},
   "source": [
    "### if_method\n",
    "One can choose either a simple model, assuming a limb-darkened disk(s), or a complex model, with integration over meshes --- i.e., applicable to contact or eclipsing binaries."
   ]
  },
  {
   "cell_type": "code",
   "execution_count": 15,
   "metadata": {},
   "outputs": [
    {
     "name": "stdout",
     "output_type": "stream",
     "text": [
      "Parameter: if_method@clo01@dataset\n",
      "                       Qualifier: if_method\n",
      "                     Description: Method to use for computing interferometric visibility (must be integrate for eclipse effects)\n",
      "                           Value: integrate\n",
      "                         Choices: integrate, simple\n",
      "                  Constrained by: \n",
      "                      Constrains: None\n",
      "                      Related to: None\n",
      "\n"
     ]
    }
   ],
   "source": [
    "print(b.get_parameter(qualifier='if_method', context='dataset'))"
   ]
  },
  {
   "cell_type": "markdown",
   "metadata": {},
   "source": [
    "### passband\n",
    "Passband should be in agreement with the wavelenghts, because individual wavelengths are *not* used for computations of mesh intensities. If the range of wavelengths is too extended (V, R, I, ...), split the respective datasets, please."
   ]
  },
  {
   "cell_type": "code",
   "execution_count": 16,
   "metadata": {},
   "outputs": [
    {
     "name": "stdout",
     "output_type": "stream",
     "text": [
      "Parameter: passband@clo01@dataset\n",
      "                       Qualifier: passband\n",
      "                     Description: Passband\n",
      "                           Value: Johnson:V\n",
      "                         Choices: LSST:u, SDSS:gprime, SSDSS:gs, SDSS:iprime, SDSS:i, SDSS:rprime, Tycho:B, Tycho:V, Gaia:BP, SDSS:r, Johnson:I, Stromgren:y, LSST:i, PanStarrs:r, KELT:R, Johnson:B, SSDSS:is, ZTF:i, BRITE:red, Cousins:R, Gaia:G, Gaia:RP, Johnson:H, PanStarrs:w, SDSS:zprime, SDSS:uprime, SWASP:default, Stromgren:u, SWASP:pre2004, Johnson:R, PanStarrs:i, BRITE:blue, TESS:T, SSDSS:us, PanStarrs:y, SDSS:u, ZTF:r, LSST:y3, LSST:r, Kepler:mean, PanStarrs:g, Stromgren:v, Johnson:J, LSST:g, LSST:z, ZTF:g, SSDSS:zs, SSDSS:rs, Johnson:K, Johnson:V, SDSS:g, Cousins:I, PanStarrs:z, Stromgren:b, Gaia:RVS, SDSS:z, Hipparcos:Hp, PanStarrs:open, Johnson:U, Bolometric:900-40000\n",
      "                  Constrained by: \n",
      "                      Constrains: None\n",
      "                      Related to: None\n",
      "\n"
     ]
    }
   ],
   "source": [
    "print(b.get_parameter(qualifier='passband', context='dataset'))"
   ]
  },
  {
   "cell_type": "markdown",
   "metadata": {},
   "source": [
    "Of course, one has to set up the distance, because 'everything' is affected by angular dimensions! Moreover, we alter the inclination and temperature (cf. photocentre motions below)."
   ]
  },
  {
   "cell_type": "code",
   "execution_count": 17,
   "metadata": {},
   "outputs": [],
   "source": [
    "from astropy import units\n",
    "\n",
    "b.set_value('distance', context = 'system', value=100*units.pc)\n",
    "b.set_value('incl@binary@orbit', value=80*units.deg)\n",
    "b.set_value('teff@secondary@component', value=5000.0)"
   ]
  },
  {
   "cell_type": "markdown",
   "metadata": {},
   "source": [
    "Model\n",
    "---------\n",
    "\n",
    "Eventually, a computation is run as:"
   ]
  },
  {
   "cell_type": "code",
   "execution_count": 18,
   "metadata": {},
   "outputs": [
    {
     "name": "stderr",
     "output_type": "stream",
     "text": [
      "100%|██████████| 21/21 [00:06<00:00,  3.20it/s]\n"
     ]
    },
    {
     "data": {
      "text/plain": [
       "<ParameterSet: 9 parameters | qualifiers: if_method, v2, u2, clos, wavelengths, comments, v1, times, u1>"
      ]
     },
     "execution_count": 18,
     "metadata": {},
     "output_type": "execute_result"
    }
   ],
   "source": [
    "b.run_compute()"
   ]
  },
  {
   "cell_type": "markdown",
   "metadata": {},
   "source": [
    "I already know that I can print:"
   ]
  },
  {
   "cell_type": "code",
   "execution_count": 19,
   "metadata": {},
   "outputs": [
    {
     "name": "stdout",
     "output_type": "stream",
     "text": [
      "ParameterSet: 8 parameters\n",
      "R              times@latest@model: [0.   0.05 0.1  ... 0.9  0.95 1.  ] d\n",
      "R                 u1@latest@model: [50. 50. 50. ... 50. 50. 50.] m\n",
      "R                 v1@latest@model: [100. 100. 100. ... 100. 100. 100.] m\n",
      "R                 u2@latest@model: [250. 250. 250. ... 250. 250. 250.] m\n",
      "R                 v2@latest@model: [200. 200. 200. ... 200. 200. 200.] m\n",
      "R        wavelengths@latest@model: [5.5e-07 5.5e-07 5.5e-07 ... 5.5e-07 5.5e-07\n",
      " 5.5e-07] m\n",
      "R               clos@latest@model: [-1.7889101  -1.55014961 -4.82364179 ... 17.99179452\n",
      "  1.84502222 -1.7889101 ]\n",
      "           if_method@latest@model: integrate\n"
     ]
    }
   ],
   "source": [
    "print(b.get_model(kind='clo'))"
   ]
  },
  {
   "cell_type": "markdown",
   "metadata": {},
   "source": [
    "To save results:"
   ]
  },
  {
   "cell_type": "code",
   "execution_count": 20,
   "metadata": {},
   "outputs": [],
   "source": [
    "times = b['times@clo01@phoebe01@latest@clo@model'].value\n",
    "u1 = b['u1@clo01@phoebe01@latest@clo@model'].value\n",
    "v1 = b['v1@clo01@phoebe01@latest@clo@model'].value\n",
    "u2 = b['u2@clo01@phoebe01@latest@clo@model'].value\n",
    "v2 = b['v2@clo01@phoebe01@latest@clo@model'].value\n",
    "wavelengths = b['wavelengths@clo01@phoebe01@latest@clo@model'].value\n",
    "clos = b['clos@clo01@phoebe01@latest@clo@model'].value\n",
    "\n",
    "np.savetxt('model.out', np.c_[times, u1, v1, u2, v2, wavelengths, clos], header='times u1 v1 u2 v2 wavelenghts clos')\n"
   ]
  },
  {
   "cell_type": "markdown",
   "metadata": {},
   "source": [
    "Plotting\n",
    "-----------\n",
    "\n",
    "To plot results:"
   ]
  },
  {
   "cell_type": "code",
   "execution_count": 21,
   "metadata": {},
   "outputs": [
    {
     "data": {
      "image/png": "[encoded data removed]",
      "text/plain": [
       "<Figure size 576x432 with 1 Axes>"
      ]
     },
     "metadata": {
      "needs_background": "light"
     },
     "output_type": "display_data"
    },
    {
     "data": {
      "text/plain": [
       "(<autofig.figure.Figure | 1 axes | 2 call(s)>,\n",
       " <Figure size 576x432 with 1 Axes>)"
      ]
     },
     "execution_count": 21,
     "metadata": {},
     "output_type": "execute_result"
    }
   ],
   "source": [
    "b.plot(show=True)"
   ]
  },
  {
   "cell_type": "markdown",
   "metadata": {},
   "source": [
    "arg T_3 vs. time is mostly sensitive to photocentre motions of `b.default_binary()`."
   ]
  },
  {
   "cell_type": "code",
   "execution_count": null,
   "metadata": {},
   "outputs": [],
   "source": []
  }
 ],
 "metadata": {
  "kernelspec": {
   "display_name": "Python 3",
   "language": "python",
   "name": "python3"
  },
  "language_info": {
   "codemirror_mode": {
    "name": "ipython",
    "version": 3
   },
   "file_extension": ".py",
   "mimetype": "text/x-python",
   "name": "python",
   "nbconvert_exporter": "python",
   "pygments_lexer": "ipython3",
   "version": "3.9.2"
  }
 },
 "nbformat": 4,
 "nbformat_minor": 1
}
