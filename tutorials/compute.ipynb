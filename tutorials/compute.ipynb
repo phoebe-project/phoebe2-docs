{
 "cells": [
  {
   "cell_type": "markdown",
   "metadata": {},
   "source": [
    "Compute\n",
    "============================\n",
    "\n",
    "Now that we have datasets added to our Bundle, our next step is to run the forward model and compute a synthetic model for each of these datasets.\n",
    "\n",
    "Setup\n",
    "-----------------------------"
   ]
  },
  {
   "cell_type": "markdown",
   "metadata": {
    "collapsed": true
   },
   "source": [
    "As always, let's do imports and initialize a logger and a new Bundle.  See [Building a System](building_a_system.html) for more details."
   ]
  },
  {
   "cell_type": "code",
   "execution_count": 1,
   "metadata": {
    "collapsed": false
   },
   "outputs": [
    {
     "name": "stderr",
     "output_type": "stream",
     "text": [
      "WARNING: Constant u'Gravitational constant' is already has a definition in the u'si' system [astropy.constants.constant]\n",
      "WARNING: Constant u'Solar mass' is already has a definition in the u'si' system [astropy.constants.constant]\n",
      "WARNING: Constant u'Solar radius' is already has a definition in the u'si' system [astropy.constants.constant]\n",
      "WARNING: Constant u'Solar luminosity' is already has a definition in the u'si' system [astropy.constants.constant]\n",
      "/usr/local/lib/python2.7/dist-packages/astropy/units/quantity.py:782: FutureWarning: comparison to `None` will result in an elementwise object comparison in the future.\n",
      "  return super(Quantity, self).__eq__(other)\n"
     ]
    }
   ],
   "source": [
    "import phoebe\n",
    "from phoebe import u # units\n",
    "import numpy as np\n",
    "import matplotlib.pyplot as plt\n",
    "\n",
    "logger = phoebe.logger()\n",
    "\n",
    "b = phoebe.default_binary()"
   ]
  },
  {
   "cell_type": "markdown",
   "metadata": {},
   "source": [
    "And we'll attach some dummy datasets.  See [Datasets](datasets.html) for more details."
   ]
  },
  {
   "cell_type": "code",
   "execution_count": 2,
   "metadata": {
    "collapsed": false
   },
   "outputs": [
    {
     "data": {
      "text/plain": [
       "<ParameterSet: 15 parameters | contexts: compute, dataset>"
      ]
     },
     "execution_count": 2,
     "metadata": {},
     "output_type": "execute_result"
    }
   ],
   "source": [
    "b.add_dataset(phoebe.dataset.orb, times=np.linspace(0,10,10), dataset='orb01', component=['primary', 'secondary'])\n",
    "\n",
    "times, fluxes, sigmas = np.loadtxt('test.lc.in', unpack=True)\n",
    "\n",
    "# test.lc.in has 1000 datapoints... let's use every 10 just for brevity\n",
    "times, fluxes, sigmas = times[:10], fluxes[:10], sigmas[:10]\n",
    "\n",
    "b.add_dataset(phoebe.dataset.lc, times=times, fluxes=fluxes, sigmas=sigmas, dataset='lc01')"
   ]
  },
  {
   "cell_type": "markdown",
   "metadata": {},
   "source": [
    "Default Compute Options\n",
    "----------------------------------\n",
    "\n",
    "Any default Bundle already has a set of default compute options to run the backend for PHOEBE 2.  In most cases, you can just edit the options in this default set of compte options.\n"
   ]
  },
  {
   "cell_type": "code",
   "execution_count": 3,
   "metadata": {
    "collapsed": false
   },
   "outputs": [
    {
     "name": "stdout",
     "output_type": "stream",
     "text": [
      "['phoebe01']\n"
     ]
    }
   ],
   "source": [
    "print b.computes"
   ]
  },
  {
   "cell_type": "code",
   "execution_count": 4,
   "metadata": {
    "collapsed": false
   },
   "outputs": [
    {
     "name": "stdout",
     "output_type": "stream",
     "text": [
      "ParameterSet: 21 parameters\n",
      "  dynamics_method@phoebe01@co...: keplerian\n",
      "           ltte@phoebe01@compute: False\n",
      "   irrad_method@phoebe01@compute: wilson\n",
      "  boosting_method@phoebe01@co...: none\n",
      "      protomesh@phoebe01@compute: False\n",
      "         pbmesh@phoebe01@compute: False\n",
      "        horizon@phoebe01@compute: False\n",
      "  eclipse_method@phoebe01@com...: native\n",
      "  horizon_method@phoebe01@com...: boolean\n",
      "  mesh_method@primary@phoebe0...: marching\n",
      "  mesh_method@secondary@phoeb...: marching\n",
      "  ntriangles@primary@phoebe01...: 1000\n",
      "  ntriangles@secondary@phoebe...: 1000\n",
      "  distortion_method@primary@p...: roche\n",
      "  distortion_method@secondary...: roche\n",
      "    atm@primary@phoebe01@compute: ck2004\n",
      "  atm@secondary@phoebe01@compute: ck2004\n",
      "  enabled@orb01@phoebe01@compute: True\n",
      "   enabled@lc01@phoebe01@compute: True\n",
      "      lc_method@phoebe01@compute: numerical\n",
      "     fti_method@phoebe01@compute: none\n"
     ]
    }
   ],
   "source": [
    "print b.filter(context='compute')"
   ]
  },
  {
   "cell_type": "code",
   "execution_count": 5,
   "metadata": {
    "collapsed": true
   },
   "outputs": [],
   "source": [
    "b.set_value('irrad_method', 'none')"
   ]
  },
  {
   "cell_type": "markdown",
   "metadata": {},
   "source": [
    "Adding Compute Options\n",
    "--------------------------------------\n",
    "\n",
    "In other cases, we may want to manually add additional sets of compute options.\n",
    "This syntax should look very familiar by now, it takes a function (or the name of a recognized function in phoebe.parameters.compute) and then any\n",
    "kwargs to set in that ParameterSet.\n",
    "\n",
    "Let's say that we want to create two sets of compute options - in this example, we'll create one called 'preview' which will cut some corners to quickly get us a model, and one called 'detailed' which will get a much more precise model but likely take longer.  As with other tags, the string you provide for the compute tag is up to you (so long as it doesn't raise an error because it conflicts with other tags)."
   ]
  },
  {
   "cell_type": "code",
   "execution_count": 6,
   "metadata": {
    "collapsed": false
   },
   "outputs": [
    {
     "data": {
      "text/plain": [
       "<ParameterSet: 21 parameters | datasets: lc01, orb01>"
      ]
     },
     "execution_count": 6,
     "metadata": {},
     "output_type": "execute_result"
    }
   ],
   "source": [
    "b.add_compute(phoebe.compute.phoebe, compute='preview', irrad_method='none')"
   ]
  },
  {
   "cell_type": "code",
   "execution_count": 7,
   "metadata": {
    "collapsed": false,
    "scrolled": true
   },
   "outputs": [
    {
     "name": "stdout",
     "output_type": "stream",
     "text": [
      "ParameterSet: 21 parameters\n",
      "  dynamics_method@preview@com...: keplerian\n",
      "            ltte@preview@compute: False\n",
      "    irrad_method@preview@compute: none\n",
      "  boosting_method@preview@com...: none\n",
      "       protomesh@preview@compute: False\n",
      "          pbmesh@preview@compute: False\n",
      "         horizon@preview@compute: False\n",
      "  eclipse_method@preview@compute: native\n",
      "  horizon_method@preview@compute: boolean\n",
      "    enabled@lc01@preview@compute: True\n",
      "   enabled@orb01@preview@compute: True\n",
      "  mesh_method@primary@preview...: marching\n",
      "  mesh_method@secondary@previ...: marching\n",
      "  ntriangles@primary@preview@...: 1000\n",
      "  ntriangles@secondary@previe...: 1000\n",
      "  distortion_method@primary@p...: roche\n",
      "  distortion_method@secondary...: roche\n",
      "     atm@primary@preview@compute: ck2004\n",
      "   atm@secondary@preview@compute: ck2004\n",
      "       lc_method@preview@compute: numerical\n",
      "      fti_method@preview@compute: none\n"
     ]
    }
   ],
   "source": [
    "print b['preview@compute']"
   ]
  },
  {
   "cell_type": "code",
   "execution_count": 8,
   "metadata": {
    "collapsed": false
   },
   "outputs": [
    {
     "data": {
      "text/plain": [
       "<ParameterSet: 21 parameters | datasets: lc01, orb01>"
      ]
     },
     "execution_count": 8,
     "metadata": {},
     "output_type": "execute_result"
    }
   ],
   "source": [
    "b.add_compute('phoebe', compute='detailed', irrad_method='wilson')"
   ]
  },
  {
   "cell_type": "code",
   "execution_count": 9,
   "metadata": {
    "collapsed": false
   },
   "outputs": [
    {
     "name": "stdout",
     "output_type": "stream",
     "text": [
      "ParameterSet: 21 parameters\n",
      "  dynamics_method@detailed@co...: keplerian\n",
      "           ltte@detailed@compute: False\n",
      "   irrad_method@detailed@compute: wilson\n",
      "  boosting_method@detailed@co...: none\n",
      "      protomesh@detailed@compute: False\n",
      "         pbmesh@detailed@compute: False\n",
      "        horizon@detailed@compute: False\n",
      "  eclipse_method@detailed@com...: native\n",
      "  horizon_method@detailed@com...: boolean\n",
      "   enabled@lc01@detailed@compute: True\n",
      "  enabled@orb01@detailed@compute: True\n",
      "  mesh_method@primary@detaile...: marching\n",
      "  mesh_method@secondary@detai...: marching\n",
      "  ntriangles@primary@detailed...: 1000\n",
      "  ntriangles@secondary@detail...: 1000\n",
      "  distortion_method@primary@d...: roche\n",
      "  distortion_method@secondary...: roche\n",
      "    atm@primary@detailed@compute: ck2004\n",
      "  atm@secondary@detailed@compute: ck2004\n",
      "      lc_method@detailed@compute: numerical\n",
      "     fti_method@detailed@compute: none\n"
     ]
    }
   ],
   "source": [
    "print b.get_compute('detailed')"
   ]
  },
  {
   "cell_type": "markdown",
   "metadata": {},
   "source": [
    "Editing Compute Options\n",
    "-------------------------------------\n",
    "\n",
    "### Backend-Specific Compute Options\n",
    "\n",
    "Most of the parameters in the compute options are specific to the backend being used.  Here, of course, we're using the PHOEBE 2.0 backend - but for details on other backends see the [Alternate Backends Tutorial](alternate_backends).\n",
    "\n",
    "The PHOEBE 2.0 compute options are described in the tutorial on their relevant dataset types:\n",
    "\n",
    "* [Orbits (orb)](ORB)\n",
    "* [Meshes (mesh)](MESH)\n",
    "* [Light Curves/Fluxes (lc)](LC)\n",
    "* [Radial Velocities (rv)](RV)"
   ]
  },
  {
   "cell_type": "markdown",
   "metadata": {},
   "source": [
    "### Enabling/Disabling Datasets\n",
    "\n",
    "By default, synthetic models will be created for all datasets in the Bundle when run_compute is called.  But you can disable a dataset to have run_compute ignore that dataset.  This is handled by a BoolParameter with the qualifier 'enabled' - and has a copy that lives in each set of compute options\n",
    "\n",
    "Let's say we wanted to compute the orbit but not light curve - so we want to see enabled@lc01:"
   ]
  },
  {
   "cell_type": "code",
   "execution_count": 10,
   "metadata": {
    "collapsed": false,
    "scrolled": false
   },
   "outputs": [
    {
     "name": "stdout",
     "output_type": "stream",
     "text": [
      "ParameterSet: 3 parameters\n",
      "   enabled@lc01@phoebe01@compute: True\n",
      "    enabled@lc01@preview@compute: True\n",
      "   enabled@lc01@detailed@compute: True\n"
     ]
    }
   ],
   "source": [
    "print b['enabled@lc01']"
   ]
  },
  {
   "cell_type": "markdown",
   "metadata": {},
   "source": [
    "as you can see, there is a copy for both of our compute options ('preview' and 'detailed').\n",
    "\n",
    "If we know which set of compute options we'll be using, or only want to enable/disable for a given set, then we can do that:"
   ]
  },
  {
   "cell_type": "code",
   "execution_count": 11,
   "metadata": {
    "collapsed": false,
    "scrolled": true
   },
   "outputs": [
    {
     "name": "stdout",
     "output_type": "stream",
     "text": [
      "ParameterSet: 3 parameters\n",
      "   enabled@lc01@phoebe01@compute: True\n",
      "    enabled@lc01@preview@compute: False\n",
      "   enabled@lc01@detailed@compute: True\n"
     ]
    }
   ],
   "source": [
    "b['enabled@lc01@preview'] = False\n",
    "print b['enabled@lc01']"
   ]
  },
  {
   "cell_type": "markdown",
   "metadata": {},
   "source": [
    "or to enable/disable a dataset for all sets of compute options, we can use the set_value_all method:"
   ]
  },
  {
   "cell_type": "code",
   "execution_count": 12,
   "metadata": {
    "collapsed": false,
    "scrolled": true
   },
   "outputs": [
    {
     "name": "stdout",
     "output_type": "stream",
     "text": [
      "ParameterSet: 3 parameters\n",
      "   enabled@lc01@phoebe01@compute: False\n",
      "    enabled@lc01@preview@compute: False\n",
      "   enabled@lc01@detailed@compute: False\n"
     ]
    }
   ],
   "source": [
    "b.set_value_all('enabled@lc01', False)\n",
    "print b['enabled@lc01']"
   ]
  },
  {
   "cell_type": "markdown",
   "metadata": {},
   "source": [
    "If the enabled parameter is missing for a set of compute options - it is likely that that particular backend does not support that dataset type."
   ]
  },
  {
   "cell_type": "markdown",
   "metadata": {},
   "source": [
    "Running Compute\n",
    "-----------------------\n",
    "\n",
    "### Simplest Case\n",
    "\n",
    "run_compute takes arguments for the compute tag as well as the model tag for the resulting synthetic model(s).  \n",
    "\n",
    "You do not need to provide the compute tag if only 0 or 1 set of compute options exist in the Bundle.  If there are no compute options, the default PHOEBE 2.0 options will be added on your behalf and used.  If there is a single set of compute options, those will be assumed.  In our case, we have two compute options in the Bundle (with tags 'preview' and 'detailed') so we *must* provide an argument for compute.\n",
    "\n",
    "If you do not provide a tag for the model, one will be created for you called 'latest'.  Note that any existing model with the same tag will immediately be overwritten once you call run_compute, so if you want to maintain the results from previous calls to run_compute, you must provide a NEW model tag."
   ]
  },
  {
   "cell_type": "code",
   "execution_count": 13,
   "metadata": {
    "collapsed": false
   },
   "outputs": [
    {
     "data": {
      "text/plain": [
       "<ParameterSet: 14 parameters | components: primary, secondary>"
      ]
     },
     "execution_count": 13,
     "metadata": {},
     "output_type": "execute_result"
    }
   ],
   "source": [
    "b.run_compute(compute='preview')"
   ]
  },
  {
   "cell_type": "code",
   "execution_count": 14,
   "metadata": {
    "collapsed": false
   },
   "outputs": [
    {
     "data": {
      "text/plain": [
       "['latest']"
      ]
     },
     "execution_count": 14,
     "metadata": {},
     "output_type": "execute_result"
    }
   ],
   "source": [
    "b.models"
   ]
  },
  {
   "cell_type": "markdown",
   "metadata": {},
   "source": [
    "### Storing Models\n",
    "\n",
    "Now let's compute models for three different 'versions' of parameters.  By providing a model tag, we can keep the synthetics for each of these different runs in the bundle - which will be handy later on for plotting and comparing models."
   ]
  },
  {
   "cell_type": "code",
   "execution_count": 15,
   "metadata": {
    "collapsed": false,
    "scrolled": false
   },
   "outputs": [
    {
     "data": {
      "text/plain": [
       "<ParameterSet: 14 parameters | components: primary, secondary>"
      ]
     },
     "execution_count": 15,
     "metadata": {},
     "output_type": "execute_result"
    }
   ],
   "source": [
    "b.set_value('incl@orbit', 90)\n",
    "b.run_compute(compute='preview', model='run_with_incl_90') "
   ]
  },
  {
   "cell_type": "code",
   "execution_count": 16,
   "metadata": {
    "collapsed": false,
    "scrolled": true
   },
   "outputs": [
    {
     "name": "stderr",
     "output_type": "stream",
     "text": [
      "Fri, 10 Feb 2017 12:43 PARAMETERS   WARNING misaligned orbits are not currently supported.\n",
      "Fri, 10 Feb 2017 12:43 PARAMETERS   WARNING misaligned orbits are not currently supported.\n"
     ]
    },
    {
     "data": {
      "text/plain": [
       "<ParameterSet: 14 parameters | components: primary, secondary>"
      ]
     },
     "execution_count": 16,
     "metadata": {},
     "output_type": "execute_result"
    }
   ],
   "source": [
    "b.set_value('incl@orbit', 85)\n",
    "b.run_compute(compute='preview', model='run_with_incl_85')"
   ]
  },
  {
   "cell_type": "code",
   "execution_count": 17,
   "metadata": {
    "collapsed": false,
    "scrolled": true
   },
   "outputs": [
    {
     "name": "stderr",
     "output_type": "stream",
     "text": [
      "Fri, 10 Feb 2017 12:44 PARAMETERS   WARNING misaligned orbits are not currently supported.\n",
      "Fri, 10 Feb 2017 12:44 PARAMETERS   WARNING misaligned orbits are not currently supported.\n"
     ]
    },
    {
     "data": {
      "text/plain": [
       "<ParameterSet: 14 parameters | components: primary, secondary>"
      ]
     },
     "execution_count": 17,
     "metadata": {},
     "output_type": "execute_result"
    }
   ],
   "source": [
    "b.set_value('incl@orbit', 80)\n",
    "b.run_compute(compute='preview', model='run_with_incl_80')"
   ]
  },
  {
   "cell_type": "markdown",
   "metadata": {},
   "source": [
    "We will now have three new sets of synthetics which can be compared, plotted, or removed."
   ]
  },
  {
   "cell_type": "code",
   "execution_count": 18,
   "metadata": {
    "collapsed": false
   },
   "outputs": [
    {
     "data": {
      "text/plain": [
       "['run_with_incl_85', 'latest', 'run_with_incl_80', 'run_with_incl_90']"
      ]
     },
     "execution_count": 18,
     "metadata": {},
     "output_type": "execute_result"
    }
   ],
   "source": [
    "b.models"
   ]
  },
  {
   "cell_type": "markdown",
   "metadata": {},
   "source": [
    "### Running Compute with Multiple Sets of Options\n",
    "\n",
    "So far we've seen how setting up different sets of compute options can be handy - 'preview' vs 'detailed', for example.  But there could also be situations where you want to use different sets of options per dataset.  Perhaps you have a high-precision follow-up light curve of an eclipse along with a lower-precision light curve over a longer time baseline.  So here you'd want to run 'detailed' on the high-precision light curve, but 'preview' on the lower-precision light curve.\n",
    "\n",
    "You could of course call run_compute twice and create two separate models - but that isn't always convenient and will be a problem in the future when we want to fit data.\n",
    "\n",
    "Instead we can send a list of compute options to run_compute.\n",
    "\n",
    "A given dataset can only be enabled in up to 1 of the compute options we're sending to run_compute.  So let's take care of that first (if we don't, we'd get an error when trying to call run_compute):"
   ]
  },
  {
   "cell_type": "code",
   "execution_count": 19,
   "metadata": {
    "collapsed": false,
    "scrolled": true
   },
   "outputs": [
    {
     "name": "stdout",
     "output_type": "stream",
     "text": [
      "ParameterSet: 3 parameters\n",
      "  enabled@orb01@phoebe01@compute: True\n",
      "   enabled@orb01@preview@compute: True\n",
      "  enabled@orb01@detailed@compute: True\n"
     ]
    }
   ],
   "source": [
    "print b['enabled@orb01']"
   ]
  },
  {
   "cell_type": "code",
   "execution_count": 20,
   "metadata": {
    "collapsed": false,
    "scrolled": true
   },
   "outputs": [
    {
     "name": "stdout",
     "output_type": "stream",
     "text": [
      "ParameterSet: 3 parameters\n",
      "  enabled@orb01@phoebe01@compute: True\n",
      "   enabled@orb01@preview@compute: True\n",
      "  enabled@orb01@detailed@compute: False\n"
     ]
    }
   ],
   "source": [
    "b.set_value_all('enabled@orb01@detailed', False)\n",
    "b.set_value_all('enabled@orb01@preview', True)\n",
    "print b['enabled@orb01']"
   ]
  },
  {
   "cell_type": "markdown",
   "metadata": {},
   "source": [
    "We probably have the same problem with 'lc01', but just didn't get far enough to raise the error.  So let's fix that as well"
   ]
  },
  {
   "cell_type": "code",
   "execution_count": 21,
   "metadata": {
    "collapsed": false,
    "scrolled": true
   },
   "outputs": [
    {
     "name": "stdout",
     "output_type": "stream",
     "text": [
      "ParameterSet: 3 parameters\n",
      "   enabled@lc01@phoebe01@compute: False\n",
      "    enabled@lc01@preview@compute: False\n",
      "   enabled@lc01@detailed@compute: False\n"
     ]
    }
   ],
   "source": [
    "print b['enabled@lc01']"
   ]
  },
  {
   "cell_type": "code",
   "execution_count": 22,
   "metadata": {
    "collapsed": false,
    "scrolled": true
   },
   "outputs": [
    {
     "name": "stdout",
     "output_type": "stream",
     "text": [
      "ParameterSet: 3 parameters\n",
      "   enabled@lc01@phoebe01@compute: False\n",
      "    enabled@lc01@preview@compute: False\n",
      "   enabled@lc01@detailed@compute: True\n"
     ]
    }
   ],
   "source": [
    "b.set_value_all('enabled@lc01@detailed', True)\n",
    "b.set_value_all('enabled@lc01@preview', False)\n",
    "print b['enabled@lc01']"
   ]
  },
  {
   "cell_type": "markdown",
   "metadata": {},
   "source": [
    "So in this case, 'lc01' will be computed using the options in 'detailed' while 'orb01' will use the options in 'preview'."
   ]
  },
  {
   "cell_type": "code",
   "execution_count": 23,
   "metadata": {
    "collapsed": false
   },
   "outputs": [
    {
     "data": {
      "text/plain": [
       "<ParameterSet: 16 parameters | kinds: orb, lc>"
      ]
     },
     "execution_count": 23,
     "metadata": {},
     "output_type": "execute_result"
    }
   ],
   "source": [
    "b.run_compute(compute=['detailed', 'preview'], model='multiplecompute')"
   ]
  },
  {
   "cell_type": "code",
   "execution_count": 24,
   "metadata": {
    "collapsed": false
   },
   "outputs": [
    {
     "data": {
      "text/plain": [
       "['multiplecompute',\n",
       " 'run_with_incl_85',\n",
       " 'latest',\n",
       " 'run_with_incl_80',\n",
       " 'run_with_incl_90']"
      ]
     },
     "execution_count": 24,
     "metadata": {},
     "output_type": "execute_result"
    }
   ],
   "source": [
    "b.models"
   ]
  },
  {
   "cell_type": "markdown",
   "metadata": {},
   "source": [
    "Accessing Synthetics from Models\n",
    "----------------------------------------\n",
    "\n",
    "The synthetics can be accessed by their dataset and model tags."
   ]
  },
  {
   "cell_type": "code",
   "execution_count": 25,
   "metadata": {
    "collapsed": false
   },
   "outputs": [
    {
     "data": {
      "text/plain": [
       "<ParameterSet: 14 parameters | components: primary, secondary>"
      ]
     },
     "execution_count": 25,
     "metadata": {},
     "output_type": "execute_result"
    }
   ],
   "source": [
    "b['run_with_incl_90']"
   ]
  },
  {
   "cell_type": "code",
   "execution_count": 26,
   "metadata": {
    "collapsed": false
   },
   "outputs": [
    {
     "data": {
      "text/plain": [
       "<ParameterSet: 7 parameters | qualifiers: vys, times, vzs, xs, ys, vxs, zs>"
      ]
     },
     "execution_count": 26,
     "metadata": {},
     "output_type": "execute_result"
    }
   ],
   "source": [
    "b['primary@run_with_incl_90']"
   ]
  },
  {
   "cell_type": "code",
   "execution_count": 27,
   "metadata": {
    "collapsed": false
   },
   "outputs": [
    {
     "data": {
      "text/plain": [
       "<ParameterSet: EMPTY>"
      ]
     },
     "execution_count": 27,
     "metadata": {},
     "output_type": "execute_result"
    }
   ],
   "source": [
    "b['x@primary@run_with_incl_90']"
   ]
  },
  {
   "cell_type": "markdown",
   "metadata": {},
   "source": [
    "or of course through method access:"
   ]
  },
  {
   "cell_type": "code",
   "execution_count": 28,
   "metadata": {
    "collapsed": false
   },
   "outputs": [
    {
     "name": "stdout",
     "output_type": "stream",
     "text": [
      "[  1.62265701e-16  -1.70338717e+00  -2.60974055e+00  -2.29496732e+00\n",
      "  -9.06353380e-01   9.06353380e-01   2.29496732e+00   2.60974055e+00\n",
      "   1.70338717e+00   2.07569028e-14]\n"
     ]
    }
   ],
   "source": [
    "print b.get_value(qualifier='xs', dataset='orb01', component='primary', model='run_with_incl_90')[:10]"
   ]
  },
  {
   "cell_type": "markdown",
   "metadata": {
    "collapsed": true
   },
   "source": [
    "For more details about the resulting Parameters in the model context, see the tutorial on the relevant dataset types:\n",
    "\n",
    "* [Orbits (orb)](ORB)\n",
    "* [Meshes (mesh)](MESH)\n",
    "* [Light Curves/Fluxes (lc)](LC)\n",
    "* [Radial Velocities (rv)](RV)"
   ]
  },
  {
   "cell_type": "markdown",
   "metadata": {},
   "source": [
    "Next\n",
    "----------\n",
    "\n",
    "Next up: let's start [plotting](plotting.ipynb) our synthetic model."
   ]
  },
  {
   "cell_type": "code",
   "execution_count": null,
   "metadata": {},
   "outputs": [],
   "source": []
  }
 ],
 "metadata": {
  "kernelspec": {
   "display_name": "Python 2",
   "language": "python",
   "name": "python2"
  },
  "language_info": {
   "codemirror_mode": {
    "name": "ipython",
    "version": 2
   },
   "file_extension": ".py",
   "mimetype": "text/x-python",
   "name": "python",
   "nbconvert_exporter": "python",
   "pygments_lexer": "ipython2",
   "version": "2.7.12"
  }
 },
 "nbformat": 4,
 "nbformat_minor": 0
}
