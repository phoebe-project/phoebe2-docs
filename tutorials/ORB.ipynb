{
 "cells": [
  {
   "cell_type": "markdown",
   "metadata": {},
   "source": [
    "'orb' Datasets and Options\n",
    "============================\n",
    "\n",
    "Setup\n",
    "-----------------------------"
   ]
  },
  {
   "cell_type": "markdown",
   "metadata": {
    "collapsed": true
   },
   "source": [
    "As always, let's do imports and initialize a logger and a new Bundle.  See [Building a System](building_a_system.html) for more details."
   ]
  },
  {
   "cell_type": "code",
   "execution_count": 1,
   "metadata": {},
   "outputs": [],
   "source": [
    "%matplotlib inline"
   ]
  },
  {
   "cell_type": "code",
   "execution_count": 2,
   "metadata": {},
   "outputs": [],
   "source": [
    "import phoebe\n",
    "from phoebe import u # units\n",
    "import numpy as np\n",
    "import matplotlib.pyplot as plt\n",
    "\n",
    "logger = phoebe.logger()\n",
    "\n",
    "b = phoebe.default_binary()"
   ]
  },
  {
   "cell_type": "markdown",
   "metadata": {
    "collapsed": true
   },
   "source": [
    "Dataset Parameters\n",
    "--------------------------\n",
    "\n",
    "Let's create the and orb dataset and attach it to the Bundle"
   ]
  },
  {
   "cell_type": "code",
   "execution_count": 3,
   "metadata": {},
   "outputs": [
    {
     "name": "stdout",
     "output_type": "stream",
     "text": [
      "ParameterSet: 2 parameters\n",
      "     times@primary@orb01@dataset: [] d\n",
      "   times@secondary@orb01@dataset: [] d\n"
     ]
    }
   ],
   "source": [
    "b.add_dataset('orb')\n",
    "print b.filter(kind='orb')"
   ]
  },
  {
   "cell_type": "markdown",
   "metadata": {},
   "source": [
    "### times"
   ]
  },
  {
   "cell_type": "code",
   "execution_count": 4,
   "metadata": {},
   "outputs": [
    {
     "name": "stdout",
     "output_type": "stream",
     "text": [
      "ParameterSet: 2 parameters\n",
      "     times@primary@orb01@dataset: [] d\n",
      "   times@secondary@orb01@dataset: [] d\n"
     ]
    }
   ],
   "source": [
    "print b['times']"
   ]
  },
  {
   "cell_type": "markdown",
   "metadata": {},
   "source": [
    "Compute Options\n",
    "------------------\n",
    "\n",
    "Let's look at the compute options (for the default PHOEBE 2 backend) that relate to dynamics and the ORB dataset"
   ]
  },
  {
   "cell_type": "code",
   "execution_count": 5,
   "metadata": {},
   "outputs": [
    {
     "name": "stdout",
     "output_type": "stream",
     "text": [
      "ParameterSet: 15 parameters\n",
      "  dynamics_method@phoebe01@co...: keplerian\n",
      "           ltte@phoebe01@compute: False\n",
      "   irrad_method@phoebe01@compute: wilson\n",
      "  boosting_method@phoebe01@co...: none\n",
      "  eclipse_method@phoebe01@com...: native\n",
      "  horizon_method@phoebe01@com...: boolean\n",
      "  mesh_method@primary@phoebe0...: marching\n",
      "  mesh_method@secondary@phoeb...: marching\n",
      "  ntriangles@primary@phoebe01...: 1500\n",
      "  ntriangles@secondary@phoebe...: 1500\n",
      "  distortion_method@primary@p...: roche\n",
      "  distortion_method@secondary...: roche\n",
      "    atm@primary@phoebe01@compute: ck2004\n",
      "  atm@secondary@phoebe01@compute: ck2004\n",
      "  enabled@orb01@phoebe01@compute: True\n"
     ]
    }
   ],
   "source": [
    "print b['compute']"
   ]
  },
  {
   "cell_type": "markdown",
   "metadata": {},
   "source": [
    "### dynamics_method"
   ]
  },
  {
   "cell_type": "code",
   "execution_count": 6,
   "metadata": {
    "scrolled": true
   },
   "outputs": [
    {
     "name": "stdout",
     "output_type": "stream",
     "text": [
      "Parameter: dynamics_method@phoebe01@compute\n",
      "                       Qualifier: dynamics_method\n",
      "                     Description: Which method to use to determine the dynamics of components\n",
      "                           Value: keplerian\n",
      "                         Choices: keplerian\n",
      "\n"
     ]
    }
   ],
   "source": [
    "print b['dynamics_method']"
   ]
  },
  {
   "cell_type": "markdown",
   "metadata": {},
   "source": [
    "The 'dynamics_method' parameter controls how stars and components are placed in the coordinate system as a function of time and has several choices:\n",
    " * keplerian (default): Use Kepler's laws to determine positions.  If the system has more than two components, then each orbit is treated independently and nested (ie there are no dynamical/tidal effects - the inner orbit is treated as a single point mass in the outer orbit).\n",
    " * nbody: Use an n-body integrator to determine positions.  Here the initial conditions (positions and velocities) are still defined by the orbit's Keplerian parameters at 't0@system'.  Closed orbits and orbital stability are not guaranteed and ejections can occur."
   ]
  },
  {
   "cell_type": "markdown",
   "metadata": {},
   "source": [
    "### ltte"
   ]
  },
  {
   "cell_type": "code",
   "execution_count": 7,
   "metadata": {},
   "outputs": [
    {
     "name": "stdout",
     "output_type": "stream",
     "text": [
      "Parameter: ltte@phoebe01@compute\n",
      "                       Qualifier: ltte\n",
      "                     Description: Correct for light travel time effects\n",
      "                           Value: False\n",
      "\n"
     ]
    }
   ],
   "source": [
    "print b['ltte']"
   ]
  },
  {
   "cell_type": "markdown",
   "metadata": {},
   "source": [
    "The 'ltte' parameter sets whether light travel time effects (Roemer delay) are included.  If set to False, the positions and velocities are returned as they actually are for that given object at that given time.  If set to True, they are instead returned as they were or will be when their light reaches the origin of the coordinate system.\n",
    "\n",
    "See the [Systemic Velocity Example Script](../examples/vgamma) for an example of how 'ltte' and 'vgamma' (systemic velocity) interplay."
   ]
  },
  {
   "cell_type": "markdown",
   "metadata": {},
   "source": [
    "Synthetics\n",
    "------------------"
   ]
  },
  {
   "cell_type": "code",
   "execution_count": 8,
   "metadata": {},
   "outputs": [],
   "source": [
    "b.set_value_all('times', np.linspace(0,3,201))"
   ]
  },
  {
   "cell_type": "code",
   "execution_count": 9,
   "metadata": {},
   "outputs": [
    {
     "data": {
      "text/plain": [
       "<ParameterSet: 14 parameters | components: primary, secondary>"
      ]
     },
     "execution_count": 9,
     "metadata": {},
     "output_type": "execute_result"
    }
   ],
   "source": [
    "b.run_compute()"
   ]
  },
  {
   "cell_type": "code",
   "execution_count": 10,
   "metadata": {},
   "outputs": [
    {
     "data": {
      "text/plain": [
       "['times@primary@orb01@phoebe01@latest@orb@model',\n",
       " 'us@primary@orb01@phoebe01@latest@orb@model',\n",
       " 'vs@primary@orb01@phoebe01@latest@orb@model',\n",
       " 'ws@primary@orb01@phoebe01@latest@orb@model',\n",
       " 'vus@primary@orb01@phoebe01@latest@orb@model',\n",
       " 'vvs@primary@orb01@phoebe01@latest@orb@model',\n",
       " 'vws@primary@orb01@phoebe01@latest@orb@model',\n",
       " 'times@secondary@orb01@phoebe01@latest@orb@model',\n",
       " 'us@secondary@orb01@phoebe01@latest@orb@model',\n",
       " 'vs@secondary@orb01@phoebe01@latest@orb@model',\n",
       " 'ws@secondary@orb01@phoebe01@latest@orb@model',\n",
       " 'vus@secondary@orb01@phoebe01@latest@orb@model',\n",
       " 'vvs@secondary@orb01@phoebe01@latest@orb@model',\n",
       " 'vws@secondary@orb01@phoebe01@latest@orb@model']"
      ]
     },
     "execution_count": 10,
     "metadata": {},
     "output_type": "execute_result"
    }
   ],
   "source": [
    "b['orb@model'].twigs"
   ]
  },
  {
   "cell_type": "code",
   "execution_count": 11,
   "metadata": {},
   "outputs": [
    {
     "name": "stdout",
     "output_type": "stream",
     "text": [
      "Parameter: times@primary@latest@model\n",
      "                       Qualifier: times\n",
      "                     Description: Synthetic times\n",
      "                           Value: [0.    0.015 0.03  ... 2.97  2.985 3.   ] d\n",
      "                  Constrained by: \n",
      "                      Constrains: None\n",
      "                      Related to: None\n",
      "\n"
     ]
    }
   ],
   "source": [
    "print b['times@primary@orb01@orb@model']"
   ]
  },
  {
   "cell_type": "code",
   "execution_count": 12,
   "metadata": {},
   "outputs": [
    {
     "name": "stdout",
     "output_type": "stream",
     "text": [
      "Parameter: us@primary@latest@model\n",
      "                       Qualifier: us\n",
      "                     Description: U position\n",
      "                           Value: [ 1.62265701e-16 -2.49387030e-01 -4.96560484e-01 ...\n",
      "  4.96560484e-01  2.49387030e-01 -2.19140711e-15] solRad\n",
      "                  Constrained by: \n",
      "                      Constrains: None\n",
      "                      Related to: None\n",
      "\n"
     ]
    }
   ],
   "source": [
    "print b['us@primary@orb01@orb@model']"
   ]
  },
  {
   "cell_type": "code",
   "execution_count": 13,
   "metadata": {},
   "outputs": [
    {
     "name": "stdout",
     "output_type": "stream",
     "text": [
      "Parameter: vus@primary@latest@model\n",
      "                       Qualifier: vus\n",
      "                     Description: U velocity\n",
      "                           Value: [-134.07073898 -133.4757283  -131.6959776  ... -131.6959776\n",
      " -133.4757283  -134.07073898] km / s\n",
      "                  Constrained by: \n",
      "                      Constrains: None\n",
      "                      Related to: None\n",
      "\n"
     ]
    }
   ],
   "source": [
    "print b['vus@primary@orb01@orb@model']"
   ]
  },
  {
   "cell_type": "markdown",
   "metadata": {},
   "source": [
    "Plotting\n",
    "---------------\n",
    "\n",
    "By default, orb datasets plot as 'vs' vx 'us' (plane of sky coordinates).  Notice the y-scale here with inclination set to 90."
   ]
  },
  {
   "cell_type": "code",
   "execution_count": 14,
   "metadata": {},
   "outputs": [
    {
     "data": {
      "image/png": "[encoded data removed]",
      "text/plain": [
       "<matplotlib.figure.Figure at 0x7f0a7433ead0>"
      ]
     },
     "metadata": {},
     "output_type": "display_data"
    }
   ],
   "source": [
    "afig, mplfig = b['orb@model'].plot(show=True)"
   ]
  },
  {
   "cell_type": "markdown",
   "metadata": {
    "collapsed": true
   },
   "source": [
    "As always, you have access to any of the arrays for either axes, so if you want to plot 'vus' vs 'times'"
   ]
  },
  {
   "cell_type": "code",
   "execution_count": 15,
   "metadata": {},
   "outputs": [
    {
     "data": {
      "image/png": "[encoded data removed]",
      "text/plain": [
       "<matplotlib.figure.Figure at 0x7f0a7439f2d0>"
      ]
     },
     "metadata": {},
     "output_type": "display_data"
    }
   ],
   "source": [
    "afig, mplfig = b['orb@model'].plot(x='times', y='vus', show=True)"
   ]
  },
  {
   "cell_type": "markdown",
   "metadata": {},
   "source": [
    "We can also plot the orbit in 3D."
   ]
  },
  {
   "cell_type": "code",
   "execution_count": 16,
   "metadata": {},
   "outputs": [
    {
     "data": {
      "image/png": "[encoded data removed]",
      "text/plain": [
       "<matplotlib.figure.Figure at 0x7f0a703f2110>"
      ]
     },
     "metadata": {},
     "output_type": "display_data"
    }
   ],
   "source": [
    "afig, mplfig = b['orb@model'].plot(projection='3d', xlim=(-4,4), ylim=(-4,4), zlim=(-4,4), show=True)"
   ]
  },
  {
   "cell_type": "code",
   "execution_count": null,
   "metadata": {},
   "outputs": [],
   "source": []
  }
 ],
 "metadata": {
  "kernelspec": {
   "display_name": "Python 2",
   "language": "python",
   "name": "python2"
  },
  "language_info": {
   "codemirror_mode": {
    "name": "ipython",
    "version": 2
   },
   "file_extension": ".py",
   "mimetype": "text/x-python",
   "name": "python",
   "nbconvert_exporter": "python",
   "pygments_lexer": "ipython2",
   "version": "2.7.15rc1"
  }
 },
 "nbformat": 4,
 "nbformat_minor": 1
}
