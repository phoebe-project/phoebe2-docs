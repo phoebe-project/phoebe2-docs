{
 "cells": [
  {
   "cell_type": "markdown",
   "metadata": {},
   "source": [
    "Building a System\n",
    "============================\n",
    "\n",
    "Setup\n",
    "-----------------------------"
   ]
  },
  {
   "cell_type": "markdown",
   "metadata": {},
   "source": [
    "From now on, we'll just quickly do common setup at the beginning of each tutorial.\n",
    "For full gory details on the general concepts here, make sure to read [General Concepts](general_concepts).\n",
    "\n",
    "We'll always start by doing our basic imports, setting up a logger, and initializing\n",
    "an empty Bundle."
   ]
  },
  {
   "cell_type": "code",
   "execution_count": 1,
   "metadata": {},
   "outputs": [],
   "source": [
    "import phoebe\n",
    "from phoebe import u # units\n",
    "import numpy as np\n",
    "import matplotlib.pyplot as plt\n",
    "\n",
    "logger = phoebe.logger()\n",
    "\n",
    "b = phoebe.Bundle()"
   ]
  },
  {
   "cell_type": "markdown",
   "metadata": {},
   "source": [
    "Default Systems\n",
    "------------------------\n",
    "\n",
    "Although the default empty Bundle doesn't include a system, there are available\n",
    "constructors that create default systems.  To create a simple binary with component tags\n",
    "'binary', 'primary', and 'secondary' (as above), you could call:"
   ]
  },
  {
   "cell_type": "code",
   "execution_count": 2,
   "metadata": {},
   "outputs": [],
   "source": [
    "b = phoebe.Bundle.default_binary()"
   ]
  },
  {
   "cell_type": "markdown",
   "metadata": {},
   "source": [
    "or for short:"
   ]
  },
  {
   "cell_type": "code",
   "execution_count": 3,
   "metadata": {},
   "outputs": [],
   "source": [
    "b = phoebe.default_binary()"
   ]
  },
  {
   "cell_type": "code",
   "execution_count": 4,
   "metadata": {
    "scrolled": true
   },
   "outputs": [
    {
     "name": "stdout",
     "output_type": "stream",
     "text": [
      "\n",
      "    orbit:binary \n",
      "    \n",
      "        star:primary \n",
      "        star:secondary\n",
      "    \n",
      "\n"
     ]
    }
   ],
   "source": [
    "print b.hierarchy"
   ]
  },
  {
   "cell_type": "markdown",
   "metadata": {},
   "source": [
    "To build the same binary but as a contact system, you would call:"
   ]
  },
  {
   "cell_type": "code",
   "execution_count": 5,
   "metadata": {},
   "outputs": [
    {
     "name": "stderr",
     "output_type": "stream",
     "text": [
      "Thu, 04 Oct 2018 12:48 PARAMETERS   WARNING primary is overflowing at L2/L3 (requiv=1.5, requiv_max=1.0)  If not addressed, this warning will continue to be raised and will throw an error at run_compute.\n",
      "Thu, 04 Oct 2018 12:48 PARAMETERS   WARNING primary is overflowing at L2/L3 (requiv=1.5, requiv_max=1.0)  If not addressed, this warning will continue to be raised and will throw an error at run_compute.\n",
      "Thu, 04 Oct 2018 12:48 PARAMETERS   WARNING primary is overflowing at L2/L3 (requiv=1.5, requiv_max=1.0)  If not addressed, this warning will continue to be raised and will throw an error at run_compute.\n",
      "Thu, 04 Oct 2018 12:48 PARAMETERS   WARNING primary is overflowing at L2/L3 (requiv=1.5, requiv_max=1.0)  If not addressed, this warning will continue to be raised and will throw an error at run_compute.\n",
      "Thu, 04 Oct 2018 12:48 PARAMETERS   WARNING primary is overflowing at L2/L3 (requiv=1.5, requiv_max=1.0)  If not addressed, this warning will continue to be raised and will throw an error at run_compute.\n",
      "Thu, 04 Oct 2018 12:48 PARAMETERS   WARNING primary is overflowing at L2/L3 (requiv=1.5, requiv_max=1.0)  If not addressed, this warning will continue to be raised and will throw an error at run_compute.\n",
      "Thu, 04 Oct 2018 12:48 PARAMETERS   WARNING primary is overflowing at L2/L3 (requiv=1.5, requiv_max=1.0)  If not addressed, this warning will continue to be raised and will throw an error at run_compute.\n",
      "Thu, 04 Oct 2018 12:49 PARAMETERS   WARNING secondary is overflowing at L2/L3 (requiv=1.5, requiv_max=1.0)  If not addressed, this warning will continue to be raised and will throw an error at run_compute.\n",
      "Thu, 04 Oct 2018 12:49 PARAMETERS   WARNING secondary is overflowing at L2/L3 (requiv=1.5, requiv_max=1.0)  If not addressed, this warning will continue to be raised and will throw an error at run_compute.\n",
      "Thu, 04 Oct 2018 12:49 PARAMETERS   WARNING secondary is overflowing at L2/L3 (requiv=1.5, requiv_max=1.0)  If not addressed, this warning will continue to be raised and will throw an error at run_compute.\n",
      "Thu, 04 Oct 2018 12:49 PARAMETERS   WARNING secondary is overflowing at L2/L3 (requiv=1.5, requiv_max=1.0)  If not addressed, this warning will continue to be raised and will throw an error at run_compute.\n",
      "Thu, 04 Oct 2018 12:49 PARAMETERS   WARNING secondary is overflowing at L2/L3 (requiv=1.5, requiv_max=1.0)  If not addressed, this warning will continue to be raised and will throw an error at run_compute.\n",
      "Thu, 04 Oct 2018 12:49 PARAMETERS   WARNING secondary is overflowing at L2/L3 (requiv=1.5, requiv_max=1.0)  If not addressed, this warning will continue to be raised and will throw an error at run_compute.\n",
      "Thu, 04 Oct 2018 12:49 PARAMETERS   WARNING secondary is overflowing at L2/L3 (requiv=1.5, requiv_max=1.0)  If not addressed, this warning will continue to be raised and will throw an error at run_compute.\n",
      "Thu, 04 Oct 2018 12:49 PARAMETERS   WARNING secondary is overflowing at L2/L3 (requiv=1.5, requiv_max=1.0)  If not addressed, this warning will continue to be raised and will throw an error at run_compute.\n"
     ]
    }
   ],
   "source": [
    "b = phoebe.default_binary(contact_binary=True)"
   ]
  },
  {
   "cell_type": "code",
   "execution_count": 6,
   "metadata": {},
   "outputs": [
    {
     "name": "stdout",
     "output_type": "stream",
     "text": [
      "\n",
      "    orbit:binary \n",
      "    \n",
      "        star:primary \n",
      "        star:secondary \n",
      "        envelope:contact_envelope\n",
      "    \n",
      "\n"
     ]
    }
   ],
   "source": [
    "print b.hierarchy"
   ]
  },
  {
   "cell_type": "markdown",
   "metadata": {},
   "source": [
    "For more details on dealing with contact binary systems, see the [Contact Binary Example Script](../examples/minimal_contact_binary)"
   ]
  },
  {
   "cell_type": "markdown",
   "metadata": {},
   "source": [
    "Adding Components Manually\n",
    "--------------------\n",
    "\n",
    "By default, an empty Bundle does not contain any information about our system.\n",
    "\n",
    "So, let's first start by adding a few stars.  Here we'll call the generic add_component method.  This method works for any type of component in the system - stars, orbits, planets, disks, rings, spots, etc.  The first argument needs to be a callable or the name of a callable in phoebe.parameters.component which include the following options:\n",
    "\n",
    "* orbit\n",
    "* star\n",
    "* envelope\n",
    "\n",
    "add_component also takes a keyword argument for the 'component' tag.  Here we'll give them component tags 'primary' and 'secondary' - but note that these are merely convenience labels and do not hold any special roles.  Some tags, however, are forbidden if they clash with other tags or reserved values - so if you get error stating the component tag is forbidden, try using a different string."
   ]
  },
  {
   "cell_type": "code",
   "execution_count": 7,
   "metadata": {},
   "outputs": [],
   "source": [
    "b = phoebe.Bundle()"
   ]
  },
  {
   "cell_type": "code",
   "execution_count": 8,
   "metadata": {
    "scrolled": true
   },
   "outputs": [
    {
     "data": {
      "text/plain": [
       "<ParameterSet: 18 parameters | qualifiers: requiv_min, teff, abun, yaw, pitch, ld_func_bol, period, ld_coeffs_bol, long_an, requiv_max, irrad_frac_refl_bol, syncpar, gravb_bol, mass, freq, incl, requiv, irrad_frac_lost_bol>"
      ]
     },
     "execution_count": 8,
     "metadata": {},
     "output_type": "execute_result"
    }
   ],
   "source": [
    "b.add_component(phoebe.component.star, component='primary')\n",
    "b.add_component('star', component='secondary')"
   ]
  },
  {
   "cell_type": "markdown",
   "metadata": {},
   "source": [
    "But there are also shortcut methods for add_star and add_orbit.  In these cases you don't need to provide the function, but only the component tag of your star/orbit.\n",
    "\n",
    "Any of these functions also accept values for any of the qualifiers of the created parameters."
   ]
  },
  {
   "cell_type": "code",
   "execution_count": 9,
   "metadata": {},
   "outputs": [
    {
     "data": {
      "text/plain": [
       "<ParameterSet: 18 parameters | qualifiers: requiv_min, teff, abun, yaw, pitch, ld_func_bol, period, ld_coeffs_bol, long_an, requiv_max, irrad_frac_refl_bol, syncpar, gravb_bol, mass, freq, incl, requiv, irrad_frac_lost_bol>"
      ]
     },
     "execution_count": 9,
     "metadata": {},
     "output_type": "execute_result"
    }
   ],
   "source": [
    "b.add_star('extrastarforfun', teff=6000)"
   ]
  },
  {
   "cell_type": "markdown",
   "metadata": {},
   "source": [
    "Here we call the add_component method of the bundle with several arguments:\n",
    "\n",
    "* a function (or the name of a function) in phoebe.parameters.component.  This \n",
    "  function tells the bundle what parameters need to be added.\n",
    "* component: the tag that we want to give this component for future reference.\n",
    "* any additional keyword arguments: you can also provide initial values for Parameters \n",
    "  that you know will be created.  In the last example you can see that the\n",
    "  effective temperature will already be set to 6000 (in default units which is K).\n",
    "\n",
    "and then we'll do the same to add an orbit:"
   ]
  },
  {
   "cell_type": "code",
   "execution_count": 10,
   "metadata": {},
   "outputs": [
    {
     "data": {
      "text/plain": [
       "<ParameterSet: 17 parameters | qualifiers: dpdt, mean_anom, asini, ecc, dperdt, period, long_an, q, t0_supconj, per0, sma, esinw, t0_ref, freq, incl, ecosw, t0_perpass>"
      ]
     },
     "execution_count": 10,
     "metadata": {},
     "output_type": "execute_result"
    }
   ],
   "source": [
    "b.add_orbit('binary')"
   ]
  },
  {
   "cell_type": "markdown",
   "metadata": {},
   "source": [
    "Defining the Hierarchy\n",
    "---------------------------------\n",
    "\n",
    "At this point all we've done is add a bunch of Parameters to our Bundle, but \n",
    "we still need to specify the hierarchical setup of our system.\n",
    "\n",
    "Here we want to place our two stars (with component tags 'primary' and 'secondary') in our\n",
    "orbit (with component tag 'binary').  This can be done with several different syntaxes:"
   ]
  },
  {
   "cell_type": "code",
   "execution_count": 11,
   "metadata": {},
   "outputs": [],
   "source": [
    "b.set_hierarchy(phoebe.hierarchy.binaryorbit, b['binary'], b['primary'], b['secondary'])"
   ]
  },
  {
   "cell_type": "markdown",
   "metadata": {},
   "source": [
    "or"
   ]
  },
  {
   "cell_type": "code",
   "execution_count": 12,
   "metadata": {},
   "outputs": [],
   "source": [
    "b.set_hierarchy(phoebe.hierarchy.binaryorbit(b['binary'], b['primary'], b['secondary']))"
   ]
  },
  {
   "cell_type": "markdown",
   "metadata": {},
   "source": [
    "If you access the value that this set, you'll see that it really just resulted\n",
    "in a simple string representation:"
   ]
  },
  {
   "cell_type": "code",
   "execution_count": 13,
   "metadata": {},
   "outputs": [
    {
     "data": {
      "text/plain": [
       "<HierarchyParameter: orbit:binary(star:primary, star:secondary)>"
      ]
     },
     "execution_count": 13,
     "metadata": {},
     "output_type": "execute_result"
    }
   ],
   "source": [
    "b.get_hierarchy()"
   ]
  },
  {
   "cell_type": "markdown",
   "metadata": {},
   "source": [
    "We could just as easily have used this string to set the hierarchy:"
   ]
  },
  {
   "cell_type": "code",
   "execution_count": 14,
   "metadata": {},
   "outputs": [],
   "source": [
    "b.set_hierarchy('orbit:binary(star:primary, star:secondary)')"
   ]
  },
  {
   "cell_type": "markdown",
   "metadata": {},
   "source": [
    "If at any point we want to flip the primary and secondary components or make\n",
    "this binary a triple, its seriously as easy as changing this hierarchy and\n",
    "everything else will adjust as needed (including cross-ParameterSet constraints, \n",
    "and datasets)"
   ]
  },
  {
   "cell_type": "markdown",
   "metadata": {},
   "source": [
    "The Hierarchy Parameter\n",
    "-----------------------------\n",
    "\n",
    "Setting the hierarchy just sets the value of a single parameter (although it may take some time because it also does a lot of paperwork and manages constraints between components in the system).  You can access that parameter as usual:"
   ]
  },
  {
   "cell_type": "code",
   "execution_count": 15,
   "metadata": {},
   "outputs": [
    {
     "data": {
      "text/plain": [
       "<HierarchyParameter: orbit:binary(star:primary, star:secondary)>"
      ]
     },
     "execution_count": 15,
     "metadata": {},
     "output_type": "execute_result"
    }
   ],
   "source": [
    "b['hierarchy@system']"
   ]
  },
  {
   "cell_type": "markdown",
   "metadata": {},
   "source": [
    "or through any of these shortcuts:"
   ]
  },
  {
   "cell_type": "code",
   "execution_count": 16,
   "metadata": {},
   "outputs": [
    {
     "data": {
      "text/plain": [
       "<HierarchyParameter: orbit:binary(star:primary, star:secondary)>"
      ]
     },
     "execution_count": 16,
     "metadata": {},
     "output_type": "execute_result"
    }
   ],
   "source": [
    "b.get_hierarchy()"
   ]
  },
  {
   "cell_type": "code",
   "execution_count": 17,
   "metadata": {},
   "outputs": [
    {
     "data": {
      "text/plain": [
       "<HierarchyParameter: orbit:binary(star:primary, star:secondary)>"
      ]
     },
     "execution_count": 17,
     "metadata": {},
     "output_type": "execute_result"
    }
   ],
   "source": [
    "b.hierarchy"
   ]
  },
  {
   "cell_type": "markdown",
   "metadata": {},
   "source": [
    "This hierarchy parameter then has several methods unique to itself.  You can, for instance, list the component tags of all the stars or orbits in the hierarchy:"
   ]
  },
  {
   "cell_type": "code",
   "execution_count": 18,
   "metadata": {},
   "outputs": [
    {
     "name": "stdout",
     "output_type": "stream",
     "text": [
      "['primary', 'secondary']\n"
     ]
    }
   ],
   "source": [
    "print b.hierarchy.get_stars()"
   ]
  },
  {
   "cell_type": "code",
   "execution_count": 19,
   "metadata": {},
   "outputs": [
    {
     "name": "stdout",
     "output_type": "stream",
     "text": [
      "['binary']\n"
     ]
    }
   ],
   "source": [
    "print b.hierarchy.get_orbits()"
   ]
  },
  {
   "cell_type": "markdown",
   "metadata": {},
   "source": [
    "Or you can ask for the component tag of the top-level item in the hierarchy"
   ]
  },
  {
   "cell_type": "code",
   "execution_count": 20,
   "metadata": {},
   "outputs": [
    {
     "name": "stdout",
     "output_type": "stream",
     "text": [
      "binary\n"
     ]
    }
   ],
   "source": [
    "print b.hierarchy.get_top()"
   ]
  },
  {
   "cell_type": "markdown",
   "metadata": {},
   "source": [
    "And request the parent, children, child, or sibling of any item in the hierarchy"
   ]
  },
  {
   "cell_type": "code",
   "execution_count": 21,
   "metadata": {},
   "outputs": [
    {
     "name": "stdout",
     "output_type": "stream",
     "text": [
      "binary\n"
     ]
    }
   ],
   "source": [
    "print b.hierarchy.get_parent_of('primary')"
   ]
  },
  {
   "cell_type": "code",
   "execution_count": 22,
   "metadata": {},
   "outputs": [
    {
     "name": "stdout",
     "output_type": "stream",
     "text": [
      "['primary', 'secondary']\n"
     ]
    }
   ],
   "source": [
    "print b.hierarchy.get_children_of('binary')"
   ]
  },
  {
   "cell_type": "code",
   "execution_count": 23,
   "metadata": {},
   "outputs": [
    {
     "name": "stdout",
     "output_type": "stream",
     "text": [
      "primary\n"
     ]
    }
   ],
   "source": [
    "print b.hierarchy.get_child_of('binary', 0)  # here 0 means primary component, 1 means secondary"
   ]
  },
  {
   "cell_type": "code",
   "execution_count": 24,
   "metadata": {},
   "outputs": [
    {
     "name": "stdout",
     "output_type": "stream",
     "text": [
      "secondary\n"
     ]
    }
   ],
   "source": [
    "print b.hierarchy.get_sibling_of('primary')"
   ]
  },
  {
   "cell_type": "markdown",
   "metadata": {},
   "source": [
    "We can also check whether a given component (by component tag) is the primary or secondary component in its parent orbit.  Note that here its just a coincidence (although on purpose) that the component tag is also 'secondary'."
   ]
  },
  {
   "cell_type": "code",
   "execution_count": 25,
   "metadata": {
    "scrolled": true
   },
   "outputs": [
    {
     "name": "stdout",
     "output_type": "stream",
     "text": [
      "secondary\n"
     ]
    }
   ],
   "source": [
    "print b.hierarchy.get_primary_or_secondary('secondary')"
   ]
  },
  {
   "cell_type": "markdown",
   "metadata": {},
   "source": [
    "Next\n",
    "----------\n",
    "\n",
    "Next up: let's learn about [saving and loading](saving_and_loading.ipynb)"
   ]
  },
  {
   "cell_type": "code",
   "execution_count": null,
   "metadata": {},
   "outputs": [],
   "source": []
  }
 ],
 "metadata": {
  "kernelspec": {
   "display_name": "Python 2",
   "language": "python",
   "name": "python2"
  },
  "language_info": {
   "codemirror_mode": {
    "name": "ipython",
    "version": 2
   },
   "file_extension": ".py",
   "mimetype": "text/x-python",
   "name": "python",
   "nbconvert_exporter": "python",
   "pygments_lexer": "ipython2",
   "version": "2.7.15rc1"
  }
 },
 "nbformat": 4,
 "nbformat_minor": 1
}
