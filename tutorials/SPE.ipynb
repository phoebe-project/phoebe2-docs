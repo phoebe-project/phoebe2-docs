{
 "cells": [
  {
   "cell_type": "markdown",
   "metadata": {},
   "source": [
    "'spe' (Spectroscopic) Dataset\n",
    "========================\n",
    "\n",
    "Setup\n",
    "--------\n",
    "\n",
    "As a preparatory task, we create a file `Spe.dat`, containing common spectroscopic data. Apart from times, we also need wavelengths. For simplicity, the \"observed\" flux was set to 1.0. Of course, in real life this value is observed (between 0 and 1), as read from FITS files."
   ]
  },
  {
   "cell_type": "code",
   "execution_count": 1,
   "metadata": {},
   "outputs": [],
   "source": [
    "f = open(\"Spe.dat\", \"w\")\n",
    "f.write(\"# time wavelength flux sigma\\n\")\n",
    "\n",
    "t = 0.25            # d\n",
    "wave1 = 6500.0e-10  # m\n",
    "wave2 = 6600.0e-10  # m\n",
    "dwave = 0.1e-10     # m\n",
    "flux = 1.0          # 1\n",
    "sigma = 0.01        # 1\n",
    "    \n",
    "wave = wave1\n",
    "while wave < wave2+0.5*dwave:\n",
    "    f.write(\"%.8f  %.8e  %.8f  %.8f\\n\" % (t, wave, flux, sigma))\n",
    "    wave += dwave\n",
    "    \n",
    "f.close()"
   ]
  },
  {
   "cell_type": "markdown",
   "metadata": {},
   "source": [
    "Modelling of spectra requires a grid of <i>normalized</i> synthetic spectra (usually, >>10 GB). Here, a tiny 'test' grid will be used, so that this tutorial works without any installation; it is set up by the <tt>gridlist</tt> file, located in the current directory. Each file contains a single spectrum (wavelength in A, normalized flux in 1)."
   ]
  },
  {
   "cell_type": "markdown",
   "metadata": {},
   "source": [
    "```\n",
    "# filename Teff logg Z mu\n",
    "grids/TEST/AG05750g400v1.vis.1  5750 4.0 1.0 1.0\n",
    "grids/TEST/AG05750g450v1.vis.1  5750 4.5 1.0 1.0\n",
    "grids/TEST/AG06000g400v1.vis.1  6000 4.0 1.0 1.0\n",
    "grids/TEST/AG06000g450v1.vis.1  6000 4.5 1.0 1.0\n",
    "grids/TEST/AG06250g400v1.vis.1  6250 4.0 1.0 1.0\n",
    "grids/TEST/AG06250g450v1.vis.1  6250 4.5 1.0 1.0\n",
    "```"
   ]
  },
  {
   "cell_type": "markdown",
   "metadata": {},
   "source": [
    "Note: Make sure to have the latest version of PHOEBE 2.5 installed (uncomment this line if running in an online notebook session such as colab)."
   ]
  },
  {
   "cell_type": "code",
   "execution_count": 2,
   "metadata": {},
   "outputs": [],
   "source": [
    "#!pip install -I \"phoebe>=2.5,<2.6\""
   ]
  },
  {
   "cell_type": "markdown",
   "metadata": {
    "collapsed": true
   },
   "source": [
    "As always, let's do imports and add a new Bundle."
   ]
  },
  {
   "cell_type": "code",
   "execution_count": 3,
   "metadata": {},
   "outputs": [],
   "source": [
    "import phoebe\n",
    "\n",
    "b = phoebe.default_binary()"
   ]
  },
  {
   "cell_type": "markdown",
   "metadata": {
    "collapsed": true
   },
   "source": [
    "Parameters\n",
    "----------------\n",
    "\n",
    "Next read `Spe.dat` back and add the corresponding 'spe' dataset:"
   ]
  },
  {
   "cell_type": "code",
   "execution_count": 4,
   "metadata": {
    "scrolled": true
   },
   "outputs": [
    {
     "data": {
      "text/plain": [
       "<ParameterSet: 44 parameters | contexts: dataset, figure, compute>"
      ]
     },
     "execution_count": 4,
     "metadata": {},
     "output_type": "execute_result"
    }
   ],
   "source": [
    "import numpy as np\n",
    "\n",
    "times, wavelengths, fluxes, sigmas = np.loadtxt(\"Spe.dat\", usecols=[0, 1, 2, 3], unpack=True)\n",
    "\n",
    "b.add_dataset('spe', times=times, wavelengths=wavelengths, fluxes=fluxes, sigmas=sigmas, passband=\"Johnson:R\")"
   ]
  },
  {
   "cell_type": "markdown",
   "metadata": {},
   "source": [
    "To verify:"
   ]
  },
  {
   "cell_type": "code",
   "execution_count": 5,
   "metadata": {},
   "outputs": [
    {
     "name": "stdout",
     "output_type": "stream",
     "text": [
      "ParameterSet: 10 parameters\n",
      "              times@spe01@dataset: [0.25 0.25 0.25 ... 0.25 0.25 0.25] d\n",
      "        wavelengths@spe01@dataset: [6.5000e-07 6.5001e-07 6.5002e-07 ...\n",
      " 6.5998e-07 6.5999e-07 6.6000e-07] m\n",
      "             fluxes@spe01@dataset: [1. 1. 1. ... 1. 1. 1.]\n",
      "      compute_times@spe01@dataset: [] d\n",
      "             sigmas@spe01@dataset: [0.01 0.01 0.01 ... 0.01 0.01 0.01]\n",
      "         spe_method@spe01@dataset: integrate\n",
      "           passband@spe01@dataset: Johnson:R\n",
      "   intens_weighting@spe01@dataset: energy\n",
      "    ld_mode@primary@spe01@dataset: interp\n",
      "   ld_mode@secondary@spe01@dat...: interp\n"
     ]
    }
   ],
   "source": [
    "print(b.get_dataset(kind='spe'))"
   ]
  },
  {
   "cell_type": "markdown",
   "metadata": {},
   "source": [
    "### times\n",
    "To see explanations:"
   ]
  },
  {
   "cell_type": "code",
   "execution_count": 6,
   "metadata": {},
   "outputs": [
    {
     "name": "stdout",
     "output_type": "stream",
     "text": [
      "Parameter: times@spe01@dataset\n",
      "                       Qualifier: times\n",
      "                     Description: Observed times\n",
      "                           Value: [0.25 0.25 0.25 ... 0.25 0.25 0.25] d\n",
      "                  Constrained by: \n",
      "                      Constrains: None\n",
      "                      Related to: None\n",
      "\n"
     ]
    }
   ],
   "source": [
    "print(b.get_parameter(kind='spe', qualifier='times', context='dataset'))"
   ]
  },
  {
   "cell_type": "markdown",
   "metadata": {},
   "source": [
    "### wavelengths\n",
    "Alternatively, one can use the `twig` syntax."
   ]
  },
  {
   "cell_type": "code",
   "execution_count": 7,
   "metadata": {},
   "outputs": [
    {
     "name": "stdout",
     "output_type": "stream",
     "text": [
      "Parameter: wavelengths@spe01@dataset\n",
      "                       Qualifier: wavelengths\n",
      "                     Description: Observed wavelengths\n",
      "                           Value: [6.5000e-07 6.5001e-07 6.5002e-07 ... 6.5998e-07 6.5999e-07\n",
      " 6.6000e-07] m\n",
      "                  Constrained by: \n",
      "                      Constrains: None\n",
      "                      Related to: None\n",
      "\n"
     ]
    }
   ],
   "source": [
    "print(b['wavelengths@spe01@spe@dataset'])"
   ]
  },
  {
   "cell_type": "markdown",
   "metadata": {},
   "source": [
    "### fluxes"
   ]
  },
  {
   "cell_type": "code",
   "execution_count": 8,
   "metadata": {},
   "outputs": [
    {
     "name": "stdout",
     "output_type": "stream",
     "text": [
      "Parameter: fluxes@spe01@dataset\n",
      "                       Qualifier: fluxes\n",
      "                     Description: Observed fluxes\n",
      "                           Value: [1. 1. 1. ... 1. 1. 1.]\n",
      "                  Constrained by: \n",
      "                      Constrains: None\n",
      "                      Related to: None\n",
      "\n"
     ]
    }
   ],
   "source": [
    "print(b['fluxes@spe01@spe@dataset'])"
   ]
  },
  {
   "cell_type": "markdown",
   "metadata": {},
   "source": [
    "### sigmas"
   ]
  },
  {
   "cell_type": "code",
   "execution_count": 9,
   "metadata": {},
   "outputs": [
    {
     "name": "stdout",
     "output_type": "stream",
     "text": [
      "Parameter: sigmas@spe01@dataset\n",
      "                       Qualifier: sigmas\n",
      "                     Description: Observed uncertainty of flux\n",
      "                           Value: [0.01 0.01 0.01 ... 0.01 0.01 0.01]\n",
      "                  Constrained by: \n",
      "                      Constrains: None\n",
      "                      Related to: None\n",
      "\n"
     ]
    }
   ],
   "source": [
    "print(b['sigmas@spe01@spe@dataset'])"
   ]
  },
  {
   "cell_type": "markdown",
   "metadata": {},
   "source": [
    "### spe_method\n",
    "One can choose either a simple model, assuming a uniform disk(s), or a complex model, with integration over meshes --- i.e., applicable to contact or eclipsing binaries."
   ]
  },
  {
   "cell_type": "code",
   "execution_count": 10,
   "metadata": {},
   "outputs": [
    {
     "name": "stdout",
     "output_type": "stream",
     "text": [
      "Parameter: spe_method@spe01@dataset\n",
      "                       Qualifier: spe_method\n",
      "                     Description: Method to use for computing synthetic spectra (must be integrate for eclipse effects)\n",
      "                           Value: integrate\n",
      "                         Choices: integrate, simple\n",
      "                  Constrained by: \n",
      "                      Constrains: None\n",
      "                      Related to: None\n",
      "\n"
     ]
    }
   ],
   "source": [
    "print(b.get_parameter(qualifier='spe_method', context='dataset'))"
   ]
  },
  {
   "cell_type": "markdown",
   "metadata": {},
   "source": [
    "### passband\n",
    "Passband should be in agreement with the wavelenghts, because individual wavelengths are *not* used for computations of mesh intensities. If the range of wavelengths is too extended (V, R, I, ...), split the respective datasets, please."
   ]
  },
  {
   "cell_type": "code",
   "execution_count": 11,
   "metadata": {},
   "outputs": [
    {
     "name": "stdout",
     "output_type": "stream",
     "text": [
      "Parameter: passband@spe01@dataset\n",
      "                       Qualifier: passband\n",
      "                     Description: Passband\n",
      "                           Value: Johnson:R\n",
      "                         Choices: SDSS:gprime, Stromgren:u, Johnson:J, Walraven:V, ZTF:g, LSST:u, LSST:g, Ultracam:gs, ZTF:r_filter, Kepler:mean, SuperWASP:pre2004, SDSS:u, SDSS:iprime, BRITE:blue, Pan-Starrs:g, Gaia:BP, Pan-Starrs:r, Bolometric:900-40000, LSST:i, Hipparcos:Hp, SDSS:zprime, Johnson:V, Stromgren:b, ZTF:r, BRITE:red, Gaia:RVS, SMEI:white, Walraven:L, SDSS:i, SDSS:r, SDSS:g, Cousins:R, Pan-Starrs:y, SDSS:z, Walraven:U, Pan-Starrs:z, Tycho:B, SuperWASP:post2004, Ultracam:is, Walraven:W, Tycho:V, Gaia:G, Johnson:I, Ultracam:us, SDSS:uprime, Ultracam:zs, Johnson:U, Stromgren:y, Pan-Starrs:w, SDSS:rprime, Ultracam:rs, ZTF:g_filter, Johnson:H, ZTF:i, TESS:T, Johnson:B, ZTF:i_filter, KELT:R, Pan-Starrs:open, Cousins:I, LSST:z, LSST:r, Pan-Starrs:i, Johnson:R, Walraven:B, Gaia:RP, Johnson:K, LSST:y, Stromgren:v\n",
      "                  Constrained by: \n",
      "                      Constrains: None\n",
      "                      Related to: None\n",
      "\n"
     ]
    }
   ],
   "source": [
    "print(b.get_parameter(qualifier='passband', context='dataset'))"
   ]
  },
  {
   "cell_type": "markdown",
   "metadata": {},
   "source": [
    "Model\n",
    "---------\n",
    "\n",
    "Before we proceed, let's increase the resolution of meshes, to suppress artefacts on line profiles:"
   ]
  },
  {
   "cell_type": "code",
   "execution_count": 12,
   "metadata": {},
   "outputs": [],
   "source": [
    "b.set_value('ntriangles@primary', context='compute', value=2000)\n",
    "b.set_value('ntriangles@secondary', context='compute', value=2000)"
   ]
  },
  {
   "cell_type": "markdown",
   "metadata": {},
   "source": [
    "Eventually, a computation is run as:"
   ]
  },
  {
   "cell_type": "code",
   "execution_count": 13,
   "metadata": {},
   "outputs": [
    {
     "name": "stderr",
     "output_type": "stream",
     "text": [
      "\r",
      "  0%|          | 0/1 [00:00<?, ?it/s]"
     ]
    },
    {
     "name": "stdout",
     "output_type": "stream",
     "text": [
      "Loading file: grids/TEST/AG05750g400v1.vis.1\n",
      "Loading file: grids/TEST/AG05750g400v1.vis.1\n",
      "Loading file: grids/TEST/AG05750g450v1.vis.1\n",
      "Loading file: grids/TEST/AG06000g400v1.vis.1\n",
      "Loading file: grids/TEST/AG06000g450v1.vis.1\n",
      "Loading file: grids/TEST/AG06250g400v1.vis.1\n",
      "Loading file: grids/TEST/AG06250g450v1.vis.1\n"
     ]
    },
    {
     "name": "stderr",
     "output_type": "stream",
     "text": [
      "100%|██████████| 1/1 [00:00<00:00,  1.27it/s]\n"
     ]
    },
    {
     "data": {
      "text/plain": [
       "<ParameterSet: 5 parameters | qualifiers: spe_method, wavelengths, comments, fluxes, times>"
      ]
     },
     "execution_count": 13,
     "metadata": {},
     "output_type": "execute_result"
    }
   ],
   "source": [
    "b.run_compute()"
   ]
  },
  {
   "cell_type": "markdown",
   "metadata": {},
   "source": [
    "Now, I know that I can print, e.g.:"
   ]
  },
  {
   "cell_type": "code",
   "execution_count": 14,
   "metadata": {},
   "outputs": [
    {
     "name": "stdout",
     "output_type": "stream",
     "text": [
      "ParameterSet: 4 parameters\n",
      "R              times@latest@model: [0.25 0.25 0.25 ... 0.25 0.25 0.25] d\n",
      "R        wavelengths@latest@model: [6.5000e-07 6.5001e-07 6.5002e-07 ... 6.5998e-07\n",
      " 6.5999e-07 6.6000e-07] m\n",
      "R             fluxes@latest@model: [0.95386854 0.95519496 0.9553242  ... 0.9830629\n",
      " 0.98290127 0.98210346]\n",
      "          spe_method@latest@model: integrate\n"
     ]
    }
   ],
   "source": [
    "print(b.get_model(kind='spe'))"
   ]
  },
  {
   "cell_type": "markdown",
   "metadata": {},
   "source": [
    "To save results:"
   ]
  },
  {
   "cell_type": "code",
   "execution_count": 15,
   "metadata": {},
   "outputs": [],
   "source": [
    "times = b['times@spe01@phoebe01@latest@spe@model'].value\n",
    "wavelengths = b['wavelengths@spe01@phoebe01@latest@spe@model'].value\n",
    "fluxes = b['fluxes@spe01@phoebe01@latest@spe@model'].value\n",
    "\n",
    "np.savetxt('model.out', np.c_[times, wavelengths, fluxes], header='times wavelenghts fluxes')"
   ]
  },
  {
   "cell_type": "markdown",
   "metadata": {},
   "source": [
    "Plotting\n",
    "-----------\n",
    "\n",
    "To plot results:"
   ]
  },
  {
   "cell_type": "code",
   "execution_count": 16,
   "metadata": {},
   "outputs": [
    {
     "name": "stderr",
     "output_type": "stream",
     "text": [
      "/home/mira/.local/lib/python3.9/site-packages/phoebe/dependencies/autofig/axes.py:1273: UserWarning: Attempting to set identical left == right == 0.25 results in singular transformations; automatically expanding.\n",
      "  ax.set_xlim(xlim)\n"
     ]
    },
    {
     "data": {
      "image/png": "[encoded data removed]",
      "text/plain": [
       "<Figure size 576x432 with 1 Axes>"
      ]
     },
     "metadata": {
      "needs_background": "light"
     },
     "output_type": "display_data"
    },
    {
     "data": {
      "text/plain": [
       "(<autofig.figure.Figure | 1 axes | 2 call(s)>,\n",
       " <Figure size 576x432 with 1 Axes>)"
      ]
     },
     "execution_count": 16,
     "metadata": {},
     "output_type": "execute_result"
    }
   ],
   "source": [
    "b.plot(show=True)"
   ]
  },
  {
   "cell_type": "markdown",
   "metadata": {},
   "source": [
    "Well, this was for a single time, wasn't it? It is much more interesting to see the dependence on wavelengths!"
   ]
  },
  {
   "cell_type": "code",
   "execution_count": 17,
   "metadata": {},
   "outputs": [
    {
     "data": {
      "image/png": "[encoded data removed]",
      "text/plain": [
       "<Figure size 576x432 with 1 Axes>"
      ]
     },
     "metadata": {
      "needs_background": "light"
     },
     "output_type": "display_data"
    },
    {
     "data": {
      "text/plain": [
       "(<autofig.figure.Figure | 1 axes | 2 call(s)>,\n",
       " <Figure size 576x432 with 1 Axes>)"
      ]
     },
     "execution_count": 17,
     "metadata": {},
     "output_type": "execute_result"
    }
   ],
   "source": [
    "b.plot(x='wavelengths', marker='.', show=True)"
   ]
  },
  {
   "cell_type": "markdown",
   "metadata": {},
   "source": [
    "Halpha line is sensitive to teff, logg, rvs of binary components. In the model, an integral over mesh is computed, every triangle has its own synthetic spectrum, so the composite spectrum is influenced by rotation, Roche geometry, von Zeipel, or limb darkening.\n",
    "\n",
    "Note: A 'miniaturized' version of Pyterpol3 (Nemravová et al. 2016, A&A 594, A55) is used internally to interpolate synthetic spectra. Supported grids include: OSTAR, BSTAR, POLLUX, AMBRE, PHOENIX, or POWR. They must be downloaded (http://sirrah.troja.mff.cuni.cz/~mira/xitau/) and present in the `grids` directory."
   ]
  },
  {
   "cell_type": "code",
   "execution_count": null,
   "metadata": {},
   "outputs": [],
   "source": []
  }
 ],
 "metadata": {
  "kernelspec": {
   "display_name": "Python 3",
   "language": "python",
   "name": "python3"
  },
  "language_info": {
   "codemirror_mode": {
    "name": "ipython",
    "version": 3
   },
   "file_extension": ".py",
   "mimetype": "text/x-python",
   "name": "python",
   "nbconvert_exporter": "python",
   "pygments_lexer": "ipython3",
   "version": "3.9.2"
  }
 },
 "nbformat": 4,
 "nbformat_minor": 1
}
