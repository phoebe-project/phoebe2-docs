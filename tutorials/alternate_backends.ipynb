{
 "cells": [
  {
   "cell_type": "markdown",
   "metadata": {},
   "source": [
    "Advanced: Alternate Backends\n",
    "============================\n",
    "\n",
    "Setup\n",
    "-----------------------------"
   ]
  },
  {
   "cell_type": "markdown",
   "metadata": {},
   "source": [
    "As always, let's do imports and initialize a logger and a new Bundle.  See [Building a System](building_a_system.html) for more details."
   ]
  },
  {
   "cell_type": "code",
   "execution_count": 1,
   "metadata": {},
   "outputs": [],
   "source": [
    "import phoebe\n",
    "from phoebe import u # units\n",
    "import numpy as np\n",
    "import matplotlib.pyplot as plt\n",
    "\n",
    "logger = phoebe.logger()\n",
    "\n",
    "b = phoebe.default_binary()"
   ]
  },
  {
   "cell_type": "markdown",
   "metadata": {},
   "source": [
    "And we'll attach some dummy datasets.  See [Datasets](datasets.html) for more details."
   ]
  },
  {
   "cell_type": "code",
   "execution_count": 2,
   "metadata": {},
   "outputs": [
    {
     "data": {
      "text/plain": [
       "<ParameterSet: 3 parameters | contexts: compute, dataset>"
      ]
     },
     "execution_count": 2,
     "metadata": {},
     "output_type": "execute_result"
    }
   ],
   "source": [
    "b.add_dataset('orb', times=np.linspace(0,10,1000), dataset='orb01', component=['primary', 'secondary'])"
   ]
  },
  {
   "cell_type": "code",
   "execution_count": 3,
   "metadata": {},
   "outputs": [
    {
     "data": {
      "text/plain": [
       "<ParameterSet: 15 parameters | contexts: compute, dataset>"
      ]
     },
     "execution_count": 3,
     "metadata": {},
     "output_type": "execute_result"
    }
   ],
   "source": [
    "b.add_dataset('lc', times=np.linspace(0,10,1000), dataset='lc01')"
   ]
  },
  {
   "cell_type": "markdown",
   "metadata": {
    "collapsed": true
   },
   "source": [
    "Available Backends\n",
    "----------------------------\n",
    "\n",
    "See the [Compute Tutorial](./compute) for details on adding compute options and using them to create synthetic models.\n"
   ]
  },
  {
   "cell_type": "markdown",
   "metadata": {},
   "source": [
    "### PHOEBE 1.0 Legacy\n",
    "\n",
    "For more details, see [Comparing PHOEBE 2.0 vs PHOEBE Legacy](../examples/legacy)"
   ]
  },
  {
   "cell_type": "code",
   "execution_count": 4,
   "metadata": {},
   "outputs": [
    {
     "name": "stdout",
     "output_type": "stream",
     "text": [
      "ParameterSet: 7 parameters\n",
      "  refl_num@legacybackend@compute: 1\n",
      "        ie@legacybackend@compute: False\n",
      "  enabled@lc01@legacybackend@...: True\n",
      "  atm@primary@legacybackend@c...: extern_atmx\n",
      "  atm@secondary@legacybackend...: extern_atmx\n",
      "  gridsize@primary@legacyback...: 60\n",
      "  gridsize@secondary@legacyba...: 60\n"
     ]
    }
   ],
   "source": [
    "b.add_compute('legacy', compute='legacybackend')\n",
    "print b['legacybackend']"
   ]
  },
  {
   "cell_type": "markdown",
   "metadata": {},
   "source": [
    "Using Alternate Backends\n",
    "---------------------------------\n"
   ]
  },
  {
   "cell_type": "markdown",
   "metadata": {},
   "source": [
    "### Adding Compute Options\n",
    "\n",
    "Adding a set of compute options for an alternate backend is just as easy as for the PHOEBE backend.  Simply provide the function or name of the function in phoebe.parameters.compute that points to the parameters for that backend.\n",
    "\n",
    "Here we'll add the default PHOEBE backend as well as the PHOEBE 1.0 (legacy) backend.  Note that in order to use an alternate backend, that backend must be installed on your machine."
   ]
  },
  {
   "cell_type": "code",
   "execution_count": 5,
   "metadata": {
    "scrolled": true
   },
   "outputs": [
    {
     "data": {
      "text/plain": [
       "<ParameterSet: 18 parameters | datasets: lc01, orb01>"
      ]
     },
     "execution_count": 5,
     "metadata": {},
     "output_type": "execute_result"
    }
   ],
   "source": [
    "b.add_compute('phoebe', compute='phoebebackend')"
   ]
  },
  {
   "cell_type": "code",
   "execution_count": 6,
   "metadata": {},
   "outputs": [
    {
     "name": "stdout",
     "output_type": "stream",
     "text": [
      "ParameterSet: 18 parameters\n",
      "  dynamics_method@phoebebacke...: keplerian\n",
      "      ltte@phoebebackend@compute: False\n",
      "  irrad_method@phoebebackend@...: wilson\n",
      "  boosting_method@phoebebacke...: none\n",
      "  eclipse_method@phoebebacken...: native\n",
      "  horizon_method@phoebebacken...: boolean\n",
      "  enabled@lc01@phoebebackend@...: True\n",
      "  enabled@orb01@phoebebackend...: True\n",
      "  mesh_method@primary@phoebeb...: marching\n",
      "  mesh_method@secondary@phoeb...: marching\n",
      "  ntriangles@primary@phoebeba...: 1500\n",
      "  ntriangles@secondary@phoebe...: 1500\n",
      "  distortion_method@primary@p...: roche\n",
      "  distortion_method@secondary...: roche\n",
      "  atm@primary@phoebebackend@c...: ck2004\n",
      "  atm@secondary@phoebebackend...: ck2004\n",
      "  lc_method@lc01@phoebebacken...: numerical\n",
      "  fti_method@lc01@phoebebacke...: none\n"
     ]
    }
   ],
   "source": [
    "print b['phoebebackend']"
   ]
  },
  {
   "cell_type": "markdown",
   "metadata": {},
   "source": [
    "### Running Compute\n",
    "\n",
    "Nothing changes for running compute - simply provide the compute tag for those options.  Do note, however, that not all backends support all dataset types."
   ]
  },
  {
   "cell_type": "markdown",
   "metadata": {},
   "source": [
    "But, since the legacy backend doesn't support ck2004 atmospheres and interpolated limb-darkening, we do need to choose a limb-darkening law."
   ]
  },
  {
   "cell_type": "code",
   "execution_count": 7,
   "metadata": {},
   "outputs": [
    {
     "name": "stderr",
     "output_type": "stream",
     "text": [
      "Thu, 04 Oct 2018 14:48 PARAMETERS   WARNING ld_func='interp' only supported by atm='ck2004'.  Either change atm@primary or ld_func@primary@lc01  If not addressed, this warning will continue to be raised and will throw an error at run_compute.\n",
      "Thu, 04 Oct 2018 14:48 PARAMETERS   WARNING ld_func='interp' only supported by atm='ck2004'.  Either change atm@secondary or ld_func@secondary@lc01  If not addressed, this warning will continue to be raised and will throw an error at run_compute.\n"
     ]
    }
   ],
   "source": [
    "b.set_value_all('ld_func', 'logarithmic')"
   ]
  },
  {
   "cell_type": "code",
   "execution_count": 8,
   "metadata": {},
   "outputs": [
    {
     "name": "stderr",
     "output_type": "stream",
     "text": [
      "Thu, 04 Oct 2018 14:48 IO           WARNING requiv_max@primary@star@component has no phoebe 1 corollary\n",
      "Thu, 04 Oct 2018 14:48 IO           WARNING freq@primary@star@component has no phoebe 1 corollary\n",
      "Thu, 04 Oct 2018 14:48 IO           WARNING pitch@primary@star@component has no phoebe 1 corollary\n",
      "Thu, 04 Oct 2018 14:48 IO           WARNING yaw@primary@star@component has no phoebe 1 corollary\n",
      "Thu, 04 Oct 2018 14:48 IO           WARNING long_an@primary@star@component has no phoebe 1 corollary\n",
      "Thu, 04 Oct 2018 14:48 IO           WARNING irrad_frac_lost_bol@primary@star@component has no phoebe 1 corollary\n",
      "Thu, 04 Oct 2018 14:48 IO           WARNING ld_func_bol@primary@star@component has no phoebe 1 corollary\n",
      "Thu, 04 Oct 2018 14:48 IO           WARNING mass@primary@star@component has no phoebe 1 corollary\n",
      "Thu, 04 Oct 2018 14:48 IO           WARNING requiv_max@secondary@star@component has no phoebe 1 corollary\n",
      "Thu, 04 Oct 2018 14:48 IO           WARNING freq@secondary@star@component has no phoebe 1 corollary\n",
      "Thu, 04 Oct 2018 14:48 IO           WARNING pitch@secondary@star@component has no phoebe 1 corollary\n",
      "Thu, 04 Oct 2018 14:48 IO           WARNING yaw@secondary@star@component has no phoebe 1 corollary\n",
      "Thu, 04 Oct 2018 14:48 IO           WARNING long_an@secondary@star@component has no phoebe 1 corollary\n",
      "Thu, 04 Oct 2018 14:48 IO           WARNING irrad_frac_lost_bol@secondary@star@component has no phoebe 1 corollary\n",
      "Thu, 04 Oct 2018 14:48 IO           WARNING ld_func_bol@secondary@star@component has no phoebe 1 corollary\n",
      "Thu, 04 Oct 2018 14:48 IO           WARNING mass@secondary@star@component has no phoebe 1 corollary\n",
      "Thu, 04 Oct 2018 14:48 IO           WARNING pblum_ref@secondary@lc01@lc_dep@dataset has no phoebe 1 corollary\n",
      "Thu, 04 Oct 2018 14:48 IO           WARNING fti_method@lc01@phoebebackend@phoebe@compute has no phoebe 1 corollary\n",
      "Thu, 04 Oct 2018 14:48 IO           WARNING fti_method@lc01@phoebe01@phoebe@compute has no phoebe 1 corollary\n",
      "Thu, 04 Oct 2018 14:48 IO           WARNING pblum_ref@primary@lc01@lc_dep@dataset has no phoebe 1 corollary\n",
      "Thu, 04 Oct 2018 14:48 IO           WARNING lc_method@lc01@phoebe01@phoebe@compute has no phoebe 1 corollary\n",
      "Thu, 04 Oct 2018 14:48 IO           WARNING intens_weighting@lc01@lc_dep@dataset has no phoebe 1 corollary\n",
      "Thu, 04 Oct 2018 14:48 IO           WARNING lc_method@lc01@phoebebackend@phoebe@compute has no phoebe 1 corollary\n",
      "Thu, 04 Oct 2018 14:48 IO           WARNING Finite integration Time is not fully supported and will be turned off by legacy wrapper before computation\n",
      "Thu, 04 Oct 2018 14:48 IO           WARNING freq@binary@orbit@component has no phoebe 1 corollary\n",
      "Thu, 04 Oct 2018 14:48 IO           WARNING t0_perpass@binary@orbit@component has no phoebe 1 corollary\n",
      "Thu, 04 Oct 2018 14:48 IO           WARNING t0_supconj@binary@orbit@component has no phoebe 1 corollary\n",
      "Thu, 04 Oct 2018 14:48 IO           WARNING mean_anom@binary@orbit@component has no phoebe 1 corollary\n",
      "Thu, 04 Oct 2018 14:48 IO           WARNING long_an@binary@orbit@component has no phoebe 1 corollary\n",
      "Thu, 04 Oct 2018 14:48 IO           WARNING asini@binary@orbit@component has no phoebe 1 corollary\n",
      "Thu, 04 Oct 2018 14:48 IO           WARNING ecosw@binary@orbit@component has no phoebe 1 corollary\n",
      "Thu, 04 Oct 2018 14:48 IO           WARNING esinw@binary@orbit@component has no phoebe 1 corollary\n",
      "Thu, 04 Oct 2018 14:48 IO           WARNING t0@system has no phoebe 1 corollary\n",
      "Thu, 04 Oct 2018 14:48 IO           WARNING ra@system has no phoebe 1 corollary\n",
      "Thu, 04 Oct 2018 14:48 IO           WARNING dec@system has no phoebe 1 corollary\n",
      "Thu, 04 Oct 2018 14:48 IO           WARNING epoch@system has no phoebe 1 corollary\n",
      "Thu, 04 Oct 2018 14:48 IO           WARNING distance@system has no phoebe 1 corollary\n",
      "Thu, 04 Oct 2018 14:48 IO           WARNING hierarchy@system has no phoebe 1 corollary\n"
     ]
    },
    {
     "data": {
      "text/plain": [
       "<ParameterSet: 2 parameters | qualifiers: fluxes, times>"
      ]
     },
     "execution_count": 8,
     "metadata": {},
     "output_type": "execute_result"
    }
   ],
   "source": [
    "b.run_compute('legacybackend', model='legacyresults')"
   ]
  },
  {
   "cell_type": "markdown",
   "metadata": {},
   "source": [
    "Running Multiple Backends Simultaneously\n",
    "---------------------------------------------------\n",
    "\n",
    "Running multiple backends simultaneously is just as simple as running the PHOEBE backend with multiple sets of compute options (see [Compute](compute.html)).\n",
    "\n",
    "We just need to make sure that each dataset is only enabled for one (or none) of the backends that we want to use, and then send a list of the compute tags to run_compute.  Here we'll use the PHOEBE backend to compute orbits and the legacy backend to compute light curves."
   ]
  },
  {
   "cell_type": "code",
   "execution_count": 9,
   "metadata": {},
   "outputs": [
    {
     "name": "stdout",
     "output_type": "stream",
     "text": [
      "ParameterSet: 5 parameters\n",
      "  enabled@orb01@phoebe01@compute: True\n",
      "   enabled@lc01@phoebe01@compute: True\n",
      "  enabled@lc01@legacybackend@...: True\n",
      "  enabled@lc01@phoebebackend@...: False\n",
      "  enabled@orb01@phoebebackend...: True\n"
     ]
    }
   ],
   "source": [
    "b.set_value_all('enabled@lc01@phoebebackend', False)\n",
    "#b.set_value_all('enabled@orb01@legacybackend', False)  # don't need this since legacy NEVER computes orbits\n",
    "print b['enabled']"
   ]
  },
  {
   "cell_type": "code",
   "execution_count": 10,
   "metadata": {},
   "outputs": [
    {
     "name": "stderr",
     "output_type": "stream",
     "text": [
      "Thu, 04 Oct 2018 14:49 IO           WARNING requiv_max@primary@star@component has no phoebe 1 corollary\n",
      "Thu, 04 Oct 2018 14:49 IO           WARNING freq@primary@star@component has no phoebe 1 corollary\n",
      "Thu, 04 Oct 2018 14:49 IO           WARNING pitch@primary@star@component has no phoebe 1 corollary\n",
      "Thu, 04 Oct 2018 14:49 IO           WARNING yaw@primary@star@component has no phoebe 1 corollary\n",
      "Thu, 04 Oct 2018 14:49 IO           WARNING long_an@primary@star@component has no phoebe 1 corollary\n",
      "Thu, 04 Oct 2018 14:49 IO           WARNING irrad_frac_lost_bol@primary@star@component has no phoebe 1 corollary\n",
      "Thu, 04 Oct 2018 14:49 IO           WARNING ld_func_bol@primary@star@component has no phoebe 1 corollary\n",
      "Thu, 04 Oct 2018 14:49 IO           WARNING mass@primary@star@component has no phoebe 1 corollary\n",
      "Thu, 04 Oct 2018 14:49 IO           WARNING requiv_max@secondary@star@component has no phoebe 1 corollary\n",
      "Thu, 04 Oct 2018 14:49 IO           WARNING freq@secondary@star@component has no phoebe 1 corollary\n",
      "Thu, 04 Oct 2018 14:49 IO           WARNING pitch@secondary@star@component has no phoebe 1 corollary\n",
      "Thu, 04 Oct 2018 14:49 IO           WARNING yaw@secondary@star@component has no phoebe 1 corollary\n",
      "Thu, 04 Oct 2018 14:49 IO           WARNING long_an@secondary@star@component has no phoebe 1 corollary\n",
      "Thu, 04 Oct 2018 14:49 IO           WARNING irrad_frac_lost_bol@secondary@star@component has no phoebe 1 corollary\n",
      "Thu, 04 Oct 2018 14:49 IO           WARNING ld_func_bol@secondary@star@component has no phoebe 1 corollary\n",
      "Thu, 04 Oct 2018 14:49 IO           WARNING mass@secondary@star@component has no phoebe 1 corollary\n",
      "Thu, 04 Oct 2018 14:49 IO           WARNING pblum_ref@secondary@lc01@lc_dep@dataset has no phoebe 1 corollary\n",
      "Thu, 04 Oct 2018 14:49 IO           WARNING fti_method@lc01@phoebebackend@phoebe@compute has no phoebe 1 corollary\n",
      "Thu, 04 Oct 2018 14:49 IO           WARNING fti_method@lc01@phoebe01@phoebe@compute has no phoebe 1 corollary\n",
      "Thu, 04 Oct 2018 14:49 IO           WARNING pblum_ref@primary@lc01@lc_dep@dataset has no phoebe 1 corollary\n",
      "Thu, 04 Oct 2018 14:49 IO           WARNING lc_method@lc01@phoebe01@phoebe@compute has no phoebe 1 corollary\n",
      "Thu, 04 Oct 2018 14:49 IO           WARNING intens_weighting@lc01@lc_dep@dataset has no phoebe 1 corollary\n",
      "Thu, 04 Oct 2018 14:49 IO           WARNING lc_method@lc01@phoebebackend@phoebe@compute has no phoebe 1 corollary\n",
      "Thu, 04 Oct 2018 14:49 IO           WARNING Finite integration Time is not fully supported and will be turned off by legacy wrapper before computation\n",
      "Thu, 04 Oct 2018 14:49 IO           WARNING freq@binary@orbit@component has no phoebe 1 corollary\n",
      "Thu, 04 Oct 2018 14:49 IO           WARNING t0_perpass@binary@orbit@component has no phoebe 1 corollary\n",
      "Thu, 04 Oct 2018 14:49 IO           WARNING t0_supconj@binary@orbit@component has no phoebe 1 corollary\n",
      "Thu, 04 Oct 2018 14:49 IO           WARNING mean_anom@binary@orbit@component has no phoebe 1 corollary\n",
      "Thu, 04 Oct 2018 14:49 IO           WARNING long_an@binary@orbit@component has no phoebe 1 corollary\n",
      "Thu, 04 Oct 2018 14:49 IO           WARNING asini@binary@orbit@component has no phoebe 1 corollary\n",
      "Thu, 04 Oct 2018 14:49 IO           WARNING ecosw@binary@orbit@component has no phoebe 1 corollary\n",
      "Thu, 04 Oct 2018 14:49 IO           WARNING esinw@binary@orbit@component has no phoebe 1 corollary\n",
      "Thu, 04 Oct 2018 14:49 IO           WARNING t0@system has no phoebe 1 corollary\n",
      "Thu, 04 Oct 2018 14:49 IO           WARNING ra@system has no phoebe 1 corollary\n",
      "Thu, 04 Oct 2018 14:49 IO           WARNING dec@system has no phoebe 1 corollary\n",
      "Thu, 04 Oct 2018 14:49 IO           WARNING epoch@system has no phoebe 1 corollary\n",
      "Thu, 04 Oct 2018 14:49 IO           WARNING distance@system has no phoebe 1 corollary\n",
      "Thu, 04 Oct 2018 14:49 IO           WARNING hierarchy@system has no phoebe 1 corollary\n"
     ]
    },
    {
     "data": {
      "text/plain": [
       "<ParameterSet: 16 parameters | kinds: orb, lc>"
      ]
     },
     "execution_count": 10,
     "metadata": {},
     "output_type": "execute_result"
    }
   ],
   "source": [
    "b.run_compute(['phoebebackend', 'legacybackend'], model='mixedresults')"
   ]
  },
  {
   "cell_type": "markdown",
   "metadata": {},
   "source": [
    "The parameters inside the returned model even remember which set of compute options (and therefore, in this case, which backend) were used to compute them."
   ]
  },
  {
   "cell_type": "code",
   "execution_count": 11,
   "metadata": {
    "scrolled": true
   },
   "outputs": [
    {
     "name": "stdout",
     "output_type": "stream",
     "text": [
      "['legacybackend', 'phoebebackend']\n"
     ]
    }
   ],
   "source": [
    "print b['mixedresults'].computes"
   ]
  },
  {
   "cell_type": "code",
   "execution_count": 12,
   "metadata": {},
   "outputs": [
    {
     "data": {
      "text/plain": [
       "['orb01']"
      ]
     },
     "execution_count": 12,
     "metadata": {},
     "output_type": "execute_result"
    }
   ],
   "source": [
    "b['mixedresults@phoebebackend'].datasets"
   ]
  },
  {
   "cell_type": "code",
   "execution_count": 13,
   "metadata": {},
   "outputs": [
    {
     "data": {
      "text/plain": [
       "['lc01']"
      ]
     },
     "execution_count": 13,
     "metadata": {},
     "output_type": "execute_result"
    }
   ],
   "source": [
    "b['mixedresults@legacybackend'].datasets"
   ]
  }
 ],
 "metadata": {
  "kernelspec": {
   "display_name": "Python 2",
   "language": "python",
   "name": "python2"
  },
  "language_info": {
   "codemirror_mode": {
    "name": "ipython",
    "version": 2
   },
   "file_extension": ".py",
   "mimetype": "text/x-python",
   "name": "python",
   "nbconvert_exporter": "python",
   "pygments_lexer": "ipython2",
   "version": "2.7.15rc1"
  }
 },
 "nbformat": 4,
 "nbformat_minor": 1
}
